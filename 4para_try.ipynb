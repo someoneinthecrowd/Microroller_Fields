{
 "cells": [
  {
   "cell_type": "code",
   "execution_count": 72,
   "metadata": {},
   "outputs": [],
   "source": [
    "import numpy as np\n",
    "import numpy.linalg as la\n",
    "import matplotlib.pyplot as plt \n",
    "from numpy import cos\n",
    "from numpy import sin\n",
    "import scipy.integrate as integrate\n",
    "import time\n",
    "from skopt import gp_minimize\n",
    "import pandas as pd\n",
    "import time\n",
    "from neat.parallel import ParallelEvaluator\n",
    "import multiprocessing as mp\n",
    "from multiprocessing import Pool\n",
    "from matplotlib import cm\n",
    "\n",
    "from mpl_toolkits.mplot3d import Axes3D"
   ]
  },
  {
   "cell_type": "code",
   "execution_count": 59,
   "metadata": {},
   "outputs": [],
   "source": [
    "## whole field\n",
    "def B(t):\n",
    "    global v\n",
    "    global n\n",
    "    global w\n",
    "    global a\n",
    "    v1=v[0]\n",
    "    v2=v[1]\n",
    "    v3=v[2]\n",
    "    v4=v[3]\n",
    "    v5=v[4]\n",
    "    v6=v[5]\n",
    "    v7=v[6]\n",
    "    return np.dot(np.array([[1,0,0],[0,cos(a),-sin(a)],[0,sin(a),cos(a)]]),\\\n",
    "    v1*(np.array([-1,0,0])*cos(w*t) +np.array([0,1,0])*sin(w*t) )+\\\n",
    "    v2*(np.array([1,0,0])*cos((n-1)*w*t) +np.array([0,1,0])*sin((n-1)*w*t))+\\\n",
    "    v3*(np.array([0,-1,0])*cos((n-1)*w*t) +np.array([1,0,0])*sin((n-1)*w*t))+\\\n",
    "    v4*(np.array([0,0,1])*sin(n*w*t))+\\\n",
    "    v5*(np.array([0,0,1])*cos(n*w*t))+\\\n",
    "    v6*(np.array([-1,0,0])*cos((n+1)*w*t) +np.array([0,1,0])*sin((n+1)*w*t))+\\\n",
    "    v7*(np.array([0,1,0])*cos((n+1)*w*t) +np.array([1,0,0])*sin((n+1)*w*t)))\n",
    "    \n",
    "def B_prime(t):\n",
    "    global v\n",
    "    global n\n",
    "    global w\n",
    "    global a\n",
    "    v1=v[0]\n",
    "    v2=v[1]\n",
    "    v3=v[2]\n",
    "    v4=v[3]\n",
    "    v5=v[4]\n",
    "    v6=v[5]\n",
    "    v7=v[6]\n",
    "    return np.dot(np.array([[1,0,0],[0,cos(a),-sin(a)],[0,sin(a),cos(a)]]),\\\n",
    "    v1*(np.array([-1,0,0])*(-1)*sin(w*t) +np.array([0,1,0])*cos(w*t) )*w+\\\n",
    "    v2*(np.array([1,0,0])*(-1)*(n-1)*sin((n-1)*w*t) +np.array([0,1,0])*(n-1)*cos((n-1)*w*t))*w+\\\n",
    "    v3*(np.array([0,-1,0])*(-1)*(n-1)*sin((n-1)*w*t) +np.array([1,0,0])*(n-1)*cos((n-1)*w*t))*w+\\\n",
    "    v4*(np.array([0,0,1])*n*cos(n*w*t))*w+\\\n",
    "    v5*(np.array([0,0,1])*(-1)*n*sin(n*w*t))*w+\\\n",
    "    v6*(np.array([-1,0,0])*(-1)*(n+1)*sin((n+1)*w*t) +np.array([0,1,0])*(n+1)*cos((n+1)*w*t))*w+\\\n",
    "    v7*(np.array([0,1,0])*(-1)*(n+1)*sin((n+1)*w*t) +np.array([1,0,0])*(n+1)*cos((n+1)*w*t))*w)\n",
    "\n",
    "def B_prime2(t):\n",
    "    global v\n",
    "    global n\n",
    "    global w\n",
    "    global a\n",
    "    v1=v[0]\n",
    "    v2=v[1]\n",
    "    v3=v[2]\n",
    "    v4=v[3]\n",
    "    v5=v[4]\n",
    "    v6=v[5]\n",
    "    v7=v[6]\n",
    "    return np.dot(np.array([[1,0,0],[0,cos(a),-sin(a)],[0,sin(a),cos(a)]]),\\\n",
    "    v1*(np.array([-1,0,0])*(-1)*cos(w*t) +np.array([0,1,0])*(-1)*sin(w*t) )*w*w+\\\n",
    "    v2*(np.array([1,0,0])*(-1)*(n-1)*(n-1)*cos((n-1)*w*t) +np.array([0,1,0])*(-1)*(n-1)*(n-1)*sin((n-1)*w*t))*w*w+\\\n",
    "    v3*(np.array([0,-1,0])*(-1)*(n-1)*(n-1)*cos((n-1)*w*t) +np.array([1,0,0])*(-1)*(n-1)*(n-1)*sin((n-1)*w*t))*w*w+\\\n",
    "    v4*(np.array([0,0,1])*(-1)*n*n*sin(n*w*t))*w*w+\\\n",
    "    v5*(np.array([0,0,1])*(-1)*n*n*cos(n*w*t))*w*w+\\\n",
    "    v6*(np.array([-1,0,0])*(-1)*(n+1)*(n+1)*cos((n+1)*w*t) +np.array([0,1,0])*(-1)*(n+1)*(n+1)*sin((n+1)*w*t))*w*w+\\\n",
    "    v7*(np.array([0,1,0])*(-1)*(n+1)*(n+1)*cos((n+1)*w*t) +np.array([1,0,0])*(-1)*(n+1)*(n+1)*sin((n+1)*w*t))*w*w)\n",
    "\n",
    "\n",
    "\n",
    "\n",
    "\n",
    "\n",
    "\n",
    "    "
   ]
  },
  {
   "cell_type": "code",
   "execution_count": 60,
   "metadata": {},
   "outputs": [],
   "source": [
    "lam=1.8686003910229945\n",
    "v=np.random.uniform(low=-1, high=1, size=(7,))\n",
    "v=[1,-1,0,0.5,1,-0.5,-1]\n",
    "n=6\n",
    "w=1\n",
    "Y=0.10772427142152266\n",
    "a=-5/180*np.pi\n"
   ]
  },
  {
   "cell_type": "code",
   "execution_count": 61,
   "metadata": {},
   "outputs": [],
   "source": [
    "v=[1,-1,0,0.5,1,-0.5,-1]\n"
   ]
  },
  {
   "cell_type": "markdown",
   "metadata": {},
   "source": [
    "## each direction \n",
    "\n"
   ]
  },
  {
   "cell_type": "code",
   "execution_count": 62,
   "metadata": {},
   "outputs": [],
   "source": [
    "## ux1,uy1,\n",
    "def ux1(T):\n",
    "    global lam\n",
    "    Bx,By,Bz=B(T)\n",
    "    Bx_p,By_p,Bz_p=B_prime(T)\n",
    "    return ( Bz/(lam*(Bx**2+By**2)+Bz**2)*((lam*Bx**2+By**2+Bz**2)*Bx_p+(-1+lam)*Bx*By*By_p)- Bx*Bz_p  )\\\n",
    "    /(Bx**2+By**2+Bz**2)\n",
    "def uy1(T):\n",
    "    Bx,By,Bz=B(T)\n",
    "    Bx_p,By_p,Bz_p=B_prime(T)\n",
    "    return ( Bz/(lam*(Bx**2+By**2)+Bz**2)*((Bx**2+lam*By**2+Bz**2)*By_p+(-1+lam)*Bx*By*Bx_p)-By*Bz_p )\\\n",
    "    /(Bx**2+By**2+Bz**2)"
   ]
  },
  {
   "cell_type": "code",
   "execution_count": 63,
   "metadata": {},
   "outputs": [],
   "source": [
    "## ux2\n",
    "def ux2(T):\n",
    "    global lam\n",
    "    Bx,By,Bz=B(T)\n",
    "    Bx_p,By_p,Bz_p=B_prime(T)\n",
    "    Bx_p2,By_p2,Bz_p2=B_prime2(T)\n",
    "    \n",
    "    \n",
    "    a1=Bx*Bz*(Bx**2+By**2+Bz**2)**2*(By*Bx_p-Bx*By_p)**2/(lam*Bx**2+lam*By**2+Bz**2)**2\n",
    "    #############\n",
    "    a2=(2*By*Bz**2*(By*Bx_p-Bx*By_p) *(-Bx*Bz*Bx_p+Bx**2*Bz_p+By *(-Bz*By_p +By*Bz_p)))\\\n",
    "    /(lam*Bx**2+lam*By**2+Bz**2)\n",
    "    \n",
    "    ##########\n",
    "    a3= (2*By*Bz*(Bx**2 + By**2 + Bz**2)*(-2*(Bx**2 + By**2 + Bz**2)*(lam*Bx**2 + lam*By**2 + Bz**2)*\\\n",
    "    (-(By*Bx_p) + Bx*By_p)*(Bx*Bx_p+ \n",
    "    By*By_p) + (Bx**2 + By**2)*(lam*Bx**2 + lam*By**2 + Bz**2)*\n",
    "    (-(By*Bx_p) + Bx*By_p)*(Bx*Bx_p + \n",
    "    By*By_p + Bz*Bz_p) - \n",
    "    2*(Bx**2 + By**2)*(Bx**2 + By**2 + Bz**2)*(-(By*Bx_p) +\n",
    "    Bx*By_p)*(lam*Bx*Bx_p + lam*By*By_p + \n",
    "    Bz*Bz_p) + (Bz*((2 - lam)*Bx**2 - (-2 + lam)*By**2 + Bz**2)*\n",
    "    (lam*Bx**2 + lam*By**2 + Bz**2)*(-(By*Bx_p) + Bx*By_p)*\n",
    "    (-(Bx**2*Bz_p) + Bx*Bz*Bx_p + \n",
    "    By*(Bz*By_p - By*Bz_p)))/(Bx**2 + By**2 + Bz**2) + \n",
    "    (Bx**2 + By**2)*(Bx**2 + By**2 + Bz**2)*(lam*Bx**2 + lam*By**2 + Bz**2)*\n",
    "    (-(By*Bx_p2) + Bx*By_p2)))/\\\n",
    "    ((lam*Bx**2 + lam*By**2 + Bz**2)**2*(lam*(Bx**2 + By**2) + Bz**2))\n",
    "    a4=Bx*((Bz*(Bx**2 + By**2 + Bz**2)**2*(By*Bx_p - Bx*By_p)**2)\\\n",
    "    /(lam*Bx**2 + lam*By**2 + Bz**2)**2 - \n",
    "    2*(Bx*Bx_p + By*By_p)*(-(Bx*Bz*Bx_p) + \n",
    "    Bx**2*Bz_p + By*(-(Bz*By_p) + By*Bz_p)) - \n",
    "    (6*(Bx**2 + By**2)*(Bx*Bx_p + By*By_p + \n",
    "    Bz*Bz_p)*(-(Bx*Bz*Bx_p) + Bx**2*Bz_p + \n",
    "    By*(-(Bz*By_p) + By*Bz_p)))/\n",
    "    (Bx**2 + By**2 + Bz**2) + 2*(Bx**2 + By**2)*\n",
    "    (Bx*Bx_p*Bz_p - \n",
    "    Bz*(Bx_p**2 + By_p**2 + Bx*Bx_p2 + \n",
    "    By*By_p2) + Bx**2*Bz_p2 + \n",
    "    By*(By_p*Bz_p + By*Bz_p2)))\n",
    "    \n",
    "    \n",
    "    return (a1+a2+a3+a4)/(2*(Bx**2+By**2 )**2*(Bx**2+By**2+Bz**2)**1.5)\n",
    "\n"
   ]
  },
  {
   "cell_type": "code",
   "execution_count": 64,
   "metadata": {},
   "outputs": [],
   "source": [
    "## uy2\n",
    "def uy2(T):\n",
    "    global lam\n",
    "    Bx,By,Bz=B(T)\n",
    "    Bx_p,By_p,Bz_p=B_prime(T)\n",
    "    Bx_p2,By_p2,Bz_p2=B_prime2(T)\n",
    "    return ((By*Bz*(Bx**2 + By**2 + Bz**2)**2*(By*Bx_p - Bx*By_p)**2)\\\n",
    "             /(lam*Bx**2 + lam*By**2 + Bz**2)**2 + \n",
    "            (2*Bx*Bz**2*(-(By*Bx_p) + Bx*By_p)*\\\n",
    "            (-(Bx*Bz*Bx_p) + Bx**2*Bz_p + \n",
    "            By*(-(Bz*By_p) + By*Bz_p)))/\n",
    "            (lam*Bx**2 + lam*By**2 + Bz**2) - (2*Bx*Bz*(Bx**2 + By**2 + Bz**2)*\\\n",
    "            (-2*(Bx**2 + By**2 + Bz**2)*(lam*Bx**2 + lam*By**2 + Bz**2)*\\\n",
    "            (-(By*Bx_p) + Bx*By_p)*(Bx*Bx_p + \n",
    "            By*By_p) + (Bx**2 + By**2)*(lam*Bx**2 + lam*By**2 + Bz**2)*\\\n",
    "            (-(By*Bx_p) + Bx*By_p)*(Bx*Bx_p + \n",
    "            By*By_p + Bz*Bz_p) - \n",
    "            2*(Bx**2 + By**2)*(Bx**2 + By**2 + Bz**2)*(-(By*Bx_p) + \n",
    "            Bx*By_p)*(lam*Bx*Bx_p + lam*By*By_p + \n",
    "            Bz*Bz_p) + (Bz*((2 - lam)*Bx**2 - (-2 + lam)*By**2 + Bz**2)*\\\n",
    "            (lam*Bx**2 + lam*By**2 + Bz**2)*(-(By*Bx_p) + \n",
    "            Bx*By_p)*(Bx*Bz*Bx_p - Bx**2*Bz_p + \n",
    "            By*(Bz*By_p - By*Bz_p)))/ \\\n",
    "            (Bx**2 + By**2 + Bz**2) + (Bx**2 + By**2)*(Bx**2 + By**2 + Bz**2)*\\\n",
    "            (lam*Bx**2 + lam*By**2 + Bz**2)*(-(By*Bx_p2) + \n",
    "            Bx*By_p2)))/((lam*Bx**2 + lam*By**2 + Bz**2)**2*\\\n",
    "            (lam*(Bx**2 + By**2) + Bz**2)) + \n",
    "            By*((Bz*(Bx**2 + By**2 + Bz**2)**2*(By*Bx_p - \n",
    "            Bx*By_p)**2)/(lam*Bx**2 + lam*By**2 + Bz**2)**2 - \n",
    "            2*(Bx*Bx_p + By*By_p)*(-(Bx*Bz*Bx_p) + \n",
    "            Bx**2*Bz_p + By*(-(Bz*By_p) + \n",
    "            By*Bz_p)) - (6*(Bx**2 + By**2)*(Bx*Bx_p + \n",
    "            By*By_p + Bz*Bz_p)*(-(Bx*Bz*Bx_p) + \n",
    "            Bx**2*Bz_p + By*(-(Bz*By_p) + \n",
    "            By*Bz_p)))/(Bx**2 + By**2 + Bz**2) + \n",
    "            2*(Bx**2 + By**2)*(Bx*Bx_p*Bz_p - \n",
    "            Bz*(Bx_p**2 + By_p**2 + Bx*Bx_p2 + \n",
    "            By*By_p2) + Bx**2*Bz_p2 + \n",
    "            By*(By_p*Bz_p + By*Bz_p2))))/\\\n",
    "            (2*(Bx**2 + By**2)**2*(Bx**2 + By**2 + Bz**2)**(3/2))\n",
    "\n"
   ]
  },
  {
   "cell_type": "code",
   "execution_count": 65,
   "metadata": {},
   "outputs": [],
   "source": [
    "import scipy.integrate as integrate\n",
    "def target(vv):\n",
    "    global v\n",
    "    v=vv\n",
    "    dx1=np.mean([ux1(i) for i in np.linspace(0,2*np.pi,1000) ])*2*np.pi\n",
    "    dx2=np.mean([ux2(i) for i in np.linspace(0,2*np.pi,1000) ])*2*np.pi\n",
    "    dy1=np.mean([uy2(i) for i in np.linspace(0,2*np.pi,1000) ])*2*np.pi\n",
    "    return -np.absolute(dy1/(np.absolute(dx1)+np.absolute(dx2)))*np.sign(dy1)"
   ]
  },
  {
   "cell_type": "code",
   "execution_count": 66,
   "metadata": {},
   "outputs": [],
   "source": [
    "import scipy.integrate as integrate\n",
    "def test(vv):\n",
    "    global v\n",
    "    v=vv\n",
    "    dx1=np.mean([ux1(i) for i in np.linspace(0,2*np.pi,1000) ])*2*np.pi\n",
    "    dx2=np.mean([ux2(i) for i in np.linspace(0,2*np.pi,1000) ])*2*np.pi\n",
    "    dy1=np.mean([uy2(i) for i in np.linspace(0,2*np.pi,1000) ])*2*np.pi\n",
    "    return print(\"dx1=\"+str(dx1)+\",dx2=\"+str(dx2)+\",dy2=\"+str(dy1))"
   ]
  },
  {
   "cell_type": "code",
   "execution_count": 67,
   "metadata": {},
   "outputs": [
    {
     "data": {
      "text/plain": [
       "array([ 0.4575632 ,  0.55148109, -0.46659625, -0.34776674, -0.68904363,\n",
       "        0.20860468,  0.85053462])"
      ]
     },
     "execution_count": 67,
     "metadata": {},
     "output_type": "execute_result"
    }
   ],
   "source": [
    "\n",
    "sam= np.array([np.random.uniform(low=-1, high=1),np.random.uniform(low=0.1, high=1),np.random.uniform(low=-1, high=1)])\n",
    "sam= np.random.uniform(low=-1, high=1, size=(7,))\n",
    "sam"
   ]
  },
  {
   "cell_type": "code",
   "execution_count": 68,
   "metadata": {},
   "outputs": [
    {
     "name": "stdout",
     "output_type": "stream",
     "text": [
      "1.1431000232696533\n",
      "-25.621315049158397\n"
     ]
    }
   ],
   "source": [
    "start = time.time()\n",
    "Target=target(sam)\n",
    "end = time.time()\n",
    "print(end - start)\n",
    "print(Target)"
   ]
  },
  {
   "cell_type": "markdown",
   "metadata": {},
   "source": [
    "# Latin hypercude samping"
   ]
  },
  {
   "cell_type": "code",
   "execution_count": 69,
   "metadata": {},
   "outputs": [
    {
     "data": {
      "image/png": "[encoded data removed]",
      "text/plain": [
       "<Figure size 432x288 with 1 Axes>"
      ]
     },
     "metadata": {
      "needs_background": "light"
     },
     "output_type": "display_data"
    }
   ],
   "source": [
    "\n",
    "\n",
    "from smt.sampling_methods import LHS\n",
    "\n",
    "xlimits = np.array([[-1.0, 1.0], [-1.0, 1.0], [-1.0, 1.0], [-1.0, 1.0], [-1.0, 1.0], [-1.0, 1.0], [-1.0, 1.0]])\n",
    "sampling = LHS(xlimits=xlimits)\n",
    "num = 5000\n",
    "test = sampling(num)\n",
    "\n",
    "\n",
    "plt.plot(test[:, 2], test[:, 3], \"o\")\n",
    "plt.xlabel(\"v2\")\n",
    "plt.ylabel(\"v3\")\n",
    "plt.show()"
   ]
  },
  {
   "cell_type": "code",
   "execution_count": 39,
   "metadata": {},
   "outputs": [
    {
     "name": "stdout",
     "output_type": "stream",
     "text": [
      "1543.7625861167908\n"
     ]
    }
   ],
   "source": [
    "start = time.time()\n",
    "p = Pool(mp.cpu_count())\n",
    "result=p.map(target, test)\n",
    "end = time.time()\n",
    "print(end - start)"
   ]
  },
  {
   "cell_type": "code",
   "execution_count": 70,
   "metadata": {
    "scrolled": true
   },
   "outputs": [
    {
     "data": {
      "text/plain": [
       "(-20, 20)"
      ]
     },
     "execution_count": 70,
     "metadata": {},
     "output_type": "execute_result"
    },
    {
     "data": {
      "image/png": "[encoded data removed]",
      "text/plain": [
       "<Figure size 432x288 with 1 Axes>"
      ]
     },
     "metadata": {
      "needs_background": "light"
     },
     "output_type": "display_data"
    }
   ],
   "source": [
    "plt.hist(result,800,facecolor=cm.plasma(0.2), edgecolor=cm.plasma(0.8))\n",
    "plt.xlim(-20,20)\n"
   ]
  },
  {
   "cell_type": "code",
   "execution_count": 78,
   "metadata": {},
   "outputs": [
    {
     "name": "stdout",
     "output_type": "stream",
     "text": [
      "Automatically created module for IPython interactive environment\n",
      "t-SNE: 7.3 sec\n"
     ]
    },
    {
     "data": {
      "image/png": "[encoded data removed]",
      "text/plain": [
       "<Figure size 1080x576 with 2 Axes>"
      ]
     },
     "metadata": {
      "needs_background": "light"
     },
     "output_type": "display_data"
    }
   ],
   "source": [
    "print(__doc__)\n",
    "\n",
    "from collections import OrderedDict\n",
    "from functools import partial\n",
    "\n",
    "\n",
    "from matplotlib.ticker import NullFormatter\n",
    "\n",
    "from sklearn import manifold, datasets\n",
    "\n",
    "# Next line to silence pyflakes. This import is needed.\n",
    "Axes3D\n",
    "\n",
    "n_points = 1000\n",
    "X, color = datasets.make_s_curve(n_points, random_state=0)\n",
    "n_neighbors = 10\n",
    "n_components = 2\n",
    "\n",
    "# Create figure\n",
    "fig = plt.figure(figsize=(15, 8))\n",
    "fig.suptitle(\"Manifold Learning with %i points, %i neighbors\"\n",
    "             % (1000, n_neighbors), fontsize=14)\n",
    "\n",
    "# Add 3d scatter plot\n",
    "ax = fig.add_subplot(251, projection='3d')\n",
    "ax.scatter(X[:, 0], X[:, 1], X[:, 2], c=color, cmap=plt.cm.Spectral)\n",
    "ax.view_init(4, -72)\n",
    "\n",
    "# Set-up manifold methods\n",
    "\n",
    "methods = OrderedDict()\n",
    "methods['t-SNE'] = manifold.TSNE(n_components=n_components, init='pca',\n",
    "                                 random_state=0)\n",
    "\n",
    "# Plot results\n",
    "for i, (label, method) in enumerate(methods.items()):\n",
    "    Y = method.fit_transform(X)\n",
    "    print(\"%s: %.2g sec\" % (label, t1 - t0))\n",
    "    ax = fig.add_subplot(2, 5, 2 + i + (i > 3))\n",
    "    ax.scatter(Y[:, 0], Y[:, 1], c=color, cmap=plt.cm.Spectral)\n",
    "    ax.set_title(\"%s (%.2g sec)\" % (label, t1 - t0))\n",
    "    ax.xaxis.set_major_formatter(NullFormatter())\n",
    "    ax.yaxis.set_major_formatter(NullFormatter())\n",
    "    ax.axis('tight')\n",
    "\n",
    "plt.show()\n"
   ]
  },
  {
   "cell_type": "code",
   "execution_count": 76,
   "metadata": {},
   "outputs": [
    {
     "data": {
      "text/plain": [
       "OrderedDict([('LLE',\n",
       "              LocallyLinearEmbedding(eigen_solver='auto', hessian_tol=0.0001, max_iter=100,\n",
       "                                     method='standard', modified_tol=1e-12, n_components=2,\n",
       "                                     n_jobs=None, n_neighbors=10, neighbors_algorithm='auto',\n",
       "                                     random_state=None, reg=0.001, tol=1e-06)),\n",
       "             ('LTSA',\n",
       "              LocallyLinearEmbedding(eigen_solver='auto', hessian_tol=0.0001, max_iter=100,\n",
       "                                     method='ltsa', modified_tol=1e-12, n_components=2,\n",
       "                                     n_jobs=None, n_neighbors=10, neighbors_algorithm='auto',\n",
       "                                     random_state=None, reg=0.001, tol=1e-06)),\n",
       "             ('Hessian LLE',\n",
       "              LocallyLinearEmbedding(eigen_solver='auto', hessian_tol=0.0001, max_iter=100,\n",
       "                                     method='hessian', modified_tol=1e-12, n_components=2,\n",
       "                                     n_jobs=None, n_neighbors=10, neighbors_algorithm='auto',\n",
       "                                     random_state=None, reg=0.001, tol=1e-06)),\n",
       "             ('Modified LLE',\n",
       "              LocallyLinearEmbedding(eigen_solver='auto', hessian_tol=0.0001, max_iter=100,\n",
       "                                     method='modified', modified_tol=1e-12, n_components=2,\n",
       "                                     n_jobs=None, n_neighbors=10, neighbors_algorithm='auto',\n",
       "                                     random_state=None, reg=0.001, tol=1e-06)),\n",
       "             ('Isomap',\n",
       "              Isomap(eigen_solver='auto', max_iter=None, n_components=2, n_jobs=None,\n",
       "                     n_neighbors=10, neighbors_algorithm='auto', path_method='auto', tol=0)),\n",
       "             ('MDS',\n",
       "              MDS(dissimilarity='euclidean', eps=0.001, max_iter=100, metric=True,\n",
       "                  n_components=2, n_init=1, n_jobs=None, random_state=None, verbose=0)),\n",
       "             ('SE',\n",
       "              SpectralEmbedding(affinity='nearest_neighbors', eigen_solver=None, gamma=None,\n",
       "                                n_components=2, n_jobs=None, n_neighbors=10,\n",
       "                                random_state=None)),\n",
       "             ('t-SNE',\n",
       "              TSNE(angle=0.5, early_exaggeration=12.0, init='pca', learning_rate=200.0,\n",
       "                   method='barnes_hut', metric='euclidean', min_grad_norm=1e-07,\n",
       "                   n_components=2, n_iter=1000, n_iter_without_progress=300, perplexity=30.0,\n",
       "                   random_state=0, verbose=0))])"
      ]
     },
     "execution_count": 76,
     "metadata": {},
     "output_type": "execute_result"
    }
   ],
   "source": [
    "methods"
   ]
  },
  {
   "cell_type": "markdown",
   "metadata": {},
   "source": [
    "# parrellel computing CMA-es"
   ]
  },
  {
   "cell_type": "code",
   "execution_count": 94,
   "metadata": {},
   "outputs": [],
   "source": [
    "import cma"
   ]
  },
  {
   "cell_type": "code",
   "execution_count": 95,
   "metadata": {},
   "outputs": [
    {
     "name": "stdout",
     "output_type": "stream",
     "text": [
      "(4_w,9)-aCMA-ES (mu_w=2.8,w_1=49%) in dimension 7 (seed=723011, Thu Feb 13 14:46:36 2020)\n",
      "Iterat #Fevals   function value  axis ratio  sigma  min&max std  t[m:s]\n",
      "    1      9 -8.455482497226562e+00 1.0e+00 4.61e-01  4e-01  5e-01 0:02.8\n",
      "    2     18 -6.943602500272765e-01 1.3e+00 4.47e-01  4e-01  5e-01 0:05.7\n",
      "    3     27 -7.487623930931509e+00 1.5e+00 4.44e-01  4e-01  5e-01 0:08.7\n",
      "    4     36 -2.619996289699113e+01 1.5e+00 4.73e-01  4e-01  5e-01 0:11.8\n",
      "    6     54 -1.031205100414521e+01 1.8e+00 4.49e-01  4e-01  5e-01 0:17.7\n",
      "    8     72 -8.085497583970078e+00 1.8e+00 4.08e-01  3e-01  5e-01 0:23.2\n",
      "   11     99 -1.391914570477402e+01 2.0e+00 4.06e-01  3e-01  5e-01 0:31.1\n",
      "   14    126 -1.881656400932710e+01 2.4e+00 4.59e-01  4e-01  6e-01 0:39.2\n",
      "   17    153 -2.186542191920020e+01 2.5e+00 4.40e-01  3e-01  5e-01 0:47.3\n",
      "   21    189 -4.961527974005980e+01 2.4e+00 3.49e-01  3e-01  4e-01 0:58.1\n",
      "   25    225 -1.055374821304740e+02 2.2e+00 3.05e-01  2e-01  3e-01 1:09.1\n",
      "   30    270 -4.924568867917153e+01 2.1e+00 2.31e-01  1e-01  2e-01 1:23.0\n",
      "   35    315 -1.319750534077223e+02 2.2e+00 2.03e-01  1e-01  2e-01 1:37.9\n",
      "   40    360 -1.731480514471196e+02 2.4e+00 1.66e-01  9e-02  1e-01 1:52.4\n",
      "   45    405 -1.743670587104344e+02 2.6e+00 1.47e-01  7e-02  1e-01 2:06.4\n",
      "   51    459 -5.376966104777721e+02 2.9e+00 9.52e-02  4e-02  8e-02 2:23.9\n",
      "   56    504 -6.164132902934414e+02 3.1e+00 7.51e-02  3e-02  6e-02 2:37.8\n",
      "(4_w,9)-aCMA-ES (mu_w=2.8,w_1=49%) in dimension 7 (seed=639354, Thu Feb 13 14:49:14 2020)\n",
      "Iterat #Fevals   function value  axis ratio  sigma  min&max std  t[m:s]\n",
      "    1      9 -5.339375223688341e+00 1.0e+00 5.04e-01  5e-01  5e-01 0:02.9\n",
      "    2     18 -1.114438391161131e+02 1.3e+00 5.43e-01  5e-01  6e-01 0:05.7\n",
      "    3     27 -4.855123560279919e+01 1.5e+00 5.38e-01  5e-01  6e-01 0:08.5\n",
      "    5     45 -1.273179358572257e+01 1.6e+00 6.11e-01  6e-01  7e-01 0:13.9\n",
      "    7     63 -1.837010760987677e+01 2.3e+00 7.23e-01  6e-01  1e+00 0:19.3\n",
      "    9     81 -1.161561646782510e+02 2.6e+00 7.21e-01  6e-01  1e+00 0:24.7\n",
      "   12    108 -1.191881212052263e+01 2.7e+00 6.13e-01  5e-01  8e-01 0:33.0\n",
      "   15    135 -6.107165391153987e+01 2.9e+00 5.46e-01  4e-01  7e-01 0:41.1\n",
      "   18    162 -1.915373684935112e+01 2.9e+00 4.91e-01  3e-01  6e-01 0:49.7\n",
      "   22    198 -7.623016154821396e+00 3.2e+00 5.03e-01  3e-01  7e-01 1:00.7\n",
      "   26    234 -1.119502681706295e+01 3.4e+00 6.62e-01  4e-01  9e-01 1:11.7\n",
      "   31    279 -5.576171847442847e+00 3.5e+00 5.45e-01  3e-01  7e-01 1:25.3\n",
      "   36    324 -3.190559145860216e+01 3.1e+00 4.73e-01  3e-01  6e-01 1:38.8\n",
      "   41    369 -3.103047704097868e+01 3.4e+00 3.72e-01  2e-01  4e-01 1:52.5\n",
      "   46    414 -1.214902441817196e+02 3.9e+00 3.18e-01  2e-01  4e-01 2:07.3\n",
      "   51    459 -8.672789263374392e+01 4.9e+00 2.28e-01  1e-01  3e-01 2:24.4\n",
      "   56    504 -1.886854475481451e+02 4.9e+00 1.87e-01  9e-02  2e-01 2:40.5\n",
      "(4_w,9)-aCMA-ES (mu_w=2.8,w_1=49%) in dimension 7 (seed=763632, Thu Feb 13 14:51:54 2020)\n",
      "Iterat #Fevals   function value  axis ratio  sigma  min&max std  t[m:s]\n",
      "    1      9 -3.001755714584391e+00 1.0e+00 4.48e-01  4e-01  4e-01 0:03.5\n",
      "    2     18 -6.337951848052282e+00 1.1e+00 4.25e-01  4e-01  4e-01 0:06.6\n",
      "    3     27 -2.065492737343290e+01 1.2e+00 4.27e-01  4e-01  4e-01 0:09.3\n",
      "    5     45 -6.408100358277288e+01 1.5e+00 3.99e-01  3e-01  4e-01 0:15.3\n",
      "    7     63 -5.023314499850704e+01 1.7e+00 3.27e-01  2e-01  3e-01 0:21.7\n",
      "    9     81 -4.452415702984688e+01 1.8e+00 3.19e-01  2e-01  3e-01 0:27.2\n",
      "   12    108 -3.244004405586404e+01 2.2e+00 2.88e-01  2e-01  3e-01 0:35.5\n",
      "   15    135 -5.314994139020747e+01 2.3e+00 2.05e-01  1e-01  2e-01 0:43.8\n",
      "   18    162 -1.417727631720928e+02 2.6e+00 1.82e-01  9e-02  2e-01 0:52.2\n",
      "   22    198 -5.081904023857122e+02 3.0e+00 1.57e-01  8e-02  2e-01 1:03.3\n",
      "   26    234 -3.166530719404559e+02 3.2e+00 1.04e-01  5e-02  1e-01 1:14.4\n",
      "   30    270 -4.607775619200859e+02 3.2e+00 9.23e-02  4e-02  1e-01 1:25.4\n",
      "   35    315 -9.915186951259633e+02 4.4e+00 6.02e-02  2e-02  6e-02 1:39.3\n",
      "   40    360 -9.563801311465045e+02 4.6e+00 3.76e-02  1e-02  4e-02 1:52.9\n",
      "   46    414 -9.660427490586275e+02 4.8e+00 2.18e-02  7e-03  2e-02 2:09.5\n",
      "   52    468 -1.163300205496429e+03 5.6e+00 2.56e-02  9e-03  2e-02 2:26.1\n",
      "   56    504 -1.378180858284477e+03 6.4e+00 2.29e-02  7e-03  2e-02 2:37.1\n",
      "(4_w,9)-aCMA-ES (mu_w=2.8,w_1=49%) in dimension 7 (seed=800078, Thu Feb 13 14:54:31 2020)\n",
      "Iterat #Fevals   function value  axis ratio  sigma  min&max std  t[m:s]\n",
      "    1      9 -6.844445236301785e+00 1.0e+00 4.86e-01  4e-01  5e-01 0:03.1\n",
      "    2     18 -6.659139873255525e+00 1.3e+00 5.20e-01  5e-01  5e-01 0:05.9\n",
      "    3     27 -5.697091387044535e+00 1.4e+00 4.80e-01  4e-01  5e-01 0:08.6\n",
      "    5     45 -2.311781589107850e+00 1.4e+00 3.49e-01  3e-01  4e-01 0:14.2\n",
      "    7     63 -5.329160106887327e+01 1.6e+00 3.44e-01  3e-01  4e-01 0:19.7\n",
      "    9     81 -1.562499800936613e+01 1.7e+00 3.19e-01  3e-01  4e-01 0:25.2\n",
      "   12    108 -2.210638140444110e+01 1.9e+00 2.62e-01  2e-01  3e-01 0:33.5\n",
      "   15    135 -1.843691886368968e+02 2.0e+00 2.77e-01  2e-01  3e-01 0:41.8\n",
      "   18    162 -1.007655243541698e+02 2.2e+00 2.49e-01  2e-01  3e-01 0:51.2\n",
      "   21    189 -1.100705813924350e+02 2.2e+00 2.05e-01  1e-01  2e-01 1:00.5\n",
      "   25    225 -8.063488931873968e+01 2.5e+00 1.41e-01  1e-01  1e-01 1:13.2\n",
      "   29    261 -3.952733224061562e+02 2.4e+00 1.52e-01  1e-01  1e-01 1:25.3\n",
      "   34    306 -2.747286555096915e+02 3.2e+00 1.38e-01  9e-02  1e-01 1:39.1\n",
      "   39    351 -4.684301071315883e+02 3.3e+00 8.56e-02  4e-02  7e-02 1:52.9\n",
      "   45    405 -6.638559352402106e+02 3.7e+00 5.60e-02  3e-02  4e-02 2:09.6\n",
      "   51    459 -9.007394935463664e+02 3.8e+00 6.15e-02  3e-02  5e-02 2:26.1\n",
      "   56    504 -6.432926804145684e+02 4.0e+00 4.00e-02  2e-02  3e-02 2:39.8\n",
      "(4_w,9)-aCMA-ES (mu_w=2.8,w_1=49%) in dimension 7 (seed=779211, Thu Feb 13 14:57:11 2020)\n",
      "Iterat #Fevals   function value  axis ratio  sigma  min&max std  t[m:s]\n",
      "    1      9 -1.723722209185521e+01 1.0e+00 4.66e-01  4e-01  5e-01 0:02.8\n",
      "    2     18 -1.537684780423644e+01 1.4e+00 4.92e-01  5e-01  5e-01 0:05.6\n",
      "    3     27 -3.836790584460807e+01 1.5e+00 5.11e-01  5e-01  6e-01 0:08.3\n",
      "    5     45 -8.141628589238502e+00 1.6e+00 5.13e-01  5e-01  6e-01 0:13.7\n",
      "    7     63 -1.335320079698163e+01 1.7e+00 4.21e-01  4e-01  5e-01 0:19.2\n",
      "    9     81 -2.138791961419498e+01 1.8e+00 3.13e-01  3e-01  3e-01 0:24.6\n",
      "   12    108 -1.184122812402044e+02 2.1e+00 2.66e-01  2e-01  3e-01 0:33.0\n",
      "   15    135 -4.158266213603763e+01 2.3e+00 2.28e-01  2e-01  3e-01 0:41.1\n",
      "   18    162 -1.679219293506368e+02 2.4e+00 1.80e-01  1e-01  2e-01 0:49.3\n",
      "   22    198 -3.178912559066557e+02 2.7e+00 1.51e-01  8e-02  2e-01 1:00.2\n",
      "   26    234 -2.936852409499519e+02 3.4e+00 1.35e-01  7e-02  2e-01 1:11.0\n",
      "   30    270 -2.980534717882353e+02 3.9e+00 1.64e-01  8e-02  2e-01 1:22.0\n",
      "   35    315 -3.609167990452592e+02 4.1e+00 1.41e-01  6e-02  2e-01 1:35.5\n",
      "   40    360 -3.292104787984510e+02 3.9e+00 9.42e-02  4e-02  1e-01 1:49.1\n",
      "   46    414 -7.195881374868745e+02 4.0e+00 7.76e-02  3e-02  8e-02 2:05.3\n",
      "   52    468 -8.739716163319704e+02 4.4e+00 5.18e-02  2e-02  5e-02 2:21.9\n",
      "   56    504 -7.260693560848400e+02 4.7e+00 4.13e-02  2e-02  4e-02 2:33.0\n",
      "(4_w,9)-aCMA-ES (mu_w=2.8,w_1=49%) in dimension 7 (seed=702898, Thu Feb 13 14:59:45 2020)\n",
      "Iterat #Fevals   function value  axis ratio  sigma  min&max std  t[m:s]\n",
      "    1      9 -2.750230974517093e+00 1.0e+00 5.01e-01  5e-01  5e-01 0:02.8\n",
      "    2     18 -2.015065565248694e+01 1.3e+00 5.59e-01  5e-01  7e-01 0:05.6\n",
      "    3     27 -1.675972087431417e+01 1.5e+00 5.42e-01  5e-01  6e-01 0:08.3\n",
      "    5     45 -1.300435382432024e+01 1.5e+00 4.59e-01  4e-01  5e-01 0:13.7\n",
      "    7     63 -3.030862947400591e+01 1.7e+00 4.06e-01  4e-01  4e-01 0:19.1\n",
      "    9     81 -3.603809356187331e+01 1.7e+00 3.76e-01  3e-01  4e-01 0:24.5\n",
      "   12    108 -2.100348427702101e+01 1.7e+00 3.03e-01  2e-01  3e-01 0:32.6\n",
      "   15    135 -1.261544793533199e+02 1.6e+00 2.34e-01  2e-01  3e-01 0:40.8\n",
      "   18    162 -1.283210285557682e+02 1.8e+00 1.67e-01  1e-01  2e-01 0:49.0\n",
      "   22    198 -1.017934840049134e+02 2.1e+00 1.63e-01  1e-01  2e-01 0:59.8\n",
      "   26    234 -2.216761792402580e+02 2.4e+00 1.31e-01  7e-02  1e-01 1:10.7\n",
      "   31    279 -7.119784148888981e+02 2.5e+00 1.07e-01  5e-02  9e-02 1:24.3\n",
      "   36    324 -4.908278642569189e+02 3.1e+00 7.73e-02  3e-02  7e-02 1:37.8\n"
     ]
    },
    {
     "name": "stdout",
     "output_type": "stream",
     "text": [
      "   41    369 -9.223518591986495e+02 3.1e+00 5.86e-02  3e-02  5e-02 1:51.3\n",
      "   46    414 -6.518539614069033e+02 3.2e+00 4.76e-02  2e-02  4e-02 2:06.5\n",
      "   52    468 -1.391121948789082e+03 3.4e+00 3.84e-02  1e-02  3e-02 2:23.8\n",
      "   56    504 -1.309434096984553e+03 4.1e+00 3.33e-02  1e-02  3e-02 2:35.9\n",
      "(4_w,9)-aCMA-ES (mu_w=2.8,w_1=49%) in dimension 7 (seed=684348, Thu Feb 13 15:02:21 2020)\n",
      "Iterat #Fevals   function value  axis ratio  sigma  min&max std  t[m:s]\n",
      "    1      9 -1.280746807716326e+01 1.0e+00 4.79e-01  5e-01  5e-01 0:03.9\n",
      "    2     18 -2.065031413062295e+01 1.2e+00 4.26e-01  4e-01  4e-01 0:07.5\n",
      "    3     27 -7.144268842031907e+00 1.3e+00 4.30e-01  4e-01  5e-01 0:10.7\n",
      "    4     36 -1.152146448648353e+01 1.3e+00 3.97e-01  4e-01  4e-01 0:13.8\n",
      "    6     54 -2.718001222717894e+01 1.4e+00 4.08e-01  4e-01  5e-01 0:20.5\n",
      "    8     72 -1.072314941042033e+01 1.6e+00 5.26e-01  5e-01  6e-01 0:27.4\n",
      "   10     90 -5.377505403924376e+00 1.6e+00 5.21e-01  4e-01  6e-01 0:34.4\n",
      "   13    117 -1.532034192243186e+01 1.8e+00 4.15e-01  3e-01  4e-01 0:44.2\n",
      "   16    144 -4.975904993861825e+01 1.9e+00 2.92e-01  2e-01  3e-01 0:53.3\n",
      "   20    180 -4.341463905564152e+01 2.2e+00 2.42e-01  2e-01  2e-01 1:04.5\n",
      "   24    216 -1.534500187484733e+02 2.0e+00 1.88e-01  1e-01  2e-01 1:16.6\n",
      "   28    252 -8.667274824396473e+01 2.1e+00 1.73e-01  9e-02  2e-01 1:30.8\n",
      "   32    288 -9.343772593034429e+01 2.6e+00 1.82e-01  9e-02  2e-01 1:45.4\n",
      "   37    333 -2.494878823716264e+02 2.9e+00 1.47e-01  6e-02  1e-01 2:00.4\n",
      "   42    378 -2.375313604018850e+02 3.8e+00 1.52e-01  6e-02  1e-01 2:16.6\n",
      "   47    423 -6.084559056251663e+02 4.0e+00 1.78e-01  6e-02  2e-01 2:32.2\n",
      "   53    477 -2.124003460531478e+02 4.6e+00 2.27e-01  6e-02  2e-01 2:50.2\n",
      "   56    504 -1.999444899347795e+02 4.9e+00 1.51e-01  4e-02  2e-01 2:59.0\n",
      "(4_w,9)-aCMA-ES (mu_w=2.8,w_1=49%) in dimension 7 (seed=686917, Thu Feb 13 15:05:20 2020)\n",
      "Iterat #Fevals   function value  axis ratio  sigma  min&max std  t[m:s]\n",
      "    1      9 -2.756232531211440e+00 1.0e+00 4.72e-01  4e-01  5e-01 0:03.7\n",
      "    2     18 -4.768940395171307e+01 1.3e+00 4.79e-01  4e-01  5e-01 0:06.8\n",
      "    3     27 -1.577463997454471e+01 1.3e+00 4.49e-01  4e-01  5e-01 0:09.9\n",
      "    5     45 -3.213123509830309e+01 1.5e+00 4.73e-01  4e-01  5e-01 0:15.7\n",
      "    7     63 -5.470916223820559e+01 1.7e+00 5.52e-01  5e-01  6e-01 0:22.2\n",
      "    9     81 -2.503948251999432e+01 1.9e+00 5.89e-01  5e-01  7e-01 0:28.5\n",
      "   11     99 -2.126364224620394e+01 1.9e+00 5.08e-01  5e-01  5e-01 0:36.2\n",
      "   14    126 -2.366809744154317e+01 2.0e+00 4.66e-01  4e-01  5e-01 0:45.8\n",
      "   17    153 -1.026847414609673e+01 2.2e+00 4.33e-01  4e-01  5e-01 0:54.9\n",
      "   20    180 -1.273900353733760e+02 2.3e+00 3.06e-01  2e-01  3e-01 1:04.1\n",
      "   24    216 -1.027633223340573e+02 2.6e+00 2.69e-01  2e-01  3e-01 1:16.7\n",
      "   28    252 -7.144290235967041e+01 2.5e+00 2.11e-01  1e-01  2e-01 1:29.7\n",
      "   31    279 -9.645458497172739e+01 3.0e+00 1.95e-01  1e-01  2e-01 1:42.9\n",
      "   35    315 -1.869969816887530e+02 3.3e+00 1.72e-01  1e-01  2e-01 1:56.2\n",
      "   41    369 -1.965502842071003e+02 3.6e+00 1.40e-01  7e-02  1e-01 2:12.8\n",
      "   47    423 -5.545508558086223e+02 3.9e+00 2.04e-01  9e-02  2e-01 2:29.7\n",
      "   53    477 -6.245549878217962e+02 4.8e+00 1.38e-01  5e-02  2e-01 2:46.3\n",
      "   56    504 -4.399737038471573e+02 4.8e+00 1.17e-01  4e-02  1e-01 2:54.6\n",
      "(4_w,9)-aCMA-ES (mu_w=2.8,w_1=49%) in dimension 7 (seed=767479, Thu Feb 13 15:08:15 2020)\n",
      "Iterat #Fevals   function value  axis ratio  sigma  min&max std  t[m:s]\n",
      "    1      9 -5.954941239771237e+00 1.0e+00 4.94e-01  5e-01  5e-01 0:02.8\n",
      "    2     18 -1.880284524143099e+01 1.3e+00 5.03e-01  5e-01  6e-01 0:05.6\n",
      "    3     27 -1.180688848638357e+02 1.5e+00 5.36e-01  5e-01  6e-01 0:08.4\n",
      "    5     45 -8.851597710633589e+00 1.5e+00 5.24e-01  5e-01  6e-01 0:13.9\n",
      "    7     63 -1.343236068403069e+01 1.5e+00 5.10e-01  4e-01  5e-01 0:19.6\n",
      "    9     81 -9.765490341687407e+00 1.6e+00 4.74e-01  4e-01  5e-01 0:25.2\n",
      "   12    108 -5.786192518296556e+01 1.6e+00 3.64e-01  3e-01  4e-01 0:33.4\n",
      "   15    135 -6.884608194427599e+01 1.5e+00 2.67e-01  2e-01  2e-01 0:41.8\n",
      "   18    162 -5.090292517376614e+01 1.8e+00 3.00e-01  2e-01  3e-01 0:50.1\n",
      "   22    198 -5.900497129831302e+01 1.9e+00 4.02e-01  2e-01  4e-01 1:02.2\n",
      "   26    234 -4.316624367562067e+01 2.1e+00 2.98e-01  2e-01  3e-01 1:14.5\n",
      "   30    270 -1.101829897836725e+02 2.5e+00 2.06e-01  1e-01  2e-01 1:26.8\n",
      "   34    306 -2.237038635089263e+02 2.5e+00 1.50e-01  6e-02  1e-01 1:39.1\n",
      "   38    342 -4.009259777751762e+02 2.7e+00 1.39e-01  5e-02  1e-01 1:52.4\n",
      "   43    387 -8.470081065336309e+02 2.7e+00 1.02e-01  4e-02  8e-02 2:07.3\n",
      "   48    432 -4.626216256559023e+02 2.8e+00 6.75e-02  2e-02  5e-02 2:22.6\n",
      "   54    486 -8.204227296416555e+02 4.4e+00 6.02e-02  2e-02  5e-02 2:40.8\n",
      "   56    504 -7.439312695519056e+02 4.7e+00 5.63e-02  2e-02  6e-02 2:46.8\n",
      "(4_w,9)-aCMA-ES (mu_w=2.8,w_1=49%) in dimension 7 (seed=759502, Thu Feb 13 15:11:01 2020)\n",
      "Iterat #Fevals   function value  axis ratio  sigma  min&max std  t[m:s]\n",
      "    1      9 -3.843517811263535e+00 1.0e+00 4.67e-01  4e-01  5e-01 0:03.2\n",
      "    2     18 -3.541088618435265e+00 1.2e+00 4.46e-01  4e-01  5e-01 0:06.3\n",
      "    3     27 -1.466300742073024e+01 1.3e+00 4.59e-01  4e-01  5e-01 0:09.2\n",
      "    5     45 -1.928055128350562e+01 1.6e+00 4.61e-01  4e-01  5e-01 0:15.1\n",
      "    7     63 -3.289555774549818e+01 1.7e+00 4.73e-01  4e-01  5e-01 0:21.3\n",
      "    9     81 -6.527113113144981e+01 1.9e+00 4.58e-01  4e-01  5e-01 0:27.8\n",
      "   11     99 -4.631747543717979e+01 1.9e+00 4.07e-01  3e-01  5e-01 0:34.2\n",
      "   14    126 -1.758907974744232e+01 1.9e+00 3.17e-01  2e-01  3e-01 0:43.3\n",
      "   17    153 -4.966319440996297e+01 2.0e+00 2.91e-01  2e-01  3e-01 0:52.6\n",
      "   20    180 -4.642329943490890e+01 2.0e+00 2.32e-01  1e-01  2e-01 1:02.3\n",
      "   24    216 -1.308896114258357e+02 2.3e+00 2.46e-01  1e-01  3e-01 1:15.6\n",
      "   28    252 -3.283527682650665e+02 2.5e+00 1.80e-01  1e-01  2e-01 1:28.5\n",
      "   32    288 -1.019496428429814e+02 2.9e+00 1.44e-01  8e-02  2e-01 1:40.6\n",
      "   37    333 -3.657184207297834e+02 2.9e+00 1.30e-01  6e-02  2e-01 1:55.7\n",
      "   42    378 -5.068796039320769e+02 3.4e+00 1.04e-01  4e-02  1e-01 2:11.0\n",
      "   47    423 -3.764415127560620e+02 3.7e+00 8.90e-02  4e-02  1e-01 2:26.5\n",
      "   53    477 -4.839128028400593e+02 4.3e+00 6.86e-02  3e-02  8e-02 2:44.9\n",
      "   56    504 -8.864621196609995e+02 4.2e+00 7.43e-02  4e-02  8e-02 2:53.8\n"
     ]
    }
   ],
   "source": [
    "for i in range(10):\n",
    "\n",
    "    with cma.fitness_transformations.EvalParallel(6) as eval_all:\n",
    "        es = cma.CMAEvolutionStrategy(np.random.uniform(low=-1, high=1, size=(7,)), 0.5,{'maxfevals':500,'bounds': [[-1,-1,-1,-1,-1,-1,-1],[1,1,1,1,1,1,1]],\\\n",
    "                                                                                      'verb_disp': 200  ,'verb_log': 200  } )\n",
    "        while not es.stop():\n",
    "            X = es.ask()\n",
    "            es.tell(X, eval_all(target, X))  \n",
    "            # was: es.tell(X, [fitness(x) for x in X])\n",
    "            es.disp()\n",
    "    np.savetxt(\"cma_es_10fold_parrelel_\"+str(i)+\".csv\", es.result.xbest, delimiter=\",\")\n"
   ]
  },
  {
   "cell_type": "code",
   "execution_count": 14,
   "metadata": {},
   "outputs": [
    {
     "name": "stdout",
     "output_type": "stream",
     "text": [
      "dx1=-0.41917197930099687,dx2=0.1878844368146809,dy2=767.7504865403533\n"
     ]
    }
   ],
   "source": [
    "test(pd.read_csv(\"cma_es_10fold_parrelel_0.csv\",header=None).values.flatten())"
   ]
  }
 ],
 "metadata": {
  "kernelspec": {
   "display_name": "Python 3",
   "language": "python",
   "name": "python3"
  },
  "language_info": {
   "codemirror_mode": {
    "name": "ipython",
    "version": 3
   },
   "file_extension": ".py",
   "mimetype": "text/x-python",
   "name": "python",
   "nbconvert_exporter": "python",
   "pygments_lexer": "ipython3",
   "version": "3.6.10"
  }
 },
 "nbformat": 4,
 "nbformat_minor": 2
}
