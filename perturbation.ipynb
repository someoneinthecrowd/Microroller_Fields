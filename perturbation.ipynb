{
 "cells": [
  {
   "cell_type": "code",
   "execution_count": 5,
   "metadata": {},
   "outputs": [
    {
     "name": "stderr",
     "output_type": "stream",
     "text": [
      "/anaconda/lib/python3.6/site-packages/sklearn/externals/joblib/__init__.py:15: DeprecationWarning: sklearn.externals.joblib is deprecated in 0.21 and will be removed in 0.23. Please import this functionality directly from joblib, which can be installed with: pip install joblib. If this warning is raised when loading pickled models, you may need to re-serialize those models with scikit-learn 0.21+.\n",
      "  warnings.warn(msg, category=DeprecationWarning)\n",
      "/anaconda/lib/python3.6/importlib/_bootstrap.py:219: RuntimeWarning: numpy.dtype size changed, may indicate binary incompatibility. Expected 96, got 88\n",
      "  return f(*args, **kwds)\n"
     ]
    }
   ],
   "source": [
    "import numpy as np\n",
    "import numpy.linalg as la\n",
    "import matplotlib.pyplot as plt \n",
    "from numpy import cos\n",
    "from numpy import sin\n",
    "import scipy.integrate as integrate\n",
    "import time\n",
    "from skopt import gp_minimize\n",
    "import pandas as pd"
   ]
  },
  {
   "cell_type": "code",
   "execution_count": 6,
   "metadata": {},
   "outputs": [],
   "source": [
    "## whole field\n",
    "def B(t):\n",
    "    global v\n",
    "    global n\n",
    "    global w\n",
    "    global a\n",
    "    v1=v[0]\n",
    "    v2=v[1]\n",
    "    v3=v[2]\n",
    "    v4=v[3]\n",
    "    v5=v[4]\n",
    "    v6=v[5]\n",
    "    v7=v[6]\n",
    "    return np.dot(np.array([[1,0,0],[0,cos(a),-sin(a)],[0,sin(a),cos(a)]]),\\\n",
    "    v1*(np.array([-1,0,0])*cos(w*t) +np.array([0,1,0])*sin(w*t) )+\\\n",
    "    v2*(np.array([1,0,0])*cos((n-1)*w*t) +np.array([0,1,0])*sin((n-1)*w*t))+\\\n",
    "    v3*(np.array([0,-1,0])*cos((n-1)*w*t) +np.array([1,0,0])*sin((n-1)*w*t))+\\\n",
    "    v4*(np.array([0,0,1])*sin(n*w*t))+\\\n",
    "    v5*(np.array([0,0,1])*cos(n*w*t))+\\\n",
    "    v6*(np.array([-1,0,0])*cos((n+1)*w*t) +np.array([0,1,0])*sin((n+1)*w*t))+\\\n",
    "    v7*(np.array([0,1,0])*cos((n+1)*w*t) +np.array([1,0,0])*sin((n+1)*w*t)))\n",
    "    \n",
    "def B_prime(t):\n",
    "    global v\n",
    "    global n\n",
    "    global w\n",
    "    global a\n",
    "    v1=v[0]\n",
    "    v2=v[1]\n",
    "    v3=v[2]\n",
    "    v4=v[3]\n",
    "    v5=v[4]\n",
    "    v6=v[5]\n",
    "    v7=v[6]\n",
    "    return np.dot(np.array([[1,0,0],[0,cos(a),-sin(a)],[0,sin(a),cos(a)]]),\\\n",
    "    v1*(np.array([-1,0,0])*(-1)*sin(w*t) +np.array([0,1,0])*cos(w*t) )*w+\\\n",
    "    v2*(np.array([1,0,0])*(-1)*(n-1)*sin((n-1)*w*t) +np.array([0,1,0])*(n-1)*cos((n-1)*w*t))*w+\\\n",
    "    v3*(np.array([0,-1,0])*(-1)*(n-1)*sin((n-1)*w*t) +np.array([1,0,0])*(n-1)*cos((n-1)*w*t))*w+\\\n",
    "    v4*(np.array([0,0,1])*n*cos(n*w*t))*w+\\\n",
    "    v5*(np.array([0,0,1])*(-1)*n*sin(n*w*t))*w+\\\n",
    "    v6*(np.array([-1,0,0])*(-1)*(n+1)*sin((n+1)*w*t) +np.array([0,1,0])*(n+1)*cos((n+1)*w*t))*w+\\\n",
    "    v7*(np.array([0,1,0])*(-1)*(n+1)*sin((n+1)*w*t) +np.array([1,0,0])*(n+1)*cos((n+1)*w*t))*w)\n",
    "\n",
    "def B_prime2(t):\n",
    "    global v\n",
    "    global n\n",
    "    global w\n",
    "    global a\n",
    "    v1=v[0]\n",
    "    v2=v[1]\n",
    "    v3=v[2]\n",
    "    v4=v[3]\n",
    "    v5=v[4]\n",
    "    v6=v[5]\n",
    "    v7=v[6]\n",
    "    return np.dot(np.array([[1,0,0],[0,cos(a),-sin(a)],[0,sin(a),cos(a)]]),\\\n",
    "    v1*(np.array([-1,0,0])*(-1)*cos(w*t) +np.array([0,1,0])*(-1)*sin(w*t) )*w*w+\\\n",
    "    v2*(np.array([1,0,0])*(-1)*(n-1)*(n-1)*cos((n-1)*w*t) +np.array([0,1,0])*(-1)*(n-1)*(n-1)*sin((n-1)*w*t))*w*w+\\\n",
    "    v3*(np.array([0,-1,0])*(-1)*(n-1)*(n-1)*cos((n-1)*w*t) +np.array([1,0,0])*(-1)*(n-1)*(n-1)*sin((n-1)*w*t))*w*w+\\\n",
    "    v4*(np.array([0,0,1])*(-1)*n*n*sin(n*w*t))*w*w+\\\n",
    "    v5*(np.array([0,0,1])*(-1)*n*n*cos(n*w*t))*w*w+\\\n",
    "    v6*(np.array([-1,0,0])*(-1)*(n+1)*(n+1)*cos((n+1)*w*t) +np.array([0,1,0])*(-1)*(n+1)*(n+1)*sin((n+1)*w*t))*w*w+\\\n",
    "    v7*(np.array([0,1,0])*(-1)*(n+1)*(n+1)*cos((n+1)*w*t) +np.array([1,0,0])*(-1)*(n+1)*(n+1)*sin((n+1)*w*t))*w*w)\n",
    "\n",
    "\n",
    "\n",
    "\n",
    "\n",
    "\n",
    "\n",
    "    "
   ]
  },
  {
   "cell_type": "code",
   "execution_count": 7,
   "metadata": {},
   "outputs": [],
   "source": [
    "lam=1.8686003910229945\n",
    "v=np.random.uniform(low=-1, high=1, size=(7,))\n",
    "v=[1,-1,0,0.5,1,-0.5,-1]\n",
    "n=10\n",
    "w=1\n",
    "Y=0.10772427142152266\n",
    "a=-5/180*np.pi\n"
   ]
  },
  {
   "cell_type": "code",
   "execution_count": 8,
   "metadata": {},
   "outputs": [],
   "source": [
    "v=[1,-1,0,0.5,1,-0.5,-1]\n"
   ]
  },
  {
   "cell_type": "markdown",
   "metadata": {},
   "source": [
    "## each direction \n",
    "def Bx(t):\n",
    "    return  B(t)[0]\n",
    "def By(t):\n",
    "    return  B(t)[1]\n",
    "def Bz(t):\n",
    "    return  B(t)[2]\n",
    "\n",
    "\n",
    "def Bx_p(t):\n",
    "    return  B_prime(t)[0]\n",
    "def By_p(t):\n",
    "    return   B_prime(t)[1]\n",
    "def Bz_p(t):\n",
    "    return   B_prime(t)[2]\n",
    "\n",
    "\n",
    "def Bx_p2(t):\n",
    "    return  B_prime2(t)[0]\n",
    "def By_p2(t):\n",
    "    return   B_prime2(t)[1]\n",
    "def Bz_p2(t):\n",
    "    return   B_prime2(t)[2]\n",
    "\n",
    "\n"
   ]
  },
  {
   "cell_type": "code",
   "execution_count": 9,
   "metadata": {},
   "outputs": [],
   "source": [
    "## ux1,uy1,\n",
    "def ux1(T):\n",
    "    global lam\n",
    "    Bx,By,Bz=B(T)\n",
    "    Bx_p,By_p,Bz_p=B_prime(T)\n",
    "    return ( Bz/(lam*(Bx**2+By**2)+Bz**2)*((lam*Bx**2+By**2+Bz**2)*Bx_p+(-1+lam)*Bx*By*By_p)- Bx*Bz_p  )\\\n",
    "    /(Bx**2+By**2+Bz**2)\n",
    "def uy1(T):\n",
    "    Bx,By,Bz=B(T)\n",
    "    Bx_p,By_p,Bz_p=B_prime(T)\n",
    "    return ( Bz/(lam*(Bx**2+By**2)+Bz**2)*((Bx**2+lam*By**2+Bz**2)*By_p+(-1+lam)*Bx*By*Bx_p)-By*Bz_p )\\\n",
    "    /(Bx**2+By**2+Bz**2)"
   ]
  },
  {
   "cell_type": "markdown",
   "metadata": {},
   "source": [
    "## ux2\n",
    "def ux2(T):\n",
    "    global lam\n",
    "    \n",
    "    \n",
    "    a1=Bx(T)*Bz(T)*(Bx(T)**2+By(T)**2+Bz(T)**2)**2*(By(T)*Bx_p(T)-Bx(T)*By_p(T))**2/(lam*Bx(T)**2+lam*By(T)**2+Bz(T)**2)**2\n",
    "    #############\n",
    "    a2=(2*By(T)*Bz(T)**2*(By(T)*Bx_p(T)-Bx(T)*By_p(T)) *(-Bx(T)*Bz(T)*Bx_p(T)+Bx(T)**2*Bz_p(T)+By(T) *(-Bz(T)*By_p(T) +By(T)*Bz_p(T))))\\\n",
    "    /(lam*Bx(T)**2+lam*By(T)**2+Bz(T)**2)\n",
    "    \n",
    "    ##########\n",
    "    a3= (2*By(T)*Bz(T)*(Bx(T)**2 + By(T)**2 + Bz(T)**2)*(-2*(Bx(T)**2 + By(T)**2 + Bz(T)**2)*(lam*Bx(T)**2 + lam*By(T)**2 + Bz(T)**2)*\\\n",
    "    (-(By(T)*Bx_p(T)) + Bx(T)*By_p(T))*(Bx(T)*Bx_p(T)+ \n",
    "    By(T)*By_p(T)) + (Bx(T)**2 + By(T)**2)*(lam*Bx(T)**2 + lam*By(T)**2 + Bz(T)**2)*\n",
    "    (-(By(T)*Bx_p(T)) + Bx(T)*By_p(T))*(Bx(T)*Bx_p(T) + \n",
    "    By(T)*By_p(T) + Bz(T)*Bz_p(T)) - \n",
    "    2*(Bx(T)**2 + By(T)**2)*(Bx(T)**2 + By(T)**2 + Bz(T)**2)*(-(By(T)*Bx_p(T)) +\n",
    "    Bx(T)*By_p(T))*(lam*Bx(T)*Bx_p(T) + lam*By(T)*By_p(T) + \n",
    "    Bz(T)*Bz_p(T)) + (Bz(T)*((2 - lam)*Bx(T)**2 - (-2 + lam)*By(T)**2 + Bz(T)**2)*\n",
    "    (lam*Bx(T)**2 + lam*By(T)**2 + Bz(T)**2)*(-(By(T)*Bx_p(T)) + Bx(T)*By_p(T))*\n",
    "    (-(Bx(T)**2*Bz_p(T)) + Bx(T)*Bz(T)*Bx_p(T) + \n",
    "    By(T)*(Bz(T)*By_p(T) - By(T)*Bz_p(T))))/(Bx(T)**2 + By(T)**2 + Bz(T)**2) + \n",
    "    (Bx(T)**2 + By(T)**2)*(Bx(T)**2 + By(T)**2 + Bz(T)**2)*(lam*Bx(T)**2 + lam*By(T)**2 + Bz(T)**2)*\n",
    "    (-(By(T)*Bx_p2(T)) + Bx(T)*By_p2(T))))/\\\n",
    "    ((lam*Bx(T)**2 + lam*By(T)**2 + Bz(T)**2)**2*(lam*(Bx(T)**2 + By(T)**2) + Bz(T)**2))\n",
    "    a4=Bx(T)*((Bz(T)*(Bx(T)**2 + By(T)**2 + Bz(T)**2)**2*(By(T)*Bx_p(T) - Bx(T)*By_p(T))**2)\\\n",
    "    /(lam*Bx(T)**2 + lam*By(T)**2 + Bz(T)**2)**2 - \n",
    "    2*(Bx(T)*Bx_p(T) + By(T)*By_p(T))*(-(Bx(T)*Bz(T)*Bx_p(T)) + \n",
    "    Bx(T)**2*Bz_p(T) + By(T)*(-(Bz(T)*By_p(T)) + By(T)*Bz_p(T))) - \n",
    "    (6*(Bx(T)**2 + By(T)**2)*(Bx(T)*Bx_p(T) + By(T)*By_p(T) + \n",
    "    Bz(T)*Bz_p(T))*(-(Bx(T)*Bz(T)*Bx_p(T)) + Bx(T)**2*Bz_p(T) + \n",
    "    By(T)*(-(Bz(T)*By_p(T)) + By(T)*Bz_p(T))))/\n",
    "    (Bx(T)**2 + By(T)**2 + Bz(T)**2) + 2*(Bx(T)**2 + By(T)**2)*\n",
    "    (Bx(T)*Bx_p(T)*Bz_p(T) - \n",
    "    Bz(T)*(Bx_p(T)**2 + By_p(T)**2 + Bx(T)*Bx_p2(T) + \n",
    "    By(T)*By_p2(T)) + Bx(T)**2*Bz_p2(T) + \n",
    "    By(T)*(By_p(T)*Bz_p(T) + By(T)*Bz_p2(T))))\n",
    "    \n",
    "    \n",
    "    return (a1+a2+a3+a4)/(2*(Bx(T)**2+By(T)**2 )**2*(Bx(T)**2+By(T)**2+Bz(T)**2)**1.5)\n"
   ]
  },
  {
   "cell_type": "markdown",
   "metadata": {},
   "source": [
    "## uy2\n",
    "def uy2(T):\n",
    "    global lam\n",
    "    return ((By(T)*Bz(T)*(Bx(T)**2 + By(T)**2 + Bz(T)**2)**2*(By(T)*Bx_p(T) - Bx(T)*By_p(T))**2)\\\n",
    "             /(lam*Bx(T)**2 + lam*By(T)**2 + Bz(T)**2)**2 + \n",
    "            (2*Bx(T)*Bz(T)**2*(-(By(T)*Bx_p(T)) + Bx(T)*By_p(T))*\\\n",
    "            (-(Bx(T)*Bz(T)*Bx_p(T)) + Bx(T)**2*Bz_p(T) + \n",
    "            By(T)*(-(Bz(T)*By_p(T)) + By(T)*Bz_p(T))))/\n",
    "            (lam*Bx(T)**2 + lam*By(T)**2 + Bz(T)**2) - (2*Bx(T)*Bz(T)*(Bx(T)**2 + By(T)**2 + Bz(T)**2)*\\\n",
    "            (-2*(Bx(T)**2 + By(T)**2 + Bz(T)**2)*(lam*Bx(T)**2 + lam*By(T)**2 + Bz(T)**2)*\\\n",
    "            (-(By(T)*Bx_p(T)) + Bx(T)*By_p(T))*(Bx(T)*Bx_p(T) + \n",
    "            By(T)*By_p(T)) + (Bx(T)**2 + By(T)**2)*(lam*Bx(T)**2 + lam*By(T)**2 + Bz(T)**2)*\\\n",
    "            (-(By(T)*Bx_p(T)) + Bx(T)*By_p(T))*(Bx(T)*Bx_p(T) + \n",
    "            By(T)*By_p(T) + Bz(T)*Bz_p(T)) - \n",
    "            2*(Bx(T)**2 + By(T)**2)*(Bx(T)**2 + By(T)**2 + Bz(T)**2)*(-(By(T)*Bx_p(T)) + \n",
    "            Bx(T)*By_p(T))*(lam*Bx(T)*Bx_p(T) + lam*By(T)*By_p(T) + \n",
    "            Bz(T)*Bz_p(T)) + (Bz(T)*((2 - lam)*Bx(T)**2 - (-2 + lam)*By(T)**2 + Bz(T)**2)*\\\n",
    "            (lam*Bx(T)**2 + lam*By(T)**2 + Bz(T)**2)*(-(By(T)*Bx_p(T)) + \n",
    "            Bx(T)*By_p(T))*(Bx(T)*Bz(T)*Bx_p(T) - Bx(T)**2*Bz_p(T) + \n",
    "            By(T)*(Bz(T)*By_p(T) - By(T)*Bz_p(T))))/ \\\n",
    "            (Bx(T)**2 + By(T)**2 + Bz(T)**2) + (Bx(T)**2 + By(T)**2)*(Bx(T)**2 + By(T)**2 + Bz(T)**2)*\\\n",
    "            (lam*Bx(T)**2 + lam*By(T)**2 + Bz(T)**2)*(-(By(T)*Bx_p2(T)) + \n",
    "            Bx(T)*By_p2(T))))/((lam*Bx(T)**2 + lam*By(T)**2 + Bz(T)**2)**2*\\\n",
    "            (lam*(Bx(T)**2 + By(T)**2) + Bz(T)**2)) + \n",
    "            By(T)*((Bz(T)*(Bx(T)**2 + By(T)**2 + Bz(T)**2)**2*(By(T)*Bx_p(T) - \n",
    "            Bx(T)*By_p(T))**2)/(lam*Bx(T)**2 + lam*By(T)**2 + Bz(T)**2)**2 - \n",
    "            2*(Bx(T)*Bx_p(T) + By(T)*By_p(T))*(-(Bx(T)*Bz(T)*Bx_p(T)) + \n",
    "            Bx(T)**2*Bz_p(T) + By(T)*(-(Bz(T)*By_p(T)) + \n",
    "            By(T)*Bz_p(T))) - (6*(Bx(T)**2 + By(T)**2)*(Bx(T)*Bx_p(T) + \n",
    "            By(T)*By_p(T) + Bz(T)*Bz_p(T))*(-(Bx(T)*Bz(T)*Bx_p(T)) + \n",
    "            Bx(T)**2*Bz_p(T) + By(T)*(-(Bz(T)*By_p(T)) + \n",
    "            By(T)*Bz_p(T))))/(Bx(T)**2 + By(T)**2 + Bz(T)**2) + \n",
    "            2*(Bx(T)**2 + By(T)**2)*(Bx(T)*Bx_p(T)*Bz_p(T) - \n",
    "            Bz(T)*(Bx_p(T)**2 + By_p(T)**2 + Bx(T)*Bx_p2(T) + \n",
    "            By(T)*By_p2(T)) + Bx(T)**2*Bz_p2(T) + \n",
    "            By(T)*(By_p(T)*Bz_p(T) + By(T)*Bz_p2(T)))))/\\\n",
    "            (2*(Bx(T)**2 + By(T)**2)**2*(Bx(T)**2 + By(T)**2 + Bz(T)**2)**(3/2))\n"
   ]
  },
  {
   "cell_type": "code",
   "execution_count": 10,
   "metadata": {},
   "outputs": [],
   "source": [
    "## ux1,uy1,\n",
    "def ux1(T):\n",
    "    global lam\n",
    "    Bx,By,Bz=B(T)\n",
    "    Bx_p,By_p,Bz_p=B_prime(T)\n",
    "    return ( Bz/(lam*(Bx**2+By**2)+Bz**2)*((lam*Bx**2+By**2+Bz**2)*Bx_p+(-1+lam)*Bx*By*By_p)- Bx*Bz_p  )\\\n",
    "    /(Bx**2+By**2+Bz**2)\n",
    "def uy1(T):\n",
    "    Bx,By,Bz=B(T)\n",
    "    Bx_p,By_p,Bz_p=B_prime(T)\n",
    "    return ( Bz/(lam*(Bx**2+By**2)+Bz**2)*((Bx**2+lam*By**2+Bz**2)*By_p+(-1+lam)*Bx*By*Bx_p)-By*Bz_p )\\\n",
    "    /(Bx**2+By**2+Bz**2)"
   ]
  },
  {
   "cell_type": "code",
   "execution_count": 11,
   "metadata": {},
   "outputs": [],
   "source": [
    "## ux2\n",
    "def ux2(T):\n",
    "    global lam\n",
    "    Bx,By,Bz=B(T)\n",
    "    Bx_p,By_p,Bz_p=B_prime(T)\n",
    "    Bx_p2,By_p2,Bz_p2=B_prime2(T)\n",
    "    \n",
    "    \n",
    "    a1=Bx*Bz*(Bx**2+By**2+Bz**2)**2*(By*Bx_p-Bx*By_p)**2/(lam*Bx**2+lam*By**2+Bz**2)**2\n",
    "    #############\n",
    "    a2=(2*By*Bz**2*(By*Bx_p-Bx*By_p) *(-Bx*Bz*Bx_p+Bx**2*Bz_p+By *(-Bz*By_p +By*Bz_p)))\\\n",
    "    /(lam*Bx**2+lam*By**2+Bz**2)\n",
    "    \n",
    "    ##########\n",
    "    a3= (2*By*Bz*(Bx**2 + By**2 + Bz**2)*(-2*(Bx**2 + By**2 + Bz**2)*(lam*Bx**2 + lam*By**2 + Bz**2)*\\\n",
    "    (-(By*Bx_p) + Bx*By_p)*(Bx*Bx_p+ \n",
    "    By*By_p) + (Bx**2 + By**2)*(lam*Bx**2 + lam*By**2 + Bz**2)*\n",
    "    (-(By*Bx_p) + Bx*By_p)*(Bx*Bx_p + \n",
    "    By*By_p + Bz*Bz_p) - \n",
    "    2*(Bx**2 + By**2)*(Bx**2 + By**2 + Bz**2)*(-(By*Bx_p) +\n",
    "    Bx*By_p)*(lam*Bx*Bx_p + lam*By*By_p + \n",
    "    Bz*Bz_p) + (Bz*((2 - lam)*Bx**2 - (-2 + lam)*By**2 + Bz**2)*\n",
    "    (lam*Bx**2 + lam*By**2 + Bz**2)*(-(By*Bx_p) + Bx*By_p)*\n",
    "    (-(Bx**2*Bz_p) + Bx*Bz*Bx_p + \n",
    "    By*(Bz*By_p - By*Bz_p)))/(Bx**2 + By**2 + Bz**2) + \n",
    "    (Bx**2 + By**2)*(Bx**2 + By**2 + Bz**2)*(lam*Bx**2 + lam*By**2 + Bz**2)*\n",
    "    (-(By*Bx_p2) + Bx*By_p2)))/\\\n",
    "    ((lam*Bx**2 + lam*By**2 + Bz**2)**2*(lam*(Bx**2 + By**2) + Bz**2))\n",
    "    a4=Bx*((Bz*(Bx**2 + By**2 + Bz**2)**2*(By*Bx_p - Bx*By_p)**2)\\\n",
    "    /(lam*Bx**2 + lam*By**2 + Bz**2)**2 - \n",
    "    2*(Bx*Bx_p + By*By_p)*(-(Bx*Bz*Bx_p) + \n",
    "    Bx**2*Bz_p + By*(-(Bz*By_p) + By*Bz_p)) - \n",
    "    (6*(Bx**2 + By**2)*(Bx*Bx_p + By*By_p + \n",
    "    Bz*Bz_p)*(-(Bx*Bz*Bx_p) + Bx**2*Bz_p + \n",
    "    By*(-(Bz*By_p) + By*Bz_p)))/\n",
    "    (Bx**2 + By**2 + Bz**2) + 2*(Bx**2 + By**2)*\n",
    "    (Bx*Bx_p*Bz_p - \n",
    "    Bz*(Bx_p**2 + By_p**2 + Bx*Bx_p2 + \n",
    "    By*By_p2) + Bx**2*Bz_p2 + \n",
    "    By*(By_p*Bz_p + By*Bz_p2)))\n",
    "    \n",
    "    \n",
    "    return (a1+a2+a3+a4)/(2*(Bx**2+By**2 )**2*(Bx**2+By**2+Bz**2)**1.5)\n",
    "\n"
   ]
  },
  {
   "cell_type": "code",
   "execution_count": 12,
   "metadata": {},
   "outputs": [],
   "source": [
    "## uy2\n",
    "def uy2(T):\n",
    "    global lam\n",
    "    Bx,By,Bz=B(T)\n",
    "    Bx_p,By_p,Bz_p=B_prime(T)\n",
    "    Bx_p2,By_p2,Bz_p2=B_prime2(T)\n",
    "    return ((By*Bz*(Bx**2 + By**2 + Bz**2)**2*(By*Bx_p - Bx*By_p)**2)\\\n",
    "             /(lam*Bx**2 + lam*By**2 + Bz**2)**2 + \n",
    "            (2*Bx*Bz**2*(-(By*Bx_p) + Bx*By_p)*\\\n",
    "            (-(Bx*Bz*Bx_p) + Bx**2*Bz_p + \n",
    "            By*(-(Bz*By_p) + By*Bz_p)))/\n",
    "            (lam*Bx**2 + lam*By**2 + Bz**2) - (2*Bx*Bz*(Bx**2 + By**2 + Bz**2)*\\\n",
    "            (-2*(Bx**2 + By**2 + Bz**2)*(lam*Bx**2 + lam*By**2 + Bz**2)*\\\n",
    "            (-(By*Bx_p) + Bx*By_p)*(Bx*Bx_p + \n",
    "            By*By_p) + (Bx**2 + By**2)*(lam*Bx**2 + lam*By**2 + Bz**2)*\\\n",
    "            (-(By*Bx_p) + Bx*By_p)*(Bx*Bx_p + \n",
    "            By*By_p + Bz*Bz_p) - \n",
    "            2*(Bx**2 + By**2)*(Bx**2 + By**2 + Bz**2)*(-(By*Bx_p) + \n",
    "            Bx*By_p)*(lam*Bx*Bx_p + lam*By*By_p + \n",
    "            Bz*Bz_p) + (Bz*((2 - lam)*Bx**2 - (-2 + lam)*By**2 + Bz**2)*\\\n",
    "            (lam*Bx**2 + lam*By**2 + Bz**2)*(-(By*Bx_p) + \n",
    "            Bx*By_p)*(Bx*Bz*Bx_p - Bx**2*Bz_p + \n",
    "            By*(Bz*By_p - By*Bz_p)))/ \\\n",
    "            (Bx**2 + By**2 + Bz**2) + (Bx**2 + By**2)*(Bx**2 + By**2 + Bz**2)*\\\n",
    "            (lam*Bx**2 + lam*By**2 + Bz**2)*(-(By*Bx_p2) + \n",
    "            Bx*By_p2)))/((lam*Bx**2 + lam*By**2 + Bz**2)**2*\\\n",
    "            (lam*(Bx**2 + By**2) + Bz**2)) + \n",
    "            By*((Bz*(Bx**2 + By**2 + Bz**2)**2*(By*Bx_p - \n",
    "            Bx*By_p)**2)/(lam*Bx**2 + lam*By**2 + Bz**2)**2 - \n",
    "            2*(Bx*Bx_p + By*By_p)*(-(Bx*Bz*Bx_p) + \n",
    "            Bx**2*Bz_p + By*(-(Bz*By_p) + \n",
    "            By*Bz_p)) - (6*(Bx**2 + By**2)*(Bx*Bx_p + \n",
    "            By*By_p + Bz*Bz_p)*(-(Bx*Bz*Bx_p) + \n",
    "            Bx**2*Bz_p + By*(-(Bz*By_p) + \n",
    "            By*Bz_p)))/(Bx**2 + By**2 + Bz**2) + \n",
    "            2*(Bx**2 + By**2)*(Bx*Bx_p*Bz_p - \n",
    "            Bz*(Bx_p**2 + By_p**2 + Bx*Bx_p2 + \n",
    "            By*By_p2) + Bx**2*Bz_p2 + \n",
    "            By*(By_p*Bz_p + By*Bz_p2))))/\\\n",
    "            (2*(Bx**2 + By**2)**2*(Bx**2 + By**2 + Bz**2)**(3/2))\n",
    "\n"
   ]
  },
  {
   "cell_type": "code",
   "execution_count": 13,
   "metadata": {},
   "outputs": [],
   "source": [
    "import scipy.integrate as integrate\n",
    "def target(vv):\n",
    "    global v\n",
    "    v=vv\n",
    "    dx1=np.mean([ux1(i) for i in np.linspace(0,2*np.pi,1000) ])*2*np.pi\n",
    "    dx2=np.mean([ux2(i) for i in np.linspace(0,2*np.pi,1000) ])*2*np.pi\n",
    "    dy1=np.mean([uy1(i) for i in np.linspace(0,2*np.pi,1000) ])*2*np.pi\n",
    "    return -np.absolute(dy1/(dx1+dx2))*dy1"
   ]
  },
  {
   "cell_type": "code",
   "execution_count": 14,
   "metadata": {},
   "outputs": [
    {
     "name": "stdout",
     "output_type": "stream",
     "text": [
      "0.39759397506713867\n"
     ]
    }
   ],
   "source": [
    "import time\n",
    "\n",
    "start = time.time()\n",
    "\n",
    "test=np.mean([uy2(i) for i in np.linspace(0,2*np.pi,1000) ])*2*np.pi\n",
    "end = time.time()\n",
    "print(end - start)"
   ]
  },
  {
   "cell_type": "code",
   "execution_count": 15,
   "metadata": {},
   "outputs": [
    {
     "name": "stderr",
     "output_type": "stream",
     "text": [
      "/anaconda/lib/python3.6/site-packages/ipykernel_launcher.py:1: IntegrationWarning: The maximum number of subdivisions (50) has been achieved.\n",
      "  If increasing the limit yields no improvement it is advised to analyze \n",
      "  the integrand in order to determine the difficulties.  If the position of a \n",
      "  local difficulty can be determined (singularity, discontinuity) one will \n",
      "  probably gain from splitting up the interval and calling the integrator \n",
      "  on the subranges.  Perhaps a special-purpose integrator should be used.\n",
      "  \"\"\"Entry point for launching an IPython kernel.\n"
     ]
    },
    {
     "data": {
      "text/plain": [
       "(10.82683996357988, 1.005332422477057)"
      ]
     },
     "execution_count": 15,
     "metadata": {},
     "output_type": "execute_result"
    }
   ],
   "source": [
    "integrate.quad(uy2, 0, 2*np.pi)"
   ]
  },
  {
   "cell_type": "code",
   "execution_count": 16,
   "metadata": {},
   "outputs": [
    {
     "name": "stdout",
     "output_type": "stream",
     "text": [
      "0.44419264793395996\n"
     ]
    },
    {
     "name": "stderr",
     "output_type": "stream",
     "text": [
      "/anaconda/lib/python3.6/site-packages/scipy/integrate/quadrature.py:802: AccuracyWarning: divmax (10) exceeded. Latest difference = 3.497745e-01\n",
      "  AccuracyWarning)\n"
     ]
    }
   ],
   "source": [
    "start = time.time()\n",
    "integrate.romberg(uy2, 0, 2*np.pi)\n",
    "end = time.time()\n",
    "print(end - start)"
   ]
  },
  {
   "cell_type": "code",
   "execution_count": 17,
   "metadata": {},
   "outputs": [
    {
     "name": "stderr",
     "output_type": "stream",
     "text": [
      "/anaconda/lib/python3.6/site-packages/ipykernel_launcher.py:1: IntegrationWarning: The maximum number of subdivisions (50) has been achieved.\n",
      "  If increasing the limit yields no improvement it is advised to analyze \n",
      "  the integrand in order to determine the difficulties.  If the position of a \n",
      "  local difficulty can be determined (singularity, discontinuity) one will \n",
      "  probably gain from splitting up the interval and calling the integrator \n",
      "  on the subranges.  Perhaps a special-purpose integrator should be used.\n",
      "  \"\"\"Entry point for launching an IPython kernel.\n"
     ]
    },
    {
     "data": {
      "text/plain": [
       "(0.6330924660495176, 1.8594621413421462)"
      ]
     },
     "execution_count": 17,
     "metadata": {},
     "output_type": "execute_result"
    }
   ],
   "source": [
    "integrate.quad(ux2, 0, 2*np.pi)"
   ]
  },
  {
   "cell_type": "code",
   "execution_count": 18,
   "metadata": {},
   "outputs": [
    {
     "name": "stderr",
     "output_type": "stream",
     "text": [
      "/anaconda/lib/python3.6/site-packages/scipy/integrate/quadrature.py:802: AccuracyWarning: divmax (10) exceeded. Latest difference = 1.399447e-03\n",
      "  AccuracyWarning)\n"
     ]
    },
    {
     "data": {
      "text/plain": [
       "-0.31546371450513955"
      ]
     },
     "execution_count": 18,
     "metadata": {},
     "output_type": "execute_result"
    }
   ],
   "source": [
    "integrate.romberg(ux1, 0, 2*np.pi)"
   ]
  },
  {
   "cell_type": "code",
   "execution_count": 19,
   "metadata": {},
   "outputs": [],
   "source": [
    "sam= np.random.uniform(low=-1, high=1, size=(7,))"
   ]
  },
  {
   "cell_type": "code",
   "execution_count": 20,
   "metadata": {},
   "outputs": [
    {
     "name": "stdout",
     "output_type": "stream",
     "text": [
      "0.8616509437561035\n",
      "-0.0002516108041048897\n"
     ]
    }
   ],
   "source": [
    "start = time.time()\n",
    "Target=target(sam)\n",
    "end = time.time()\n",
    "print(end - start)\n",
    "print(Target)"
   ]
  },
  {
   "cell_type": "code",
   "execution_count": 21,
   "metadata": {},
   "outputs": [],
   "source": [
    "import cma"
   ]
  },
  {
   "cell_type": "code",
   "execution_count": 22,
   "metadata": {},
   "outputs": [],
   "source": [
    "import time\n",
    "from neat.parallel import ParallelEvaluator"
   ]
  },
  {
   "cell_type": "markdown",
   "metadata": {},
   "source": [
    "# parrellel computing"
   ]
  },
  {
   "cell_type": "code",
   "execution_count": null,
   "metadata": {},
   "outputs": [
    {
     "name": "stdout",
     "output_type": "stream",
     "text": [
      "(4_w,9)-aCMA-ES (mu_w=2.8,w_1=49%) in dimension 7 (seed=391974, Tue Jan 28 19:53:01 2020)\n",
      "Iterat #Fevals   function value  axis ratio  sigma  min&max std  t[m:s]\n",
      "    1      9 -3.348096157752628e-04 1.0e+00 4.94e-01  5e-01  5e-01 0:02.4\n",
      "    2     18 -2.502746925718562e-03 1.3e+00 4.96e-01  5e-01  5e-01 0:04.7\n",
      "    3     27 -4.409275288235824e-03 1.3e+00 5.42e-01  5e-01  6e-01 0:06.9\n",
      "    5     45 -3.861324743611634e-03 1.6e+00 5.65e-01  5e-01  6e-01 0:11.3\n",
      "    7     63 -2.419695990210250e-01 1.6e+00 4.78e-01  4e-01  5e-01 0:15.6\n",
      "   10     90 -8.246103963391045e-03 1.7e+00 4.02e-01  3e-01  4e-01 0:22.4\n",
      "   13    117 -1.837186307914811e-02 1.7e+00 3.27e-01  3e-01  3e-01 0:29.3\n",
      "   17    153 -1.948697978618620e-02 2.0e+00 2.74e-01  2e-01  3e-01 0:38.5\n",
      "   21    189 -3.417736365329809e-02 2.1e+00 2.36e-01  2e-01  2e-01 0:47.9\n",
      "   25    225 -5.897115260554724e-01 2.1e+00 2.16e-01  1e-01  2e-01 0:57.2\n",
      "   30    270 -4.376803241352477e-01 2.4e+00 1.74e-01  9e-02  1e-01 1:08.7\n",
      "   35    315 -4.298015297500145e-02 2.9e+00 1.75e-01  1e-01  2e-01 1:21.7\n",
      "   40    360 -5.371126543877923e-01 3.5e+00 1.69e-01  9e-02  2e-01 1:36.6\n",
      "   45    405 -1.566395294766018e-01 3.7e+00 1.29e-01  7e-02  1e-01 1:51.8\n",
      "   50    450 -2.285764808183367e-01 3.7e+00 1.68e-01  9e-02  2e-01 2:05.8\n",
      "   56    504 -2.752600147039614e-01 4.8e+00 1.37e-01  7e-02  1e-01 2:22.3\n",
      "(4_w,9)-aCMA-ES (mu_w=2.8,w_1=49%) in dimension 7 (seed=345285, Tue Jan 28 19:55:24 2020)\n",
      "Iterat #Fevals   function value  axis ratio  sigma  min&max std  t[m:s]\n",
      "    1      9 -1.322362808739549e-03 1.0e+00 4.92e-01  5e-01  5e-01 0:02.7\n",
      "    2     18 -7.282641208815529e-03 1.2e+00 4.93e-01  5e-01  5e-01 0:05.4\n",
      "    3     27 -6.656926965988164e-02 1.4e+00 5.13e-01  5e-01  6e-01 0:07.9\n",
      "    5     45 -1.942162978757591e-02 1.7e+00 5.80e-01  5e-01  6e-01 0:12.9\n",
      "    7     63 -4.328535368389542e-02 1.7e+00 4.77e-01  4e-01  5e-01 0:18.1\n",
      "   10     90 -1.076232825404322e-02 2.0e+00 3.92e-01  3e-01  4e-01 0:25.6\n",
      "   13    117 -3.470827800151529e-02 1.9e+00 2.82e-01  2e-01  3e-01 0:34.3\n",
      "   16    144 -6.253440502738128e-02 2.3e+00 2.69e-01  2e-01  3e-01 0:41.5\n",
      "   20    180 -1.586038306798339e-02 2.2e+00 2.93e-01  2e-01  3e-01 0:52.5\n",
      "   24    216 -2.174738082528230e-01 2.2e+00 2.23e-01  2e-01  2e-01 1:02.8\n",
      "   29    261 -2.879031098719161e-01 2.2e+00 1.75e-01  1e-01  2e-01 1:15.1\n",
      "   33    297 -2.410619857907350e-01 2.2e+00 1.19e-01  8e-02  1e-01 1:26.2\n",
      "   38    342 -5.375935299945680e-02 2.3e+00 9.38e-02  5e-02  8e-02 1:39.6\n",
      "   43    387 -2.710360190681294e-01 2.8e+00 8.62e-02  4e-02  8e-02 1:52.6\n",
      "   49    441 -2.239515322333473e+00 3.3e+00 8.01e-02  4e-02  7e-02 2:07.9\n",
      "   56    504 -4.045292564223986e+00 3.3e+00 6.72e-02  3e-02  5e-02 2:24.9\n",
      "(4_w,9)-aCMA-ES (mu_w=2.8,w_1=49%) in dimension 7 (seed=321731, Tue Jan 28 19:57:49 2020)\n",
      "Iterat #Fevals   function value  axis ratio  sigma  min&max std  t[m:s]\n",
      "    1      9 -6.474831868458817e-05 1.0e+00 5.35e-01  5e-01  6e-01 0:02.6\n",
      "    2     18 -8.111816422087627e-04 1.4e+00 6.13e-01  6e-01  8e-01 0:05.0\n",
      "    3     27 -6.739155391131585e-03 1.6e+00 6.69e-01  6e-01  8e-01 0:07.3\n",
      "    5     45 -4.091388962962524e-03 1.8e+00 7.87e-01  7e-01  1e+00 0:11.9\n",
      "    7     63 -1.751812206901315e-02 2.2e+00 7.20e-01  6e-01  1e+00 0:16.6\n",
      "   10     90 -7.203457660562741e-03 2.7e+00 5.53e-01  4e-01  8e-01 0:24.0\n",
      "   13    117 -5.991221824669936e-01 2.7e+00 4.05e-01  3e-01  6e-01 0:31.3\n",
      "   17    153 -2.257624848316991e-02 2.8e+00 4.34e-01  3e-01  6e-01 0:40.5\n",
      "   21    189 -2.177188681514772e-02 3.2e+00 3.67e-01  3e-01  5e-01 0:49.7\n",
      "   25    225 -1.730128535447154e-02 3.2e+00 2.68e-01  2e-01  3e-01 0:58.9\n",
      "   30    270 -1.115436459850030e+00 2.9e+00 1.63e-01  9e-02  2e-01 1:10.4\n",
      "   35    315 -8.497052368683193e-01 3.2e+00 1.24e-01  7e-02  1e-01 1:22.1\n",
      "   40    360 -7.765961587569011e-02 3.1e+00 1.32e-01  7e-02  2e-01 1:34.9\n",
      "   46    414 -2.056910769284920e-01 4.3e+00 1.13e-01  6e-02  1e-01 1:48.7\n",
      "   53    477 -3.082756490471425e+00 4.7e+00 7.18e-02  3e-02  8e-02 2:04.8\n",
      "   56    504 -1.230953965652579e+01 5.1e+00 6.18e-02  3e-02  6e-02 2:11.7\n",
      "(4_w,9)-aCMA-ES (mu_w=2.8,w_1=49%) in dimension 7 (seed=302441, Tue Jan 28 20:00:01 2020)\n",
      "Iterat #Fevals   function value  axis ratio  sigma  min&max std  t[m:s]\n",
      "    1      9 -5.630454238786828e-03 1.0e+00 4.92e-01  4e-01  5e-01 0:02.4\n",
      "    2     18 -4.175235613968476e-02 1.3e+00 5.03e-01  5e-01  5e-01 0:04.7\n",
      "    3     27 -1.266898603463592e-02 1.4e+00 4.84e-01  4e-01  5e-01 0:07.0\n",
      "    5     45 -1.292618929710766e-02 1.5e+00 4.37e-01  4e-01  5e-01 0:11.7\n",
      "    7     63 -1.486636291443642e-01 1.6e+00 3.70e-01  3e-01  4e-01 0:16.3\n",
      "   10     90 -2.087400906321793e-02 1.5e+00 2.77e-01  2e-01  3e-01 0:23.3\n",
      "   13    117 -1.995876682740541e-01 1.7e+00 2.11e-01  2e-01  2e-01 0:30.5\n",
      "   17    153 -4.365887216462864e-02 1.9e+00 1.39e-01  1e-01  1e-01 0:39.7\n",
      "   21    189 -1.425023882616158e-01 2.2e+00 1.34e-01  9e-02  1e-01 0:49.1\n",
      "   25    225 -5.096593882511821e-02 2.4e+00 1.32e-01  9e-02  1e-01 0:58.3\n",
      "   30    270 -3.363374383821250e-01 3.1e+00 1.03e-01  7e-02  1e-01 1:09.8\n",
      "   35    315 -2.559529178139712e-01 3.2e+00 7.77e-02  5e-02  7e-02 1:21.3\n",
      "   41    369 -8.314833602307868e+00 4.3e+00 6.08e-02  4e-02  5e-02 1:35.1\n",
      "   47    423 -1.039907762143097e+00 5.1e+00 5.32e-02  3e-02  4e-02 1:49.0\n",
      "   54    486 -3.829061058554678e+00 6.6e+00 3.54e-02  2e-02  3e-02 2:05.1\n",
      "   56    504 -6.199984862694479e-01 6.8e+00 3.62e-02  1e-02  3e-02 2:09.7\n",
      "(4_w,9)-aCMA-ES (mu_w=2.8,w_1=49%) in dimension 7 (seed=318301, Tue Jan 28 20:02:11 2020)\n",
      "Iterat #Fevals   function value  axis ratio  sigma  min&max std  t[m:s]\n",
      "    1      9 -2.161814743337643e-04 1.0e+00 4.66e-01  4e-01  5e-01 0:02.3\n",
      "    2     18 -1.001885899901813e-02 1.2e+00 4.99e-01  5e-01  5e-01 0:04.7\n",
      "    3     27 -4.649989398297483e-03 1.5e+00 5.32e-01  5e-01  6e-01 0:07.0\n",
      "    5     45 -6.853070861198478e-02 1.7e+00 5.13e-01  4e-01  6e-01 0:11.6\n",
      "    7     63 -6.103656906922048e-03 1.8e+00 5.93e-01  5e-01  7e-01 0:16.2\n",
      "   10     90 -2.270088817501414e-01 2.3e+00 4.33e-01  3e-01  5e-01 0:23.1\n",
      "   13    117 -1.995837640937173e-01 2.4e+00 3.84e-01  3e-01  5e-01 0:30.0\n",
      "   17    153 -6.457360192276408e-02 2.7e+00 3.14e-01  2e-01  4e-01 0:39.3\n",
      "   21    189 -9.343889428892914e-03 2.6e+00 2.90e-01  2e-01  3e-01 0:48.6\n",
      "   25    225 -1.261795440633570e+00 2.8e+00 2.05e-01  1e-01  2e-01 0:57.8\n",
      "   30    270 -5.773630310114522e-02 2.8e+00 2.12e-01  1e-01  2e-01 1:09.3\n",
      "   35    315 -6.185127111806416e-02 2.9e+00 1.61e-01  1e-01  2e-01 1:20.8\n",
      "   41    369 -1.870216095374971e-01 2.9e+00 1.73e-01  9e-02  2e-01 1:34.7\n",
      "   47    423 -3.672110606048988e-01 3.2e+00 1.12e-01  5e-02  1e-01 1:48.5\n",
      "   54    486 -3.500458436779899e+00 4.6e+00 7.28e-02  3e-02  7e-02 2:04.9\n",
      "   56    504 -2.641232683308687e+00 5.0e+00 6.30e-02  2e-02  6e-02 2:09.6\n",
      "(4_w,9)-aCMA-ES (mu_w=2.8,w_1=49%) in dimension 7 (seed=440910, Tue Jan 28 20:04:20 2020)\n",
      "Iterat #Fevals   function value  axis ratio  sigma  min&max std  t[m:s]\n",
      "    1      9 -6.111781348417476e-02 1.0e+00 4.56e-01  4e-01  5e-01 0:02.3\n",
      "    2     18 -4.302478184740242e-03 1.2e+00 4.81e-01  4e-01  5e-01 0:04.7\n",
      "    3     27 -5.835082221903225e-03 1.4e+00 4.53e-01  4e-01  5e-01 0:07.0\n",
      "    5     45 -2.402456307080998e-02 1.5e+00 3.93e-01  4e-01  4e-01 0:11.6\n",
      "    7     63 -2.341221180263976e-02 1.7e+00 3.83e-01  3e-01  4e-01 0:16.1\n",
      "   10     90 -1.438340089209817e-02 1.9e+00 3.55e-01  3e-01  4e-01 0:23.0\n",
      "   13    117 -2.942985500345549e-02 2.0e+00 3.02e-01  2e-01  4e-01 0:29.9\n",
      "   17    153 -1.145031079951014e-02 2.7e+00 2.15e-01  2e-01  3e-01 0:39.2\n",
      "   21    189 -8.228585603640918e-01 2.6e+00 1.96e-01  1e-01  3e-01 0:48.3\n",
      "   25    225 -3.142739524962015e-02 3.0e+00 1.70e-01  1e-01  2e-01 0:57.6\n",
      "   30    270 -2.439434376400899e-01 3.0e+00 1.19e-01  7e-02  1e-01 1:09.2\n",
      "   35    315 -1.597610700964105e-01 2.8e+00 1.01e-01  6e-02  9e-02 1:20.7\n",
      "   41    369 -1.230205436904535e+00 3.3e+00 6.60e-02  3e-02  6e-02 1:34.6\n",
      "   47    423 -2.853802251066639e+00 3.9e+00 9.84e-02  5e-02  9e-02 1:48.4\n",
      "   54    486 -2.521014481988586e-01 4.4e+00 8.23e-02  4e-02  8e-02 2:04.5\n",
      "   56    504 -1.374627647552666e-01 4.5e+00 7.50e-02  4e-02  7e-02 2:09.2\n",
      "(4_w,9)-aCMA-ES (mu_w=2.8,w_1=49%) in dimension 7 (seed=350684, Tue Jan 28 20:06:30 2020)\n",
      "Iterat #Fevals   function value  axis ratio  sigma  min&max std  t[m:s]\n"
     ]
    },
    {
     "name": "stdout",
     "output_type": "stream",
     "text": [
      "    1      9 -6.166948878175137e-05 1.0e+00 4.86e-01  5e-01  5e-01 0:02.8\n",
      "    2     18 -1.776699265157816e-03 1.2e+00 4.80e-01  5e-01  5e-01 0:05.3\n",
      "    3     27 -4.801374698035748e-04 1.4e+00 4.88e-01  5e-01  5e-01 0:07.6\n",
      "    5     45 -6.626618959506420e-04 1.7e+00 4.70e-01  4e-01  5e-01 0:12.5\n",
      "    7     63 -8.032656375757063e-03 1.9e+00 4.67e-01  4e-01  5e-01 0:17.0\n",
      "   10     90 -3.968871293526832e-03 2.2e+00 4.68e-01  4e-01  5e-01 0:23.8\n",
      "   13    117 -9.964738968114117e-03 2.8e+00 3.77e-01  3e-01  5e-01 0:30.7\n",
      "   17    153 -6.034708700562526e-02 2.9e+00 3.15e-01  2e-01  4e-01 0:39.9\n",
      "   21    189 -9.921018046714322e-03 3.1e+00 2.89e-01  2e-01  3e-01 0:49.1\n",
      "   25    225 -1.536193220097660e-02 3.4e+00 2.92e-01  2e-01  4e-01 0:58.3\n",
      "   30    270 -6.039401369738495e-02 3.8e+00 2.08e-01  1e-01  2e-01 1:09.8\n",
      "   35    315 -6.258732905068441e-02 3.6e+00 1.74e-01  1e-01  2e-01 1:21.3\n",
      "   41    369 -6.739793552216453e-01 3.6e+00 1.15e-01  7e-02  1e-01 1:35.3\n",
      "   47    423 -5.110240991181027e+00 4.1e+00 1.48e-01  1e-01  1e-01 1:49.1\n",
      "   54    486 -1.093979441756750e-01 5.5e+00 1.23e-01  7e-02  1e-01 2:05.3\n",
      "   56    504 -1.784440319733828e-01 5.6e+00 9.44e-02  5e-02  9e-02 2:09.9\n",
      "(4_w,9)-aCMA-ES (mu_w=2.8,w_1=49%) in dimension 7 (seed=357552, Tue Jan 28 20:08:40 2020)\n",
      "Iterat #Fevals   function value  axis ratio  sigma  min&max std  t[m:s]\n",
      "    1      9 -1.013974328188420e-03 1.0e+00 4.50e-01  4e-01  5e-01 0:02.3\n",
      "    2     18 -2.258832983447982e-03 1.2e+00 4.30e-01  4e-01  5e-01 0:04.6\n",
      "    3     27 -3.967684834914225e-03 1.4e+00 3.97e-01  3e-01  4e-01 0:07.0\n",
      "    5     45 -3.928930831781018e-02 1.4e+00 4.27e-01  4e-01  4e-01 0:11.6\n",
      "    7     63 -1.342597891346961e-02 1.7e+00 4.77e-01  4e-01  5e-01 0:16.3\n",
      "   10     90 -1.176153000300316e-02 1.9e+00 3.89e-01  3e-01  4e-01 0:23.4\n",
      "   13    117 -2.330817698149087e-02 1.8e+00 3.03e-01  2e-01  3e-01 0:30.4\n",
      "   17    153 -2.327908134480343e-02 1.8e+00 2.07e-01  1e-01  2e-01 0:39.8\n",
      "   21    189 -3.010563052903952e-02 1.8e+00 1.88e-01  1e-01  2e-01 0:49.1\n",
      "   25    225 -1.397665814963694e-02 2.2e+00 1.89e-01  1e-01  2e-01 0:58.3\n",
      "   30    270 -3.757376424303201e-02 2.3e+00 1.78e-01  1e-01  2e-01 1:09.8\n",
      "   35    315 -1.500811036020342e-01 2.6e+00 1.19e-01  6e-02  1e-01 1:21.3\n",
      "   41    369 -9.717178261942903e-02 3.2e+00 1.20e-01  6e-02  1e-01 1:35.1\n",
      "   47    423 -2.790725251299403e+00 4.3e+00 1.02e-01  5e-02  1e-01 1:48.9\n",
      "   54    486 -2.412713874532905e+00 5.0e+00 7.13e-02  3e-02  7e-02 2:04.9\n",
      "   56    504 -3.716642017812917e-01 5.6e+00 6.28e-02  3e-02  6e-02 2:09.6\n",
      "(4_w,9)-aCMA-ES (mu_w=2.8,w_1=49%) in dimension 7 (seed=426052, Tue Jan 28 20:10:49 2020)\n",
      "Iterat #Fevals   function value  axis ratio  sigma  min&max std  t[m:s]\n",
      "    1      9 4.254984505715840e-06 1.0e+00 5.35e-01  5e-01  6e-01 0:02.3\n",
      "    2     18 -2.323359927808468e-06 1.3e+00 5.84e-01  6e-01  7e-01 0:04.6\n",
      "    3     27 -4.263367548142464e-04 1.5e+00 6.87e-01  6e-01  8e-01 0:06.9\n",
      "    5     45 -9.988887745060293e-04 1.9e+00 8.79e-01  8e-01  1e+00 0:11.5\n",
      "    7     63 -5.592262247419647e-03 1.9e+00 9.38e-01  8e-01  1e+00 0:16.1\n",
      "   10     90 -3.301125385991219e-02 2.3e+00 7.88e-01  6e-01  1e+00 0:23.0\n",
      "   13    117 -6.437896209479905e-03 2.1e+00 8.39e-01  6e-01  9e-01 0:29.9\n",
      "   17    153 -1.292751333090817e-03 2.2e+00 7.43e-01  5e-01  8e-01 0:39.1\n",
      "   21    189 -8.543513015832980e-03 2.4e+00 6.35e-01  4e-01  8e-01 0:48.2\n",
      "   25    225 -2.157315654662854e-02 2.5e+00 5.27e-01  3e-01  6e-01 0:57.5\n",
      "   30    270 -2.087433549072684e-02 2.9e+00 3.86e-01  2e-01  5e-01 1:08.9\n",
      "   35    315 -1.308055606748845e-01 3.2e+00 2.62e-01  1e-01  3e-01 1:20.5\n",
      "   41    369 -6.726990022693085e-01 3.7e+00 1.73e-01  9e-02  2e-01 1:34.3\n",
      "   47    423 -5.625637623617172e-01 3.7e+00 1.28e-01  6e-02  1e-01 1:48.1\n",
      "   54    486 -4.438286910883535e-01 3.9e+00 1.20e-01  6e-02  1e-01 2:04.5\n",
      "   56    504 -2.598365954161914e-01 4.0e+00 1.06e-01  5e-02  1e-01 2:09.1\n",
      "(4_w,9)-aCMA-ES (mu_w=2.8,w_1=49%) in dimension 7 (seed=376690, Tue Jan 28 20:12:59 2020)\n",
      "Iterat #Fevals   function value  axis ratio  sigma  min&max std  t[m:s]\n",
      "    1      9 -3.149869369447068e-05 1.0e+00 4.74e-01  5e-01  5e-01 0:02.4\n",
      "    2     18 -5.322246345976756e-04 1.2e+00 4.89e-01  5e-01  5e-01 0:04.6\n",
      "    3     27 -4.008944312046878e-04 1.4e+00 5.09e-01  5e-01  5e-01 0:06.9\n",
      "    5     45 -1.961590711712666e-02 1.6e+00 5.83e-01  5e-01  6e-01 0:11.5\n",
      "    7     63 -2.232222730825501e-03 1.7e+00 5.78e-01  5e-01  6e-01 0:16.1\n",
      "   10     90 -3.054877557382142e-03 1.7e+00 5.51e-01  5e-01  6e-01 0:23.0\n",
      "   13    117 -9.325333218565286e-03 1.7e+00 4.58e-01  4e-01  5e-01 0:30.0\n",
      "   17    153 -1.320321009533288e-02 1.7e+00 3.92e-01  3e-01  4e-01 0:39.1\n",
      "   21    189 -1.069099994109919e-02 2.0e+00 2.93e-01  2e-01  3e-01 0:48.3\n",
      "   25    225 -8.896944874835498e-02 2.4e+00 2.60e-01  2e-01  3e-01 0:57.6\n",
      "   30    270 -1.820592779499601e-02 2.5e+00 2.27e-01  2e-01  2e-01 1:09.1\n",
      "   35    315 -2.140039371508272e-01 2.8e+00 2.09e-01  1e-01  2e-01 1:20.6\n",
      "   41    369 -2.281393263667725e-01 3.4e+00 1.19e-01  8e-02  1e-01 1:34.5\n",
      "   47    423 -2.002769825414827e-01 3.6e+00 1.20e-01  7e-02  1e-01 1:48.4\n",
      "   54    486 -5.135732264596381e-01 4.6e+00 8.52e-02  5e-02  7e-02 2:04.5\n",
      "   56    504 -5.730944758567373e-01 4.9e+00 6.30e-02  4e-02  5e-02 2:09.0\n",
      "(4_w,9)-aCMA-ES (mu_w=2.8,w_1=49%) in dimension 7 (seed=296485, Tue Jan 28 20:15:08 2020)\n",
      "Iterat #Fevals   function value  axis ratio  sigma  min&max std  t[m:s]\n",
      "    1      9 -8.900287704282724e-05 1.0e+00 5.42e-01  5e-01  6e-01 0:02.4\n",
      "    2     18 -3.014398613368626e-03 1.3e+00 5.64e-01  5e-01  6e-01 0:04.7\n",
      "    3     27 -1.740831387931209e-03 1.3e+00 5.68e-01  5e-01  6e-01 0:07.0\n",
      "    5     45 -2.472402890724119e-03 1.4e+00 5.74e-01  5e-01  6e-01 0:11.7\n",
      "    7     63 -5.794934264450946e-02 1.6e+00 4.86e-01  4e-01  5e-01 0:16.3\n",
      "   10     90 -3.818649377176764e-02 1.7e+00 3.42e-01  3e-01  4e-01 0:23.2\n",
      "   13    117 -6.313314797196122e-02 1.8e+00 2.42e-01  2e-01  2e-01 0:30.1\n",
      "   17    153 -3.772014429816697e-01 1.9e+00 1.79e-01  1e-01  2e-01 0:39.4\n",
      "   21    189 -3.269500590196200e-02 2.3e+00 1.48e-01  9e-02  1e-01 0:48.6\n",
      "   25    225 -2.024186453097533e-01 2.2e+00 1.19e-01  7e-02  1e-01 0:57.8\n",
      "   30    270 -3.836064893712008e-01 2.9e+00 9.44e-02  5e-02  9e-02 1:09.6\n",
      "   35    315 -1.396741287252286e-01 3.4e+00 1.11e-01  7e-02  1e-01 1:21.2\n",
      "   40    360 -7.868250511086252e-01 3.5e+00 9.11e-02  5e-02  9e-02 1:33.4\n",
      "   46    414 -6.430093522204544e-01 4.2e+00 1.11e-01  6e-02  1e-01 1:47.9\n",
      "   52    468 -3.710265314175378e-01 4.4e+00 9.95e-02  4e-02  1e-01 2:02.3\n",
      "   56    504 -2.387161878360148e-01 5.0e+00 9.68e-02  5e-02  1e-01 2:12.0\n",
      "(4_w,9)-aCMA-ES (mu_w=2.8,w_1=49%) in dimension 7 (seed=336931, Tue Jan 28 20:17:20 2020)\n",
      "Iterat #Fevals   function value  axis ratio  sigma  min&max std  t[m:s]\n",
      "    1      9 -1.949162135763826e-02 1.0e+00 4.41e-01  4e-01  4e-01 0:02.5\n",
      "    2     18 -2.371533586795569e-03 1.2e+00 3.93e-01  4e-01  4e-01 0:04.9\n",
      "    3     27 -6.946879438407562e-03 1.3e+00 3.60e-01  3e-01  4e-01 0:07.3\n",
      "    5     45 -5.237483124771174e-03 1.4e+00 3.67e-01  3e-01  4e-01 0:12.0\n",
      "    7     63 -1.344562181125307e-02 1.5e+00 3.43e-01  3e-01  4e-01 0:17.0\n",
      "   10     90 -1.755985933348333e+00 2.0e+00 3.26e-01  3e-01  3e-01 0:24.3\n",
      "   13    117 -1.139641029236130e-01 2.3e+00 2.94e-01  2e-01  3e-01 0:31.4\n",
      "   16    144 -5.333748580090249e-02 2.6e+00 2.88e-01  2e-01  3e-01 0:38.7\n",
      "   20    180 -1.318019327924427e-02 2.4e+00 2.77e-01  2e-01  3e-01 0:48.2\n",
      "   24    216 -1.819194426291717e-02 2.4e+00 1.97e-01  1e-01  2e-01 0:57.8\n",
      "   29    261 -5.820835958262242e-02 2.5e+00 2.08e-01  1e-01  2e-01 1:10.1\n",
      "   34    306 -1.123872906900695e+00 2.6e+00 1.70e-01  1e-01  2e-01 1:22.2\n",
      "   39    351 -5.599570909430375e-01 3.4e+00 2.01e-01  1e-01  2e-01 1:34.4\n",
      "   45    405 -2.106152470654233e-01 3.4e+00 1.42e-01  7e-02  1e-01 1:48.8\n",
      "   51    459 -7.453186348430013e-01 4.2e+00 9.89e-02  4e-02  1e-01 2:03.7\n",
      "   56    504 -6.579698730955323e+01 4.3e+00 9.65e-02  4e-02  9e-02 2:16.2\n",
      "(4_w,9)-aCMA-ES (mu_w=2.8,w_1=49%) in dimension 7 (seed=371856, Tue Jan 28 20:19:36 2020)\n",
      "Iterat #Fevals   function value  axis ratio  sigma  min&max std  t[m:s]\n",
      "    1      9 -3.195365930966665e-04 1.0e+00 4.42e-01  4e-01  4e-01 0:02.6\n",
      "    2     18 -4.317857892271638e-04 1.2e+00 4.55e-01  4e-01  5e-01 0:05.1\n"
     ]
    },
    {
     "name": "stdout",
     "output_type": "stream",
     "text": [
      "    3     27 -5.592525267817551e-03 1.3e+00 4.73e-01  4e-01  5e-01 0:07.6\n",
      "    5     45 -5.020333366738120e-03 1.4e+00 4.86e-01  4e-01  5e-01 0:12.4\n",
      "    7     63 -1.264097638164925e-02 1.5e+00 4.83e-01  4e-01  5e-01 0:17.6\n",
      "    9     81 -9.492391474376041e-02 1.6e+00 5.25e-01  4e-01  6e-01 0:22.6\n",
      "   12    108 -4.690473533524791e-02 1.9e+00 4.38e-01  3e-01  5e-01 0:30.1\n",
      "   15    135 -2.876124036393349e-02 1.9e+00 3.16e-01  2e-01  3e-01 0:37.6\n",
      "   19    171 -3.412262452744042e-02 1.8e+00 2.79e-01  2e-01  3e-01 0:47.7\n",
      "   23    207 -2.160301789007597e-01 2.2e+00 1.91e-01  1e-01  2e-01 0:57.7\n",
      "   27    243 -2.724933733605003e+00 2.2e+00 1.62e-01  9e-02  2e-01 1:08.9\n",
      "   31    279 -3.472198375500212e-02 2.6e+00 1.32e-01  7e-02  1e-01 1:20.9\n",
      "   36    324 -6.991614268243246e-02 3.5e+00 1.03e-01  6e-02  1e-01 1:33.5\n",
      "   42    378 -3.143357488455408e-01 4.6e+00 7.05e-02  4e-02  7e-02 1:48.4\n",
      "   48    432 -1.213052774365090e+00 5.7e+00 6.36e-02  3e-02  6e-02 2:03.2\n",
      "   54    486 -3.372646057405070e-01 8.9e+00 6.04e-02  3e-02  5e-02 2:18.3\n",
      "   56    504 -1.072043459744169e+00 8.4e+00 5.02e-02  3e-02  4e-02 2:23.3\n",
      "(4_w,9)-aCMA-ES (mu_w=2.8,w_1=49%) in dimension 7 (seed=301745, Tue Jan 28 20:22:00 2020)\n",
      "Iterat #Fevals   function value  axis ratio  sigma  min&max std  t[m:s]\n",
      "    1      9 -3.777721623308933e-02 1.0e+00 4.74e-01  4e-01  5e-01 0:02.5\n",
      "    2     18 -7.186115031100518e-03 1.2e+00 4.81e-01  4e-01  5e-01 0:05.0\n",
      "    3     27 -1.094787792435446e-02 1.4e+00 4.69e-01  4e-01  5e-01 0:07.5\n",
      "    5     45 -1.675639691245403e-02 1.4e+00 4.22e-01  4e-01  4e-01 0:12.5\n",
      "    7     63 -1.181113934384098e-02 1.6e+00 3.93e-01  3e-01  4e-01 0:17.4\n",
      "   10     90 -8.696310166982871e-03 1.5e+00 3.07e-01  3e-01  3e-01 0:24.8\n",
      "   13    117 -2.679496996454786e-02 1.6e+00 3.25e-01  3e-01  3e-01 0:32.2\n",
      "   16    144 -5.447523314141556e-01 1.6e+00 2.57e-01  2e-01  3e-01 0:39.8\n",
      "   20    180 -7.013408645578326e-02 2.2e+00 2.39e-01  2e-01  3e-01 0:49.9\n",
      "   24    216 -1.547418985446253e+00 2.4e+00 1.74e-01  1e-01  2e-01 1:00.0\n",
      "   29    261 -9.805541337786764e-01 2.5e+00 1.29e-01  9e-02  1e-01 1:12.4\n",
      "   34    306 -9.781573552449199e-02 3.3e+00 1.02e-01  7e-02  1e-01 1:24.8\n",
      "   39    351 -4.221268570603998e-01 3.6e+00 1.15e-01  7e-02  1e-01 1:37.4\n",
      "   45    405 -2.162001890108495e-01 3.6e+00 6.76e-02  3e-02  7e-02 1:52.3\n",
      "   51    459 -1.297932570450218e+00 4.0e+00 5.01e-02  2e-02  5e-02 2:07.2\n",
      "   56    504 -1.447272467615817e+00 4.1e+00 5.55e-02  2e-02  5e-02 2:19.9\n",
      "(4_w,9)-aCMA-ES (mu_w=2.8,w_1=49%) in dimension 7 (seed=349328, Tue Jan 28 20:24:20 2020)\n",
      "Iterat #Fevals   function value  axis ratio  sigma  min&max std  t[m:s]\n",
      "    1      9 -3.196640270578047e-04 1.0e+00 4.66e-01  4e-01  5e-01 0:02.5\n",
      "    2     18 -7.919196963813413e-03 1.2e+00 4.44e-01  4e-01  5e-01 0:05.0\n",
      "    3     27 -1.124772297081154e-02 1.2e+00 4.78e-01  4e-01  5e-01 0:07.5\n",
      "    5     45 -9.099212628071793e-03 1.5e+00 4.66e-01  4e-01  5e-01 0:12.5\n",
      "    7     63 -1.491403214178653e-01 1.6e+00 4.30e-01  4e-01  5e-01 0:17.5\n",
      "    9     81 -5.898658796095205e-02 1.8e+00 4.16e-01  3e-01  5e-01 0:22.5\n",
      "   12    108 -4.927555527046082e-03 2.2e+00 4.55e-01  4e-01  6e-01 0:29.9\n",
      "   15    135 -7.371206282007185e+00 2.3e+00 3.47e-01  2e-01  5e-01 0:37.3\n",
      "   19    171 -3.263978007415924e-01 2.9e+00 4.75e-01  3e-01  8e-01 0:47.2\n",
      "   23    207 -1.364424245995253e-01 3.3e+00 3.22e-01  2e-01  5e-01 0:57.0\n",
      "   28    252 -2.874585324852981e-02 3.7e+00 2.60e-01  1e-01  4e-01 1:09.1\n",
      "   33    297 -1.768056227532597e-01 3.8e+00 1.76e-01  1e-01  2e-01 1:21.3\n",
      "   38    342 -4.153025446088641e-01 3.3e+00 1.54e-01  7e-02  2e-01 1:33.7\n",
      "   44    396 -3.106819354041925e+01 3.6e+00 1.72e-01  9e-02  2e-01 1:48.8\n",
      "   50    450 -1.021053953534216e+00 3.5e+00 1.65e-01  8e-02  2e-01 2:03.9\n",
      "   56    504 -7.977898977756689e-01 3.5e+00 1.20e-01  6e-02  1e-01 2:18.5\n",
      "(4_w,9)-aCMA-ES (mu_w=2.8,w_1=49%) in dimension 7 (seed=353992, Tue Jan 28 20:26:38 2020)\n",
      "Iterat #Fevals   function value  axis ratio  sigma  min&max std  t[m:s]\n",
      "    1      9 -2.111500403974113e-04 1.0e+00 4.93e-01  5e-01  5e-01 0:02.5\n",
      "    2     18 -1.634024561257329e-02 1.3e+00 5.59e-01  5e-01  6e-01 0:05.0\n",
      "    3     27 -4.497010507549315e-02 1.5e+00 6.72e-01  6e-01  8e-01 0:07.6\n",
      "    5     45 -7.928810262813325e-03 1.6e+00 7.90e-01  7e-01  9e-01 0:12.6\n",
      "    7     63 -2.378962475999384e-02 1.7e+00 7.05e-01  6e-01  8e-01 0:17.6\n",
      "    9     81 -2.156456065280040e-02 1.7e+00 5.72e-01  5e-01  6e-01 0:22.7\n",
      "   12    108 -1.451954331042958e-02 1.7e+00 5.06e-01  4e-01  5e-01 0:30.2\n",
      "   15    135 -6.959607424293769e-02 1.8e+00 4.32e-01  3e-01  4e-01 0:37.7\n",
      "   19    171 -1.250184179604114e-02 2.0e+00 3.59e-01  3e-01  4e-01 0:47.5\n",
      "   23    207 -2.416291897080351e-01 2.2e+00 2.37e-01  2e-01  2e-01 0:57.5\n",
      "   28    252 -4.528120925079901e+00 2.2e+00 1.54e-01  1e-01  2e-01 1:09.9\n",
      "   33    297 -6.929915257871234e-02 2.5e+00 1.44e-01  9e-02  1e-01 1:22.4\n",
      "   38    342 -1.272914062707088e-01 2.7e+00 9.98e-02  6e-02  9e-02 1:35.1\n",
      "   44    396 -1.640833812028120e-01 3.0e+00 9.27e-02  5e-02  8e-02 1:50.1\n",
      "   50    450 -2.368105910028521e+00 4.3e+00 5.59e-02  3e-02  5e-02 2:05.2\n",
      "   56    504 -4.534588535139332e-01 5.3e+00 3.78e-02  2e-02  3e-02 2:20.6\n",
      "(4_w,9)-aCMA-ES (mu_w=2.8,w_1=49%) in dimension 7 (seed=405550, Tue Jan 28 20:28:59 2020)\n",
      "Iterat #Fevals   function value  axis ratio  sigma  min&max std  t[m:s]\n",
      "    1      9 -6.926769700076089e-03 1.0e+00 5.02e-01  5e-01  5e-01 0:02.5\n",
      "    2     18 -1.407516083309075e-02 1.4e+00 5.96e-01  5e-01  7e-01 0:05.0\n",
      "    3     27 -2.868482771323484e-02 1.5e+00 6.59e-01  6e-01  7e-01 0:07.5\n",
      "    5     45 -2.474584844619175e-02 1.6e+00 7.32e-01  6e-01  8e-01 0:12.4\n",
      "    7     63 -1.303001812331437e-02 1.8e+00 6.30e-01  5e-01  7e-01 0:17.4\n",
      "    9     81 -6.203168406366334e-03 1.9e+00 6.35e-01  5e-01  7e-01 0:22.5\n",
      "   12    108 -1.315107591590767e-02 1.9e+00 4.92e-01  4e-01  5e-01 0:30.0\n",
      "   15    135 -1.097561471376615e-01 2.1e+00 5.04e-01  4e-01  6e-01 0:37.5\n",
      "   19    171 -1.749218010144452e-02 2.3e+00 2.90e-01  2e-01  4e-01 0:47.4\n",
      "   23    207 -7.436416649931124e-01 2.5e+00 2.58e-01  2e-01  3e-01 0:57.3\n",
      "   28    252 -8.339737146060898e-02 2.6e+00 1.99e-01  1e-01  2e-01 1:09.8\n",
      "   33    297 -9.812268707428956e-02 2.6e+00 1.64e-01  1e-01  2e-01 1:22.2\n",
      "   38    342 -8.073946352913846e-01 2.3e+00 1.04e-01  6e-02  1e-01 1:34.7\n",
      "   44    396 -8.981759635909999e-02 2.7e+00 9.27e-02  5e-02  9e-02 1:49.5\n",
      "   50    450 -1.772407760320903e+00 3.9e+00 1.19e-01  6e-02  1e-01 2:04.6\n",
      "   56    504 -1.335974975313146e-01 5.0e+00 1.10e-01  5e-02  1e-01 2:19.7\n",
      "(4_w,9)-aCMA-ES (mu_w=2.8,w_1=49%) in dimension 7 (seed=302076, Tue Jan 28 20:31:19 2020)\n",
      "Iterat #Fevals   function value  axis ratio  sigma  min&max std  t[m:s]\n",
      "    1      9 -6.795348472930506e-07 1.0e+00 4.41e-01  4e-01  5e-01 0:02.6\n",
      "    2     18 -6.477661808132482e-04 1.3e+00 4.59e-01  4e-01  5e-01 0:05.1\n",
      "    3     27 -1.031347382909146e-01 1.5e+00 5.12e-01  5e-01  6e-01 0:07.5\n",
      "    5     45 -4.592800688654438e-03 1.7e+00 7.17e-01  7e-01  8e-01 0:12.5\n",
      "    7     63 -1.493056526202688e-03 1.6e+00 6.22e-01  6e-01  7e-01 0:17.5\n",
      "   10     90 -4.874061848087730e-02 1.7e+00 4.85e-01  4e-01  5e-01 0:24.9\n",
      "   13    117 -3.918353662257597e-02 1.8e+00 3.93e-01  3e-01  4e-01 0:32.5\n",
      "   16    144 -9.334862346919297e-02 1.9e+00 3.54e-01  3e-01  3e-01 0:40.3\n",
      "   20    180 -2.153393307959126e-02 2.0e+00 3.11e-01  2e-01  3e-01 0:50.2\n",
      "   24    216 -3.387014921090882e-01 2.5e+00 3.11e-01  2e-01  3e-01 1:00.1\n",
      "   29    261 -5.168777819407959e-01 2.5e+00 2.49e-01  2e-01  3e-01 1:12.5\n",
      "   34    306 -1.152186937998247e-01 2.6e+00 2.23e-01  1e-01  2e-01 1:25.1\n",
      "   39    351 -3.224066174794415e-01 2.6e+00 1.88e-01  1e-01  2e-01 1:37.6\n",
      "   45    405 -1.277786475920093e-01 2.8e+00 1.58e-01  9e-02  1e-01 1:52.8\n",
      "   51    459 -3.525900986523018e-01 3.7e+00 1.11e-01  6e-02  9e-02 2:07.8\n",
      "   56    504 -1.240655131126373e+00 4.4e+00 6.64e-02  3e-02  5e-02 2:20.5\n",
      "(4_w,9)-aCMA-ES (mu_w=2.8,w_1=49%) in dimension 7 (seed=318971, Tue Jan 28 20:33:40 2020)\n",
      "Iterat #Fevals   function value  axis ratio  sigma  min&max std  t[m:s]\n",
      "    1      9 -9.412476220183184e-05 1.0e+00 4.61e-01  4e-01  5e-01 0:02.5\n",
      "    2     18 -3.066783868620322e-03 1.2e+00 4.72e-01  4e-01  5e-01 0:05.0\n",
      "    3     27 -3.718275904647049e-03 1.4e+00 4.65e-01  4e-01  5e-01 0:07.6\n"
     ]
    },
    {
     "name": "stdout",
     "output_type": "stream",
     "text": [
      "    5     45 -1.930120817567385e-03 1.8e+00 5.74e-01  5e-01  7e-01 0:12.6\n",
      "    7     63 -1.353049960353024e-02 2.2e+00 5.53e-01  5e-01  7e-01 0:17.5\n",
      "   10     90 -8.016589812093655e-04 2.8e+00 7.23e-01  6e-01  1e+00 0:24.9\n",
      "   13    117 -1.553269319138693e-02 3.1e+00 5.44e-01  4e-01  7e-01 0:32.3\n",
      "   16    144 -1.494770923561668e-01 3.3e+00 5.43e-01  4e-01  7e-01 0:40.0\n",
      "   20    180 -3.944755151447500e-03 3.0e+00 6.16e-01  4e-01  8e-01 0:50.0\n",
      "   24    216 -9.133228081157307e-02 3.2e+00 3.91e-01  3e-01  5e-01 1:00.0\n",
      "   28    252 -2.992775648663228e-02 3.6e+00 4.25e-01  3e-01  6e-01 1:10.1\n",
      "   33    297 -3.423384209922382e-02 3.4e+00 4.81e-01  3e-01  6e-01 1:22.5\n",
      "   38    342 -1.009504835625301e-01 3.5e+00 4.25e-01  2e-01  5e-01 1:35.2\n",
      "   44    396 -2.612385846786134e-02 2.8e+00 3.75e-01  2e-01  4e-01 1:50.3\n",
      "   50    450 -2.580033235954264e-01 2.6e+00 4.02e-01  2e-01  4e-01 2:05.3\n",
      "   56    504 -6.856176248346327e-02 2.9e+00 3.33e-01  2e-01  3e-01 2:20.3\n",
      "(4_w,9)-aCMA-ES (mu_w=2.8,w_1=49%) in dimension 7 (seed=377691, Tue Jan 28 20:36:00 2020)\n",
      "Iterat #Fevals   function value  axis ratio  sigma  min&max std  t[m:s]\n",
      "    1      9 -4.554966395347519e-04 1.0e+00 4.84e-01  4e-01  5e-01 0:02.5\n",
      "    2     18 -3.905057722253925e-03 1.3e+00 4.31e-01  4e-01  5e-01 0:05.0\n",
      "    3     27 -6.590736518143321e-03 1.3e+00 4.22e-01  4e-01  4e-01 0:07.6\n",
      "    5     45 -3.040183170894016e-02 1.4e+00 4.25e-01  4e-01  5e-01 0:12.5\n",
      "    7     63 -2.559194355315241e-03 1.5e+00 3.70e-01  3e-01  4e-01 0:17.4\n",
      "   10     90 -4.406145805904201e-02 1.5e+00 3.14e-01  2e-01  3e-01 0:24.8\n",
      "   13    117 -1.397004761374658e-02 1.7e+00 2.42e-01  2e-01  2e-01 0:32.0\n",
      "   16    144 -3.132223244977579e-02 1.8e+00 2.61e-01  2e-01  3e-01 0:39.2\n",
      "   20    180 -1.102163863934679e-02 2.2e+00 2.78e-01  2e-01  3e-01 0:49.2\n",
      "   24    216 -8.713479752663948e-03 2.6e+00 2.58e-01  2e-01  3e-01 0:58.9\n",
      "   29    261 -5.267230298296606e-02 2.6e+00 2.03e-01  1e-01  2e-01 1:11.1\n",
      "   34    306 -1.234648699226788e-01 2.9e+00 1.81e-01  1e-01  2e-01 1:23.3\n",
      "   39    351 -4.451055366304984e-01 4.0e+00 1.32e-01  8e-02  1e-01 1:35.4\n",
      "   45    405 -1.557619595186724e-01 4.8e+00 8.13e-02  4e-02  9e-02 1:50.1\n",
      "   51    459 -2.117272598599602e-01 5.3e+00 8.14e-02  4e-02  8e-02 2:04.8\n",
      "   56    504 -6.901962164420703e-01 6.1e+00 6.77e-02  3e-02  6e-02 2:16.8\n",
      "(4_w,9)-aCMA-ES (mu_w=2.8,w_1=49%) in dimension 7 (seed=321016, Tue Jan 28 20:38:17 2020)\n",
      "Iterat #Fevals   function value  axis ratio  sigma  min&max std  t[m:s]\n",
      "    1      9 -4.474192000050916e-03 1.0e+00 5.07e-01  5e-01  6e-01 0:02.5\n",
      "    2     18 -7.204214642836034e-04 1.3e+00 4.91e-01  4e-01  5e-01 0:04.9\n",
      "    3     27 -5.847570119520147e-03 1.4e+00 4.97e-01  4e-01  5e-01 0:07.3\n",
      "    5     45 -5.158291889262564e-03 1.6e+00 5.38e-01  5e-01  6e-01 0:12.3\n",
      "    7     63 -2.085358880187032e-02 1.5e+00 4.59e-01  4e-01  5e-01 0:17.2\n",
      "   10     90 -3.772707984656195e-02 1.6e+00 3.83e-01  3e-01  4e-01 0:24.6\n",
      "   13    117 -1.080864921336173e-02 1.7e+00 3.49e-01  3e-01  4e-01 0:31.9\n",
      "   16    144 -1.269144081503823e-01 1.8e+00 2.65e-01  2e-01  3e-01 0:39.2\n",
      "   20    180 -3.103155744320277e-02 2.0e+00 2.31e-01  1e-01  2e-01 0:48.8\n",
      "   24    216 -3.695844025993528e-01 2.1e+00 2.95e-01  2e-01  3e-01 0:58.5\n",
      "   29    261 -3.566358778457212e-02 2.9e+00 2.93e-01  2e-01  3e-01 1:10.7\n",
      "   34    306 -5.153945817900413e-01 3.4e+00 2.65e-01  2e-01  3e-01 1:23.0\n",
      "   39    351 -3.994139518018004e-02 3.6e+00 2.08e-01  1e-01  2e-01 1:35.1\n",
      "   45    405 -2.277129587966770e-01 3.7e+00 1.66e-01  1e-01  2e-01 1:49.8\n",
      "   51    459 -1.776152893137374e-01 4.0e+00 1.57e-01  8e-02  2e-01 2:04.5\n",
      "   56    504 -3.676925820145841e-01 4.3e+00 1.96e-01  1e-01  2e-01 2:16.7\n",
      "(4_w,9)-aCMA-ES (mu_w=2.8,w_1=49%) in dimension 7 (seed=365063, Tue Jan 28 20:40:34 2020)\n",
      "Iterat #Fevals   function value  axis ratio  sigma  min&max std  t[m:s]\n",
      "    1      9 -1.010034998479879e-04 1.0e+00 5.30e-01  5e-01  6e-01 0:02.4\n",
      "    2     18 -2.380558208287523e-04 1.3e+00 5.73e-01  6e-01  6e-01 0:04.8\n",
      "    3     27 -9.337197325641756e-04 1.3e+00 6.92e-01  7e-01  8e-01 0:07.1\n",
      "    5     45 -5.576661665301009e-04 1.6e+00 7.21e-01  7e-01  8e-01 0:12.0\n",
      "    7     63 -1.517888553597137e-02 1.7e+00 7.33e-01  6e-01  8e-01 0:16.8\n",
      "   10     90 -1.959792509624704e-03 1.8e+00 5.98e-01  5e-01  7e-01 0:24.2\n",
      "   13    117 -3.618479749695724e-02 1.8e+00 4.99e-01  4e-01  6e-01 0:31.6\n",
      "   16    144 -8.581757115660746e-02 1.9e+00 4.37e-01  3e-01  5e-01 0:39.0\n",
      "   20    180 -2.001951790366281e-02 2.4e+00 2.84e-01  2e-01  3e-01 0:48.9\n",
      "   24    216 -3.235848029042798e-02 2.8e+00 3.02e-01  2e-01  4e-01 0:58.6\n",
      "   29    261 -8.355607604699005e+00 3.2e+00 3.26e-01  2e-01  4e-01 1:10.7\n",
      "   34    306 -3.168136532654454e-02 3.5e+00 2.63e-01  2e-01  3e-01 1:23.0\n",
      "   39    351 -1.364714348203498e-01 3.8e+00 2.20e-01  1e-01  2e-01 1:35.2\n",
      "   45    405 -3.145573706447538e-02 3.8e+00 1.98e-01  1e-01  2e-01 1:49.7\n",
      "   51    459 -1.983746231924515e+00 4.7e+00 1.68e-01  9e-02  2e-01 2:04.1\n",
      "   56    504 -6.467835469194434e-01 4.4e+00 1.60e-01  8e-02  2e-01 2:16.4\n",
      "(4_w,9)-aCMA-ES (mu_w=2.8,w_1=49%) in dimension 7 (seed=397090, Tue Jan 28 20:42:50 2020)\n",
      "Iterat #Fevals   function value  axis ratio  sigma  min&max std  t[m:s]\n",
      "    1      9 -1.677270960098384e-01 1.0e+00 4.74e-01  5e-01  5e-01 0:02.4\n",
      "    2     18 -1.692212217041193e-02 1.2e+00 5.05e-01  5e-01  5e-01 0:04.9\n",
      "    3     27 -1.343696739310692e-03 1.5e+00 5.02e-01  5e-01  5e-01 0:07.3\n",
      "    5     45 -2.978012362381907e-02 1.7e+00 5.01e-01  4e-01  5e-01 0:12.2\n",
      "    7     63 -8.113662581168786e-03 1.9e+00 4.39e-01  4e-01  5e-01 0:17.1\n",
      "   10     90 -3.235788737989485e-01 2.0e+00 3.65e-01  3e-01  4e-01 0:24.5\n",
      "   13    117 -6.660708395746781e-02 2.2e+00 3.39e-01  3e-01  4e-01 0:31.8\n",
      "   16    144 -3.910173166825596e-02 2.4e+00 3.32e-01  2e-01  3e-01 0:39.2\n",
      "   20    180 -6.087703978469765e-01 2.4e+00 2.98e-01  2e-01  3e-01 0:49.1\n",
      "   24    216 -1.052759951774454e-01 2.4e+00 2.73e-01  2e-01  2e-01 0:58.9\n",
      "   29    261 -4.404005856184897e-02 2.2e+00 3.33e-01  2e-01  3e-01 1:11.0\n",
      "   34    306 -6.692038761350470e-02 2.4e+00 3.04e-01  2e-01  3e-01 1:23.2\n",
      "   39    351 -3.696825207182406e-02 2.8e+00 2.86e-01  1e-01  3e-01 1:35.5\n",
      "   45    405 -1.429102170715448e-01 3.0e+00 1.85e-01  8e-02  2e-01 1:50.4\n",
      "   51    459 -1.871874514479400e-01 4.1e+00 1.28e-01  5e-02  1e-01 2:05.2\n",
      "   56    504 -7.285936604140095e-01 4.8e+00 9.86e-02  4e-02  9e-02 2:17.6\n",
      "(4_w,9)-aCMA-ES (mu_w=2.8,w_1=49%) in dimension 7 (seed=415620, Tue Jan 28 20:45:08 2020)\n",
      "Iterat #Fevals   function value  axis ratio  sigma  min&max std  t[m:s]\n",
      "    1      9 -4.638780819621953e-03 1.0e+00 4.53e-01  4e-01  5e-01 0:02.5\n",
      "    2     18 -1.348773699711849e-02 1.2e+00 4.36e-01  4e-01  5e-01 0:05.0\n",
      "    3     27 -2.327801997977797e-02 1.4e+00 4.27e-01  4e-01  5e-01 0:07.6\n",
      "    5     45 -1.451400118310724e-02 1.6e+00 4.59e-01  4e-01  5e-01 0:12.7\n",
      "    7     63 -5.395628867852992e-03 1.9e+00 3.97e-01  4e-01  4e-01 0:18.2\n",
      "    9     81 -2.004756609429901e-02 1.8e+00 3.12e-01  3e-01  3e-01 0:23.9\n",
      "   12    108 -1.217989745119740e-02 2.0e+00 2.55e-01  2e-01  3e-01 0:31.7\n",
      "   15    135 -5.679600173984556e-02 2.3e+00 2.03e-01  2e-01  2e-01 0:39.4\n",
      "   19    171 -2.653032160440634e-01 2.0e+00 1.56e-01  1e-01  2e-01 0:49.5\n",
      "   23    207 -1.136369232956914e-01 2.2e+00 1.20e-01  9e-02  1e-01 1:00.0\n",
      "   28    252 -8.697194178576456e-02 2.3e+00 1.14e-01  8e-02  1e-01 1:12.4\n",
      "   33    297 -4.403294651823708e-02 3.3e+00 9.48e-02  6e-02  1e-01 1:25.0\n",
      "   38    342 -1.332447204930637e-01 4.2e+00 1.05e-01  6e-02  1e-01 1:37.5\n",
      "   44    396 -1.390296063994754e-01 4.0e+00 9.99e-02  5e-02  1e-01 1:52.6\n",
      "   50    450 -7.967061406604153e-02 7.0e+00 1.08e-01  5e-02  1e-01 2:07.0\n",
      "   56    504 -5.041863353214835e-01 8.1e+00 9.32e-02  4e-02  1e-01 2:21.5\n",
      "(4_w,9)-aCMA-ES (mu_w=2.8,w_1=49%) in dimension 7 (seed=322497, Tue Jan 28 20:47:30 2020)\n",
      "Iterat #Fevals   function value  axis ratio  sigma  min&max std  t[m:s]\n",
      "    1      9 -4.119238466195662e-04 1.0e+00 4.60e-01  4e-01  5e-01 0:02.8\n",
      "    2     18 -1.539724081422746e-02 1.2e+00 5.18e-01  5e-01  6e-01 0:05.3\n",
      "    3     27 -7.108951849094429e-03 1.5e+00 5.76e-01  5e-01  8e-01 0:07.9\n",
      "    5     45 -3.392310297750013e-04 1.8e+00 7.29e-01  6e-01  1e+00 0:13.1\n",
      "    7     63 -2.671954220033775e-03 2.4e+00 7.30e-01  6e-01  1e+00 0:19.8\n"
     ]
    },
    {
     "name": "stdout",
     "output_type": "stream",
     "text": [
      "    9     81 -1.794673228038015e-02 2.7e+00 6.44e-01  5e-01  1e+00 0:27.3\n",
      "   11     99 -1.706568191459846e-02 3.0e+00 5.74e-01  4e-01  1e+00 0:34.4\n",
      "   14    126 -2.292052273730633e-01 3.5e+00 6.12e-01  4e-01  1e+00 0:43.9\n",
      "   17    153 -2.162299199845863e-02 3.7e+00 5.19e-01  3e-01  1e+00 0:53.7\n",
      "   21    189 -4.368817368134603e-02 3.3e+00 4.05e-01  2e-01  7e-01 1:05.5\n",
      "   25    225 -3.625067153465195e-01 3.6e+00 2.90e-01  2e-01  5e-01 1:16.3\n",
      "   29    261 -2.514010653527654e-02 3.6e+00 2.37e-01  1e-01  4e-01 1:27.4\n",
      "   34    306 -1.003110438014332e-01 4.1e+00 1.89e-01  9e-02  3e-01 1:40.0\n",
      "   40    360 -1.053093783926584e-01 4.4e+00 1.52e-01  7e-02  2e-01 1:55.5\n",
      "   46    414 -1.738927900822707e-01 4.3e+00 1.16e-01  5e-02  1e-01 2:11.5\n",
      "   52    468 -1.790197196299787e-01 4.9e+00 9.20e-02  3e-02  1e-01 2:26.9\n",
      "   56    504 -3.924714849850764e-01 5.0e+00 6.93e-02  2e-02  8e-02 2:37.6\n",
      "(4_w,9)-aCMA-ES (mu_w=2.8,w_1=49%) in dimension 7 (seed=378360, Tue Jan 28 20:50:07 2020)\n",
      "Iterat #Fevals   function value  axis ratio  sigma  min&max std  t[m:s]\n",
      "    1      9 -9.624445473737809e-04 1.0e+00 4.85e-01  4e-01  5e-01 0:02.8\n",
      "    2     18 -2.126058690033702e-03 1.2e+00 4.72e-01  4e-01  5e-01 0:05.1\n",
      "    3     27 -1.179405143374496e-03 1.3e+00 4.58e-01  4e-01  5e-01 0:07.6\n",
      "    5     45 -5.095794325269761e-04 1.5e+00 4.85e-01  4e-01  5e-01 0:12.5\n",
      "    7     63 -2.800469674647726e-03 1.5e+00 4.35e-01  4e-01  5e-01 0:17.3\n",
      "   10     90 -7.554357258969973e-03 2.0e+00 6.00e-01  5e-01  7e-01 0:24.4\n",
      "   13    117 -7.147243768044552e-03 2.2e+00 4.31e-01  4e-01  5e-01 0:32.6\n",
      "   16    144 -4.221344293858533e-01 2.1e+00 3.57e-01  3e-01  4e-01 0:41.0\n",
      "   19    171 -6.620991981463524e-02 2.1e+00 2.52e-01  2e-01  3e-01 0:50.7\n",
      "   23    207 -2.570630744706112e-01 2.2e+00 2.25e-01  2e-01  2e-01 1:00.8\n",
      "   28    252 -2.015725183911001e-02 2.5e+00 1.93e-01  1e-01  2e-01 1:13.1\n",
      "   32    288 -6.187546728573972e-02 2.8e+00 2.16e-01  1e-01  2e-01 1:24.9\n",
      "   37    333 -3.746855848093231e-02 2.6e+00 1.74e-01  1e-01  2e-01 1:37.3\n",
      "   42    378 -5.659187593226844e-02 2.4e+00 1.64e-01  1e-01  2e-01 1:50.3\n",
      "   48    432 -2.058567064397220e-01 2.6e+00 1.12e-01  6e-02  1e-01 2:04.8\n",
      "   55    495 -2.623205622087555e-01 3.6e+00 1.35e-01  6e-02  2e-01 2:21.8\n",
      "   56    504 -1.869174291670317e-01 3.7e+00 1.47e-01  7e-02  2e-01 2:24.2\n",
      "(4_w,9)-aCMA-ES (mu_w=2.8,w_1=49%) in dimension 7 (seed=291786, Tue Jan 28 20:52:32 2020)\n",
      "Iterat #Fevals   function value  axis ratio  sigma  min&max std  t[m:s]\n",
      "    1      9 -2.658065824384810e-03 1.0e+00 5.22e-01  5e-01  6e-01 0:02.4\n",
      "    2     18 -1.277020713891955e-02 1.3e+00 5.34e-01  5e-01  6e-01 0:04.8\n",
      "    3     27 -8.428896178421945e-02 1.4e+00 5.85e-01  5e-01  7e-01 0:07.3\n",
      "    5     45 -1.101166349886553e-02 1.5e+00 6.21e-01  6e-01  7e-01 0:12.1\n",
      "    7     63 -9.521809171880235e-03 1.6e+00 5.41e-01  5e-01  5e-01 0:17.2\n",
      "    9     81 -2.691345832780466e-03 1.6e+00 4.98e-01  4e-01  5e-01 0:22.2\n",
      "   12    108 -4.453312293839701e-03 1.8e+00 4.93e-01  4e-01  5e-01 0:30.9\n",
      "   15    135 -9.468564245982011e-02 2.2e+00 4.62e-01  4e-01  5e-01 0:38.6\n",
      "   19    171 -4.964411865129114e-01 2.3e+00 3.20e-01  2e-01  3e-01 0:48.5\n",
      "   23    207 -1.570570334530154e-02 2.3e+00 2.06e-01  1e-01  2e-01 0:59.3\n",
      "   27    243 -2.223858623512710e-01 2.8e+00 1.47e-01  8e-02  1e-01 1:09.7\n",
      "   32    288 -2.089218190310505e-01 2.9e+00 9.56e-02  5e-02  9e-02 1:23.2\n",
      "   37    333 -9.443467888293184e-01 3.1e+00 8.13e-02  4e-02  8e-02 1:35.6\n",
      "   43    387 -6.675654157317265e-01 3.5e+00 5.64e-02  3e-02  5e-02 1:49.9\n",
      "   49    441 -9.929715926497778e+00 4.6e+00 3.34e-02  1e-02  3e-02 2:04.5\n",
      "   56    504 -4.908647291700876e+01 7.0e+00 2.26e-02  9e-03  2e-02 2:21.5\n",
      "(4_w,9)-aCMA-ES (mu_w=2.8,w_1=49%) in dimension 7 (seed=425408, Tue Jan 28 20:54:53 2020)\n",
      "Iterat #Fevals   function value  axis ratio  sigma  min&max std  t[m:s]\n",
      "    1      9 -2.630599803275768e-05 1.0e+00 4.96e-01  5e-01  5e-01 0:02.4\n",
      "    2     18 -2.506881591857903e-04 1.3e+00 4.68e-01  4e-01  5e-01 0:04.8\n",
      "    3     27 -5.004543135024766e-04 1.3e+00 5.58e-01  5e-01  6e-01 0:07.2\n",
      "    5     45 -1.566760010862263e-02 1.5e+00 5.78e-01  5e-01  6e-01 0:12.0\n",
      "    7     63 -1.099142521158084e-02 1.6e+00 5.97e-01  5e-01  6e-01 0:16.9\n",
      "    9     81 -7.094764671851812e-02 1.7e+00 6.19e-01  5e-01  6e-01 0:22.2\n",
      "   12    108 -7.971407242140754e-02 1.8e+00 4.94e-01  4e-01  5e-01 0:29.8\n",
      "   15    135 -6.810929703029728e-03 2.0e+00 4.50e-01  4e-01  5e-01 0:37.1\n",
      "   19    171 -2.165534994580613e-01 2.3e+00 3.91e-01  3e-01  4e-01 0:46.9\n",
      "   23    207 -9.660138284644767e-01 2.5e+00 2.66e-01  2e-01  3e-01 0:56.7\n",
      "   28    252 -3.297018824681803e-01 2.3e+00 2.22e-01  1e-01  2e-01 1:08.6\n",
      "   32    288 -1.169924288444546e-01 2.3e+00 1.64e-01  1e-01  2e-01 1:19.7\n",
      "   37    333 -1.408584835038380e+00 2.8e+00 1.12e-01  6e-02  1e-01 1:32.3\n",
      "   43    387 -3.416716681981025e-01 3.5e+00 1.07e-01  5e-02  1e-01 1:47.0\n",
      "   48    432 -3.135113404805390e+00 5.0e+00 9.24e-02  4e-02  1e-01 2:01.8\n",
      "   54    486 -1.290249164004180e+00 5.5e+00 7.76e-02  3e-02  7e-02 2:18.7\n",
      "   56    504 -4.352692043353789e-01 5.4e+00 8.56e-02  4e-02  8e-02 2:24.7\n",
      "(4_w,9)-aCMA-ES (mu_w=2.8,w_1=49%) in dimension 7 (seed=365278, Tue Jan 28 20:57:18 2020)\n",
      "Iterat #Fevals   function value  axis ratio  sigma  min&max std  t[m:s]\n",
      "    1      9 -4.288385917045172e-02 1.0e+00 4.52e-01  4e-01  5e-01 0:02.5\n",
      "    2     18 -4.586481881994637e-03 1.2e+00 5.13e-01  5e-01  6e-01 0:05.0\n",
      "    3     27 -5.444077004217066e-03 1.5e+00 4.84e-01  4e-01  5e-01 0:07.8\n",
      "    5     45 -2.098692816950883e-03 1.7e+00 5.09e-01  4e-01  6e-01 0:12.9\n",
      "    7     63 -4.408053967659263e-02 2.0e+00 4.26e-01  3e-01  5e-01 0:17.6\n",
      "    9     81 -8.416179555792568e-03 2.0e+00 3.77e-01  3e-01  4e-01 0:22.7\n",
      "   12    108 -3.936230001800090e-03 2.2e+00 2.98e-01  2e-01  4e-01 0:30.5\n",
      "   15    135 -8.242628117214525e-03 2.4e+00 2.78e-01  2e-01  3e-01 0:38.2\n",
      "   19    171 -2.293452819457321e-02 2.8e+00 2.76e-01  2e-01  3e-01 0:47.7\n",
      "   23    207 -3.520793962373247e-02 3.0e+00 3.06e-01  2e-01  3e-01 0:57.4\n",
      "   27    243 -3.903592297155887e-01 3.4e+00 2.65e-01  1e-01  3e-01 1:07.5\n",
      "   32    288 -3.952358232841154e-01 3.4e+00 3.16e-01  2e-01  3e-01 1:19.5\n",
      "   37    333 -2.935568696779673e-02 3.6e+00 2.21e-01  1e-01  2e-01 1:32.3\n",
      "   43    387 -5.117921200602920e-02 3.9e+00 1.48e-01  8e-02  2e-01 1:46.6\n",
      "   49    441 -3.502722095857966e-01 3.8e+00 1.14e-01  6e-02  1e-01 2:01.2\n",
      "   56    504 -1.279271650916664e+00 4.8e+00 8.51e-02  4e-02  9e-02 2:18.6\n",
      "(4_w,9)-aCMA-ES (mu_w=2.8,w_1=49%) in dimension 7 (seed=377743, Tue Jan 28 20:59:37 2020)\n",
      "Iterat #Fevals   function value  axis ratio  sigma  min&max std  t[m:s]\n",
      "    1      9 -1.079749445553167e-05 1.0e+00 4.66e-01  4e-01  5e-01 0:02.6\n",
      "    2     18 -4.665579186418443e-05 1.2e+00 4.38e-01  4e-01  5e-01 0:05.1\n",
      "    3     27 -9.266590193126280e-01 1.4e+00 5.02e-01  5e-01  6e-01 0:07.5\n",
      "    5     45 -6.290733229187324e-04 1.9e+00 5.22e-01  5e-01  6e-01 0:12.6\n",
      "    7     63 -6.608767333571687e-03 2.6e+00 6.25e-01  6e-01  8e-01 0:17.6\n",
      "   10     90 -5.201340521992099e-03 2.5e+00 6.69e-01  6e-01  9e-01 0:24.7\n",
      "   13    117 -1.776683892113727e-03 2.8e+00 8.01e-01  6e-01  1e+00 0:32.1\n",
      "   16    144 -7.822778031937629e-03 2.6e+00 7.37e-01  6e-01  9e-01 0:39.9\n",
      "   20    180 -1.696572780218394e+00 2.5e+00 5.19e-01  4e-01  6e-01 0:50.1\n",
      "   24    216 -7.148200105825915e-03 2.4e+00 5.73e-01  4e-01  6e-01 1:00.1\n",
      "   29    261 -2.421979243185731e-02 2.3e+00 3.73e-01  3e-01  4e-01 1:12.4\n",
      "   34    306 -1.058834495179082e-01 2.2e+00 1.97e-01  1e-01  2e-01 1:25.3\n",
      "   39    351 -4.928703590851324e-02 2.4e+00 1.72e-01  1e-01  1e-01 1:37.8\n",
      "   45    405 -2.094161265376920e-01 2.9e+00 1.64e-01  8e-02  2e-01 1:52.0\n",
      "   51    459 -3.037719531222234e-01 3.7e+00 1.07e-01  5e-02  1e-01 2:06.6\n",
      "   56    504 -5.673502627355025e-01 4.7e+00 7.91e-02  3e-02  7e-02 2:18.7\n",
      "(4_w,9)-aCMA-ES (mu_w=2.8,w_1=49%) in dimension 7 (seed=345532, Tue Jan 28 21:01:56 2020)\n",
      "Iterat #Fevals   function value  axis ratio  sigma  min&max std  t[m:s]\n",
      "    1      9 -1.213650725170193e-03 1.0e+00 4.87e-01  5e-01  5e-01 0:02.5\n",
      "    2     18 -2.045446453846049e-03 1.2e+00 4.94e-01  5e-01  5e-01 0:05.0\n",
      "    3     27 -1.417886679458456e-03 1.3e+00 4.25e-01  4e-01  5e-01 0:07.4\n",
      "    5     45 -2.004065089017647e-02 1.4e+00 4.11e-01  4e-01  4e-01 0:12.4\n"
     ]
    },
    {
     "name": "stdout",
     "output_type": "stream",
     "text": [
      "    7     63 -2.473061418702662e-03 1.6e+00 4.28e-01  4e-01  4e-01 0:17.5\n",
      "    9     81 -6.204859400684986e-02 1.6e+00 3.90e-01  3e-01  4e-01 0:23.0\n",
      "   12    108 -2.771310933460647e-02 1.8e+00 4.26e-01  3e-01  5e-01 0:31.4\n",
      "   15    135 -1.911631552650816e-02 2.1e+00 4.32e-01  3e-01  5e-01 0:39.4\n",
      "   19    171 -1.711566895352940e-01 2.1e+00 2.99e-01  2e-01  3e-01 0:49.6\n",
      "   23    207 -1.080158418466014e-02 2.2e+00 3.31e-01  2e-01  4e-01 0:59.7\n",
      "   27    243 -1.020426795226629e-02 2.9e+00 3.00e-01  2e-01  4e-01 1:09.9\n",
      "   32    288 -2.565272683340371e-02 3.2e+00 2.83e-01  2e-01  4e-01 1:23.1\n",
      "   37    333 -1.572803054814002e-01 2.9e+00 1.78e-01  1e-01  2e-01 1:35.4\n",
      "   43    387 -3.534927770286115e-01 2.6e+00 1.06e-01  6e-02  1e-01 1:49.9\n",
      "   49    441 -7.628642074736136e-01 3.0e+00 9.69e-02  5e-02  1e-01 2:04.7\n",
      "   56    504 -1.552986096766673e-01 3.1e+00 8.91e-02  4e-02  8e-02 2:21.9\n",
      "(4_w,9)-aCMA-ES (mu_w=2.8,w_1=49%) in dimension 7 (seed=342567, Tue Jan 28 21:04:18 2020)\n",
      "Iterat #Fevals   function value  axis ratio  sigma  min&max std  t[m:s]\n",
      "    1      9 -2.991089388477324e-06 1.0e+00 5.24e-01  5e-01  6e-01 0:02.6\n",
      "    2     18 -1.499330369113214e-03 1.5e+00 5.37e-01  5e-01  6e-01 0:05.2\n",
      "    3     27 -1.826004604977562e-02 1.6e+00 5.47e-01  5e-01  6e-01 0:07.6\n",
      "    5     45 -1.396312901232196e-02 1.7e+00 5.24e-01  5e-01  6e-01 0:12.6\n",
      "    7     63 -2.138666070133768e-02 1.9e+00 5.67e-01  5e-01  7e-01 0:17.6\n",
      "   10     90 -2.200186824620307e-02 2.0e+00 4.00e-01  3e-01  5e-01 0:25.0\n",
      "   13    117 -1.517512849133555e-02 2.3e+00 3.38e-01  3e-01  4e-01 0:32.6\n",
      "   16    144 -1.115110233516150e-01 2.1e+00 2.90e-01  2e-01  3e-01 0:40.8\n",
      "   20    180 -2.671924256196342e-01 2.3e+00 2.21e-01  2e-01  2e-01 0:51.6\n",
      "   24    216 -1.067513922171698e-01 2.6e+00 2.19e-01  2e-01  2e-01 1:03.5\n",
      "   27    243 -2.991424598903199e-02 2.8e+00 1.91e-01  1e-01  2e-01 1:14.6\n",
      "   31    279 -4.938794529929817e-01 3.6e+00 1.26e-01  9e-02  1e-01 1:28.3\n",
      "   35    315 -5.377745959925880e-01 3.3e+00 9.61e-02  6e-02  9e-02 1:42.0\n",
      "   39    351 -2.937965448530332e-01 3.2e+00 7.27e-02  4e-02  7e-02 1:55.4\n",
      "   44    396 -1.255679469149609e+00 3.1e+00 6.19e-02  4e-02  6e-02 2:10.7\n",
      "   49    441 -2.384900162146749e+00 4.6e+00 4.61e-02  3e-02  4e-02 2:25.8\n",
      "   55    495 -1.000745357484422e+01 5.4e+00 2.54e-02  1e-02  2e-02 2:44.2\n",
      "   56    504 -2.627549202823369e+00 5.4e+00 2.35e-02  1e-02  2e-02 2:47.0\n",
      "(4_w,9)-aCMA-ES (mu_w=2.8,w_1=49%) in dimension 7 (seed=352261, Tue Jan 28 21:07:05 2020)\n",
      "Iterat #Fevals   function value  axis ratio  sigma  min&max std  t[m:s]\n",
      "    1      9 -2.301700339006753e-05 1.0e+00 4.94e-01  5e-01  5e-01 0:02.9\n"
     ]
    }
   ],
   "source": [
    "for i in range(40):\n",
    "\n",
    "    with cma.fitness_transformations.EvalParallel(6) as eval_all:\n",
    "        es = cma.CMAEvolutionStrategy(np.random.uniform(low=-1, high=1, size=(7,)), 0.5,{'maxfevals':500,'bounds': [[-1,-1,-1,-1,-1,-1,-1],[1,1,1,1,1,1,1]],\\\n",
    "                                                                                      'verb_disp': 200  ,'verb_log': 200  } )\n",
    "        while not es.stop():\n",
    "            X = es.ask()\n",
    "            es.tell(X, eval_all(target, X))  \n",
    "            # was: es.tell(X, [fitness(x) for x in X])\n",
    "            es.disp()\n",
    "    np.savetxt(\"cma_es_parrelel_\"+str(40+i)+\".csv\", es.result.xbest, delimiter=\",\")\n"
   ]
  },
  {
   "cell_type": "code",
   "execution_count": 145,
   "metadata": {
    "scrolled": false
   },
   "outputs": [
    {
     "name": "stdout",
     "output_type": "stream",
     "text": [
      "(4_w,9)-aCMA-ES (mu_w=2.8,w_1=49%) in dimension 7 (seed=433444, Tue Jan 28 17:00:18 2020)\n",
      "Iterat #Fevals   function value  axis ratio  sigma  min&max std  t[m:s]\n",
      "    1      9 -8.122451485466529e-04 1.0e+00 4.97e-01  5e-01  5e-01 0:06.8\n",
      "    2     18 -2.042020257706484e-03 1.3e+00 5.57e-01  5e-01  7e-01 0:13.4\n",
      "    3     27 -9.687796138269707e-03 1.6e+00 5.67e-01  5e-01  7e-01 0:20.0\n",
      "    4     36 -3.691764464627389e-02 1.7e+00 5.85e-01  5e-01  7e-01 0:26.5\n",
      "    5     45 -1.039384226903801e-02 1.7e+00 5.55e-01  5e-01  6e-01 0:33.2\n",
      "    6     54 -2.047623335980596e-02 1.7e+00 5.32e-01  4e-01  6e-01 0:39.8\n",
      "    7     63 -3.637862281075650e-02 1.8e+00 5.45e-01  4e-01  6e-01 0:46.5\n",
      "    9     81 -2.371777874505723e-02 1.9e+00 5.66e-01  4e-01  7e-01 0:59.7\n",
      "   11     99 -1.320196386847876e-02 2.1e+00 5.68e-01  4e-01  6e-01 1:12.9\n",
      "   13    117 -3.136928526687792e-03 2.1e+00 5.67e-01  4e-01  6e-01 1:26.0\n",
      "   15    135 -6.139557091752935e-02 2.1e+00 5.21e-01  4e-01  6e-01 1:39.2\n",
      "   17    153 -1.108867750703086e-01 2.1e+00 5.33e-01  4e-01  6e-01 1:53.4\n",
      "   19    171 -5.962945417902997e-03 2.0e+00 5.88e-01  4e-01  7e-01 2:07.0\n",
      "   21    189 -1.212998728683067e-01 2.1e+00 4.84e-01  3e-01  5e-01 2:20.2\n",
      "   24    216 -6.002804550123835e-02 2.3e+00 3.43e-01  2e-01  4e-01 2:40.2\n",
      "   27    243 -1.786395570899784e-01 2.5e+00 2.33e-01  1e-01  3e-01 2:59.9\n",
      "   30    270 -3.941408336766679e-01 2.4e+00 1.59e-01  9e-02  2e-01 3:19.7\n",
      "   33    297 -3.962398057178083e-01 2.4e+00 1.53e-01  9e-02  2e-01 3:39.5\n",
      "   36    324 -3.912854262008779e+00 2.3e+00 1.47e-01  8e-02  1e-01 4:00.3\n",
      "   39    351 -2.633125324867341e-01 2.4e+00 1.08e-01  6e-02  1e-01 4:22.8\n",
      "   42    378 -2.369548994727471e-01 2.7e+00 1.19e-01  6e-02  1e-01 4:43.1\n",
      "   46    414 -1.615096805029076e+01 2.7e+00 1.07e-01  5e-02  9e-02 5:10.3\n",
      "   50    450 -6.521735625913317e-01 2.9e+00 1.04e-01  5e-02  9e-02 5:37.5\n",
      "   54    486 -1.200998439153992e+00 3.2e+00 9.17e-02  4e-02  8e-02 6:05.2\n",
      "   56    504 -2.705482116673480e+00 3.6e+00 8.69e-02  4e-02  8e-02 6:18.9\n",
      "termination on maxfevals=500 (Tue Jan 28 17:06:38 2020)\n",
      "final/bestever f-value = -3.920540e-01 -1.615097e+01\n",
      "incumbent solution: [0.05589326682006224, 0.9987588970928033, 0.1204760793750459, -0.20649313942108313, 0.9118773431104386, 0.9851046786612431, 0.3161349587466691]\n",
      "std deviation: [0.05084437813525426, 0.046760020943435766, 0.050792471218344126, 0.052515134758748666, 0.036651004353290904, 0.08360705468096395, 0.05540656640277185]\n",
      "379.7810091972351\n"
     ]
    }
   ],
   "source": [
    "start = time.time()\n",
    "v=np.random.uniform(low=-1, high=1, size=(7,))\n",
    "res_2 = cma.fmin(target,\\\n",
    "v,\\\n",
    "0.5, options = {'maxfevals':500,\\\n",
    "'bounds': [[-1,-1,-1,-1,-1,-1,-1],[1,1,1,1,1,1,1]],'verb_disp': 100  ,'verb_log': 100  }  )  #doctest: +ELLIPSIS\n",
    "\n",
    "end = time.time()\n",
    "print(end - start)"
   ]
  },
  {
   "cell_type": "code",
   "execution_count": 34,
   "metadata": {},
   "outputs": [],
   "source": [
    "np.savetxt(\"cma_es_0128_01.csv\", v, delimiter=\",\")"
   ]
  },
  {
   "cell_type": "code",
   "execution_count": 35,
   "metadata": {},
   "outputs": [],
   "source": [
    "start = time.time()\n",
    "for i in range(1):\n",
    "    res = gp_minimize(target,                  # the function to minimize\n",
    "                      [(-1.0, 1.0),(-1.0,1.0),(-1.0,1.0),(-1.0,1.0),(-1.0,1.0),(-1.0,1.0),(-1.0,1.0)],      # the bounds on each dimension of x\n",
    "                      acq_func=\"EI\",      # the acquisition function\n",
    "                      n_calls=400,         # the number of evaluations of f \n",
    "                      n_random_starts=7,  # the number of random initialization points\n",
    "                      random_state=)   # the random seed\n",
    "    np.savetxt(\"gp_parrelel_\"+str(40+i)+\".csv\",res.x, delimiter=\",\")\n",
    "\n",
    "\n",
    "    \n",
    "\n",
    "end = time.time()\n",
    "print(end - start)"
   ]
  },
  {
   "cell_type": "code",
   "execution_count": 36,
   "metadata": {},
   "outputs": [],
   "source": [
    "v=res.x"
   ]
  },
  {
   "cell_type": "code",
   "execution_count": 37,
   "metadata": {},
   "outputs": [
    {
     "data": {
      "text/plain": [
       "[0.6956382084746415,\n",
       " -0.8276888117168055,\n",
       " -0.914612769342148,\n",
       " -0.7605408929147628,\n",
       " -0.9285077677770677,\n",
       " -0.8358143690304691,\n",
       " 0.7044314221214567]"
      ]
     },
     "execution_count": 37,
     "metadata": {},
     "output_type": "execute_result"
    }
   ],
   "source": [
    "v"
   ]
  },
  {
   "cell_type": "code",
   "execution_count": 39,
   "metadata": {},
   "outputs": [
    {
     "name": "stderr",
     "output_type": "stream",
     "text": [
      "/anaconda/lib/python3.6/site-packages/scipy/integrate/quadrature.py:802: AccuracyWarning: divmax (10) exceeded. Latest difference = 1.794379e-04\n",
      "  AccuracyWarning)\n"
     ]
    },
    {
     "data": {
      "text/plain": [
       "-0.06761093995511877"
      ]
     },
     "execution_count": 39,
     "metadata": {},
     "output_type": "execute_result"
    }
   ],
   "source": [
    "integrate.romberg(ux1, 0, 2*np.pi)"
   ]
  },
  {
   "cell_type": "code",
   "execution_count": 107,
   "metadata": {},
   "outputs": [
    {
     "data": {
      "text/plain": [
       "-1.5407144415628522"
      ]
     },
     "execution_count": 107,
     "metadata": {},
     "output_type": "execute_result"
    }
   ],
   "source": [
    "target(v1[69])"
   ]
  },
  {
   "cell_type": "code",
   "execution_count": 108,
   "metadata": {},
   "outputs": [
    {
     "data": {
      "text/plain": [
       "array([-0.0329524 , -0.98833797, -0.02524205,  0.39393939, -0.96940308,\n",
       "       -0.94494608, -0.42238877])"
      ]
     },
     "execution_count": 108,
     "metadata": {},
     "output_type": "execute_result"
    }
   ],
   "source": [
    "v1[69]"
   ]
  },
  {
   "cell_type": "code",
   "execution_count": 119,
   "metadata": {},
   "outputs": [],
   "source": [
    "res_2=np.array([-0.0329524 , -0.98833797, -0.02524205,  0.40073567, -0.96940308,\n",
    "       -0.94494608, -0.42238877])"
   ]
  },
  {
   "cell_type": "code",
   "execution_count": 120,
   "metadata": {},
   "outputs": [],
   "source": [
    "res_2[6]=0"
   ]
  },
  {
   "cell_type": "code",
   "execution_count": 121,
   "metadata": {},
   "outputs": [],
   "source": [
    "v1=[res_2+np.array([0,0,0,0,0,i,0]) for i in np.linspace(-1,1,100)]"
   ]
  },
  {
   "cell_type": "code",
   "execution_count": 122,
   "metadata": {},
   "outputs": [
    {
     "data": {
      "text/plain": [
       "[<matplotlib.lines.Line2D at 0x12d7e4198>]"
      ]
     },
     "execution_count": 122,
     "metadata": {},
     "output_type": "execute_result"
    },
    {
     "data": {
      "image/png": "[encoded data removed]",
      "text/plain": [
       "<Figure size 432x288 with 1 Axes>"
      ]
     },
     "metadata": {
      "needs_background": "light"
     },
     "output_type": "display_data"
    }
   ],
   "source": [
    "plt.plot([target(v1[i]) for i in range(100)] )"
   ]
  },
  {
   "cell_type": "code",
   "execution_count": 109,
   "metadata": {},
   "outputs": [],
   "source": [
    "np.savetxt(\"gp_7.csv\", v, delimiter=\",\")"
   ]
  },
  {
   "cell_type": "code",
   "execution_count": 41,
   "metadata": {},
   "outputs": [
    {
     "data": {
      "text/plain": [
       "<matplotlib.axes._subplots.AxesSubplot at 0x10e66a0b8>"
      ]
     },
     "execution_count": 41,
     "metadata": {},
     "output_type": "execute_result"
    },
    {
     "data": {
      "image/png": "[encoded data removed]",
      "text/plain": [
       "<Figure size 432x288 with 1 Axes>"
      ]
     },
     "metadata": {
      "needs_background": "light"
     },
     "output_type": "display_data"
    }
   ],
   "source": [
    "from skopt.plots import plot_convergence\n",
    "\n",
    "plot_convergence(res)"
   ]
  },
  {
   "cell_type": "code",
   "execution_count": null,
   "metadata": {},
   "outputs": [],
   "source": []
  },
  {
   "cell_type": "code",
   "execution_count": 39,
   "metadata": {},
   "outputs": [],
   "source": [
    "data=pd.read_csv('fit.dat',header=None, sep=' ')"
   ]
  },
  {
   "cell_type": "code",
   "execution_count": 54,
   "metadata": {},
   "outputs": [
    {
     "data": {
      "text/plain": [
       "Text(0, 0.5, 'f(x)')"
      ]
     },
     "execution_count": 54,
     "metadata": {},
     "output_type": "execute_result"
    },
    {
     "data": {
      "image/png": "[encoded data removed]",
      "text/plain": [
       "<Figure size 432x288 with 1 Axes>"
      ]
     },
     "metadata": {
      "needs_background": "light"
     },
     "output_type": "display_data"
    }
   ],
   "source": [
    "plt.plot(np.arange(56),data[data.columns[6]],c=\"k\",linewidth=3)\n",
    "plt.xlabel(\"number of generation\")\n",
    "plt.ylabel(\"f(x)\")\n"
   ]
  },
  {
   "cell_type": "code",
   "execution_count": null,
   "metadata": {},
   "outputs": [],
   "source": []
  }
 ],
 "metadata": {
  "kernelspec": {
   "display_name": "Python 3",
   "language": "python",
   "name": "python3"
  },
  "language_info": {
   "codemirror_mode": {
    "name": "ipython",
    "version": 3
   },
   "file_extension": ".py",
   "mimetype": "text/x-python",
   "name": "python",
   "nbconvert_exporter": "python",
   "pygments_lexer": "ipython3",
   "version": "3.6.10"
  }
 },
 "nbformat": 4,
 "nbformat_minor": 2
}
