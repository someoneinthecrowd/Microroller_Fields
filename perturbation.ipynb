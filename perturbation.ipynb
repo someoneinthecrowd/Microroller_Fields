{
 "cells": [
  {
   "cell_type": "code",
   "execution_count": 62,
   "metadata": {},
   "outputs": [],
   "source": [
    "import numpy as np\n",
    "import numpy.linalg as la\n",
    "import matplotlib.pyplot as plt \n",
    "from numpy import cos\n",
    "from numpy import sin"
   ]
  },
  {
   "cell_type": "code",
   "execution_count": 63,
   "metadata": {},
   "outputs": [],
   "source": [
    "## whole field\n",
    "def B(t):\n",
    "    global v\n",
    "    global n\n",
    "    global w\n",
    "    global a\n",
    "    v1=v[0]\n",
    "    v2=v[1]\n",
    "    v3=v[2]\n",
    "    v4=v[3]\n",
    "    v5=v[4]\n",
    "    v6=v[5]\n",
    "    v7=v[6]\n",
    "    return np.dot(np.array([[1,0,0],[0,cos(a),-sin(a)],[0,sin(a),cos(a)]]),\\\n",
    "    v1*(np.array([-1,0,0])*cos(w*t) +np.array([0,1,0])*sin(w*t) )+\\\n",
    "    v2*(np.array([1,0,0])*cos((n-1)*w*t) +np.array([0,1,0])*sin((n-1)*w*t))+\\\n",
    "    v3*(np.array([0,-1,0])*cos((n-1)*w*t) +np.array([1,0,0])*sin((n-1)*w*t))+\\\n",
    "    v4*(np.array([0,0,1])*sin(n*w*t))+\\\n",
    "    v5*(np.array([0,0,1])*cos(n*w*t))+\\\n",
    "    v6*(np.array([-1,0,0])*cos((n+1)*w*t) +np.array([0,1,0])*sin((n+1)*w*t))+\\\n",
    "    v7*(np.array([0,1,0])*cos((n+1)*w*t) +np.array([1,0,0])*sin((n+1)*w*t)))\n",
    "    \n",
    "def B_prime(t):\n",
    "    global v\n",
    "    global n\n",
    "    global w\n",
    "    global a\n",
    "    v1=v[0]\n",
    "    v2=v[1]\n",
    "    v3=v[2]\n",
    "    v4=v[3]\n",
    "    v5=v[4]\n",
    "    v6=v[5]\n",
    "    v7=v[6]\n",
    "    return np.dot(np.array([[1,0,0],[0,cos(a),-sin(a)],[0,sin(a),cos(a)]]),\\\n",
    "    v1*(np.array([-1,0,0])*(-1)*sin(w*t) +np.array([0,1,0])*cos(w*t) )*w+\\\n",
    "    v2*(np.array([1,0,0])*(-1)*(n-1)*sin((n-1)*w*t) +np.array([0,1,0])*(n-1)*cos((n-1)*w*t))*w+\\\n",
    "    v3*(np.array([0,-1,0])*(-1)*(n-1)*sin((n-1)*w*t) +np.array([1,0,0])*(n-1)*cos((n-1)*w*t))*w+\\\n",
    "    v4*(np.array([0,0,1])*n*cos(n*w*t))*w+\\\n",
    "    v5*(np.array([0,0,1])*(-1)*n*sin(n*w*t))*w+\\\n",
    "    v6*(np.array([-1,0,0])*(-1)*(n+1)*sin((n+1)*w*t) +np.array([0,1,0])*(n+1)*cos((n+1)*w*t))*w+\\\n",
    "    v7*(np.array([0,1,0])*(-1)*(n+1)*sin((n+1)*w*t) +np.array([1,0,0])*(n+1)*cos((n+1)*w*t))*w)\n",
    "\n",
    "def B_prime2(t):\n",
    "    global v\n",
    "    global n\n",
    "    global w\n",
    "    global a\n",
    "    v1=v[0]\n",
    "    v2=v[1]\n",
    "    v3=v[2]\n",
    "    v4=v[3]\n",
    "    v5=v[4]\n",
    "    v6=v[5]\n",
    "    v7=v[6]\n",
    "    return np.dot(np.array([[1,0,0],[0,cos(a),-sin(a)],[0,sin(a),cos(a)]]),\\\n",
    "    v1*(np.array([-1,0,0])*(-1)*cos(w*t) +np.array([0,1,0])*(-1)*sin(w*t) )*w*w+\\\n",
    "    v2*(np.array([1,0,0])*(-1)*(n-1)*(n-1)*cos((n-1)*w*t) +np.array([0,1,0])*(-1)*(n-1)*(n-1)*sin((n-1)*w*t))*w*w+\\\n",
    "    v3*(np.array([0,-1,0])*(-1)*(n-1)*(n-1)*cos((n-1)*w*t) +np.array([1,0,0])*(-1)*(n-1)*(n-1)*sin((n-1)*w*t))*w*w+\\\n",
    "    v4*(np.array([0,0,1])*(-1)*n*n*sin(n*w*t))*w*w+\\\n",
    "    v5*(np.array([0,0,1])*(-1)*n*n*cos(n*w*t))*w*w+\\\n",
    "    v6*(np.array([-1,0,0])*(-1)*(n+1)*(n+1)*cos((n+1)*w*t) +np.array([0,1,0])*(-1)*(n+1)*(n+1)*sin((n+1)*w*t))*w*w+\\\n",
    "    v7*(np.array([0,1,0])*(-1)*(n+1)*(n+1)*cos((n+1)*w*t) +np.array([1,0,0])*(-1)*(n+1)*(n+1)*sin((n+1)*w*t))*w*w)\n",
    "\n",
    "\n",
    "## each direction \n",
    "def Bx(t):\n",
    "    return  B(t)[0]\n",
    "def By(t):\n",
    "    return  B(t)[1]\n",
    "def Bz(t):\n",
    "    return  B(t)[2]\n",
    "\n",
    "\n",
    "def Bx_p(t):\n",
    "    return  B_prime(t)[0]\n",
    "def By_p(t):\n",
    "    return   B_prime(t)[1]\n",
    "def Bz_p(t):\n",
    "    return   B_prime(t)[2]\n",
    "\n",
    "\n",
    "def Bx_p2(t):\n",
    "    return  B_prime2(t)[0]\n",
    "def By_p2(t):\n",
    "    return   B_prime2(t)[1]\n",
    "def Bz_p2(t):\n",
    "    return   B_prime2(t)[2]\n",
    "\n",
    "\n",
    "\n",
    "\n",
    "\n",
    "\n",
    "    "
   ]
  },
  {
   "cell_type": "code",
   "execution_count": null,
   "metadata": {},
   "outputs": [],
   "source": []
  },
  {
   "cell_type": "code",
   "execution_count": 64,
   "metadata": {},
   "outputs": [],
   "source": [
    "lam=1.8686003910229945\n",
    "v=np.random.uniform(low=-1, high=1, size=(7,))\n",
    "v=[1,-1,0,0.5,1,-0.5,-1]\n",
    "n=8\n",
    "w=1\n",
    "Y=0.10772427142152266\n",
    "a=5/180*np.pi\n"
   ]
  },
  {
   "cell_type": "code",
   "execution_count": 65,
   "metadata": {},
   "outputs": [],
   "source": [
    "## ux1,uy1,\n",
    "def ux1(T):\n",
    "    global lam\n",
    "    return ( Bz(T)/(lam*(Bx(T)**2+By(T)**2)+Bz(T)**2)*((lam*Bx(T)**2+By(T)**2+Bz(T)**2)*Bx_p(T)+(-1+lam)*Bx(T)*By(T)*By_p(T))- Bx(T)*Bz_p(T)  )\\\n",
    "    /(Bx(T)**2+By(T)**2+Bz(T)**2)\n",
    "def uy1(T):\n",
    "    return ( Bz(T)/(lam*(Bx(T)**2+By(T)**2)+Bz(T)**2)*((Bx(T)**2+lam*By(T)**2+Bz(T)**2)*By_p(T)+(-1+lam)*Bx(T)*By(T)*Bx_p(T))-By(T)*Bz_p(T) )\\\n",
    "    /(Bx(T)**2+By(T)**2+Bz(T)**2)"
   ]
  },
  {
   "cell_type": "code",
   "execution_count": 23,
   "metadata": {},
   "outputs": [],
   "source": [
    "## ux2\n",
    "def ux2(T):\n",
    "    global lam\n",
    "    a1=Bx(T)*Bz(T)*(Bx(T)**2+By(T)**2+Bz(T)**2)**2*(By(T)*Bx_p(T)-Bx(T)*By_p(T))**2/(lam*Bx(T)**2+lam*By(T)**2+Bz(T)**2)**2\n",
    "    #############\n",
    "    a2=(2*By(T)*Bz(T)**2*(By(T)*Bx_p(T)-Bx(T)*By_p(T)) *(-Bx(T)*Bz(T)*Bx_p(T)+Bx(T)**2*Bz_p(T)+By(T) *(-Bz(T)*By_p(T) +By(T)*Bz_p(T))))\\\n",
    "    /(lam*Bx(T)**2+lam*By(T)**2+Bz(T)**2)\n",
    "    \n",
    "    ##########\n",
    "    a3= (2*By(T)*Bz(T)*(Bx(T)**2 + By(T)**2 + Bz(T)**2)*(-2*(Bx(T)**2 + By(T)**2 + Bz(T)**2)*(lam*Bx(T)**2 + lam*By(T)**2 + Bz(T)**2)*\\\n",
    "    (-(By(T)*Bx_p(T)) + Bx(T)*By_p(T))*(Bx(T)*Bx_p(T)+ \n",
    "    By(T)*By_p(T)) + (Bx(T)**2 + By(T)**2)*(lam*Bx(T)**2 + lam*By(T)**2 + Bz(T)**2)*\n",
    "    (-(By(T)*Bx_p(T)) + Bx(T)*By_p(T))*(Bx(T)*Bx_p(T) + \n",
    "    By(T)*By_p(T) + Bz(T)*Bz_p(T)) - \n",
    "    2*(Bx(T)**2 + By(T)**2)*(Bx(T)**2 + By(T)**2 + Bz(T)**2)*(-(By(T)*Bx_p(T)) +\n",
    "    Bx(T)*By_p(T))*(lam*Bx(T)*Bx_p(T) + lam*By(T)*By_p(T) + \n",
    "    Bz(T)*Bz_p(T)) + (Bz(T)*((2 - lam)*Bx(T)**2 - (-2 + lam)*By(T)**2 + Bz(T)**2)*\n",
    "    (lam*Bx(T)**2 + lam*By(T)**2 + Bz(T)**2)*(-(By(T)*Bx_p(T)) + Bx(T)*By_p(T))*\n",
    "    (-(Bx(T)**2*Bz_p(T)) + Bx(T)*Bz(T)*Bx_p(T) + \n",
    "    By(T)*(Bz(T)*By_p(T) - By(T)*Bz_p(T))))/(Bx(T)**2 + By(T)**2 + Bz(T)**2) + \n",
    "    (Bx(T)**2 + By(T)**2)*(Bx(T)**2 + By(T)**2 + Bz(T)**2)*(lam*Bx(T)**2 + lam*By(T)**2 + Bz(T)**2)*\n",
    "    (-(By(T)*Bx_p2(T)) + Bx(T)*By_p2(T))))/\\\n",
    "    ((lam*Bx(T)**2 + lam*By(T)**2 + Bz(T)**2)**2*(lam*(Bx(T)**2 + By(T)**2) + Bz(T)**2))\n",
    "    a4=Bx(T)*((Bz(T)*(Bx(T)**2 + By(T)**2 + Bz(T)**2)**2*(By(T)*Bx_p(T) - Bx(T)*By_p(T))**2)\\\n",
    "    /(lam*Bx(T)**2 + lam*By(T)**2 + Bz(T)**2)**2 - \n",
    "    2*(Bx(T)*Bx_p(T) + By(T)*By_p(T))*(-(Bx(T)*Bz(T)*Bx_p(T)) + \n",
    "    Bx(T)**2*Bz_p(T) + By(T)*(-(Bz(T)*By_p(T)) + By(T)*Bz_p(T))) - \n",
    "    (6*(Bx(T)**2 + By(T)**2)*(Bx(T)*Bx_p(T) + By(T)*By_p(T) + \n",
    "    Bz(T)*Bz_p(T))*(-(Bx(T)*Bz(T)*Bx_p(T)) + Bx(T)**2*Bz_p(T) + \n",
    "    By(T)*(-(Bz(T)*By_p(T)) + By(T)*Bz_p(T))))/\n",
    "    (Bx(T)**2 + By(T)**2 + Bz(T)**2) + 2*(Bx(T)**2 + By(T)**2)*\n",
    "    (Bx(T)*Bx_p(T)*Bz_p(T) - \n",
    "    Bz(T)*(Bx_p(T)**2 + By_p(T)**2 + Bx(T)*Bx_p2(T) + \n",
    "    By(T)*By_p2(T)) + Bx(T)**2*Bz_p2(T) + \n",
    "    By(T)*(By_p(T)*Bz_p(T) + By(T)*Bz_p2(T))))\n",
    "    \n",
    "    \n",
    "    return (a1+a2+a3+a4)/(2*(Bx(T)**2+By(T)**2 )**2*(Bx(T)**2+By(T)**2+Bz(T)**2)**1.5)\n"
   ]
  },
  {
   "cell_type": "code",
   "execution_count": 6,
   "metadata": {},
   "outputs": [],
   "source": [
    "## uy2\n",
    "def uy2(T):\n",
    "    global lam\n",
    "    return ((By(T)*Bz(T)*(Bx(T)**2 + By(T)**2 + Bz(T)**2)**2*(By(T)*Bx_p(T) - Bx(T)*By_p(T))**2)\\\n",
    "             /(lam*Bx(T)**2 + lam*By(T)**2 + Bz(T)**2)**2 + \n",
    "            (2*Bx(T)*Bz(T)**2*(-(By(T)*Bx_p(T)) + Bx(T)*By_p(T))*\\\n",
    "            (-(Bx(T)*Bz(T)*Bx_p(T)) + Bx(T)**2*Bz_p(T) + \n",
    "            By(T)*(-(Bz(T)*By_p(T)) + By(T)*Bz_p(T))))/\n",
    "            (lam*Bx(T)**2 + lam*By(T)**2 + Bz(T)**2) - (2*Bx(T)*Bz(T)*(Bx(T)**2 + By(T)**2 + Bz(T)**2)*\\\n",
    "            (-2*(Bx(T)**2 + By(T)**2 + Bz(T)**2)*(lam*Bx(T)**2 + lam*By(T)**2 + Bz(T)**2)*\\\n",
    "            (-(By(T)*Bx_p(T)) + Bx(T)*By_p(T))*(Bx(T)*Bx_p(T) + \n",
    "            By(T)*By_p(T)) + (Bx(T)**2 + By(T)**2)*(lam*Bx(T)**2 + lam*By(T)**2 + Bz(T)**2)*\\\n",
    "            (-(By(T)*Bx_p(T)) + Bx(T)*By_p(T))*(Bx(T)*Bx_p(T) + \n",
    "            By(T)*By_p(T) + Bz(T)*Bz_p(T)) - \n",
    "            2*(Bx(T)**2 + By(T)**2)*(Bx(T)**2 + By(T)**2 + Bz(T)**2)*(-(By(T)*Bx_p(T)) + \n",
    "            Bx(T)*By_p(T))*(lam*Bx(T)*Bx_p(T) + lam*By(T)*By_p(T) + \n",
    "            Bz(T)*Bz_p(T)) + (Bz(T)*((2 - lam)*Bx(T)**2 - (-2 + lam)*By(T)**2 + Bz(T)**2)*\\\n",
    "            (lam*Bx(T)**2 + lam*By(T)**2 + Bz(T)**2)*(-(By(T)*Bx_p(T)) + \n",
    "            Bx(T)*By_p(T))*(Bx(T)*Bz(T)*Bx_p(T) - Bx(T)**2*Bz_p(T) + \n",
    "            By(T)*(Bz(T)*By_p(T) - By(T)*Bz_p(T))))/ \\\n",
    "            (Bx(T)**2 + By(T)**2 + Bz(T)**2) + (Bx(T)**2 + By(T)**2)*(Bx(T)**2 + By(T)**2 + Bz(T)**2)*\\\n",
    "            (lam*Bx(T)**2 + lam*By(T)**2 + Bz(T)**2)*(-(By(T)*Bx_p2(T)) + \n",
    "            Bx(T)*By_p2(T))))/((lam*Bx(T)**2 + lam*By(T)**2 + Bz(T)**2)**2*\\\n",
    "            (lam*(Bx(T)**2 + By(T)**2) + Bz(T)**2)) + \n",
    "            By(T)*((Bz(T)*(Bx(T)**2 + By(T)**2 + Bz(T)**2)**2*(By(T)*Bx_p(T) - \n",
    "            Bx(T)*By_p(T))**2)/(lam*Bx(T)**2 + lam*By(T)**2 + Bz(T)**2)**2 - \n",
    "            2*(Bx(T)*Bx_p(T) + By(T)*By_p(T))*(-(Bx(T)*Bz(T)*Bx_p(T)) + \n",
    "            Bx(T)**2*Bz_p(T) + By(T)*(-(Bz(T)*By_p(T)) + \n",
    "            By(T)*Bz_p(T))) - (6*(Bx(T)**2 + By(T)**2)*(Bx(T)*Bx_p(T) + \n",
    "            By(T)*By_p(T) + Bz(T)*Bz_p(T))*(-(Bx(T)*Bz(T)*Bx_p(T)) + \n",
    "            Bx(T)**2*Bz_p(T) + By(T)*(-(Bz(T)*By_p(T)) + \n",
    "            By(T)*Bz_p(T))))/(Bx(T)**2 + By(T)**2 + Bz(T)**2) + \n",
    "            2*(Bx(T)**2 + By(T)**2)*(Bx(T)*Bx_p(T)*Bz_p(T) - \n",
    "            Bz(T)*(Bx_p(T)**2 + By_p(T)**2 + Bx(T)*Bx_p2(T) + \n",
    "            By(T)*By_p2(T)) + Bx(T)**2*Bz_p2(T) + \n",
    "            By(T)*(By_p(T)*Bz_p(T) + By(T)*Bz_p2(T)))))/\\\n",
    "            (2*(Bx(T)**2 + By(T)**2)**2*(Bx(T)**2 + By(T)**2 + Bz(T)**2)**(3/2))\n"
   ]
  },
  {
   "cell_type": "code",
   "execution_count": 7,
   "metadata": {},
   "outputs": [
    {
     "name": "stdout",
     "output_type": "stream",
     "text": [
      "0.02138996124267578\n"
     ]
    }
   ],
   "source": [
    "import time\n",
    "\n",
    "start = time.time()\n",
    "ux2(1)\n",
    "end = time.time()\n",
    "print(end - start)"
   ]
  },
  {
   "cell_type": "code",
   "execution_count": 8,
   "metadata": {},
   "outputs": [],
   "source": [
    "import scipy.integrate as integrate"
   ]
  },
  {
   "cell_type": "code",
   "execution_count": 11,
   "metadata": {},
   "outputs": [
    {
     "data": {
      "text/plain": [
       "0.03573984589206466"
      ]
     },
     "execution_count": 11,
     "metadata": {},
     "output_type": "execute_result"
    }
   ],
   "source": [
    "integrate.romberg(ux1, 0, 2*np.pi)*Y"
   ]
  },
  {
   "cell_type": "code",
   "execution_count": 12,
   "metadata": {},
   "outputs": [
    {
     "name": "stderr",
     "output_type": "stream",
     "text": [
      "/anaconda/lib/python3.6/site-packages/scipy/integrate/quadrature.py:802: AccuracyWarning: divmax (10) exceeded. Latest difference = 9.812691e-05\n",
      "  AccuracyWarning)\n"
     ]
    },
    {
     "data": {
      "text/plain": [
       "-1.8969358319124916e-07"
      ]
     },
     "execution_count": 12,
     "metadata": {},
     "output_type": "execute_result"
    }
   ],
   "source": [
    "integrate.romberg(uy1, 0, 2*np.pi)*Y"
   ]
  },
  {
   "cell_type": "code",
   "execution_count": 15,
   "metadata": {},
   "outputs": [
    {
     "name": "stdout",
     "output_type": "stream",
     "text": [
      "15.804227113723755\n"
     ]
    }
   ],
   "source": [
    "start = time.time()\n",
    "integrate.romberg(ux2, 0, 2*np.pi)*Y\n",
    "end = time.time()\n",
    "print(end - start)"
   ]
  },
  {
   "cell_type": "code",
   "execution_count": 19,
   "metadata": {},
   "outputs": [
    {
     "name": "stdout",
     "output_type": "stream",
     "text": [
      "0.0007519721984863281\n"
     ]
    }
   ],
   "source": [
    "start = time.time()\n",
    "Bx(1)\n",
    "end = time.time()\n",
    "print(end - start)"
   ]
  },
  {
   "cell_type": "code",
   "execution_count": 103,
   "metadata": {},
   "outputs": [
    {
     "name": "stdout",
     "output_type": "stream",
     "text": [
      "0.0006339550018310547\n"
     ]
    }
   ],
   "source": [
    "start = time.time()\n",
    "B(1)\n",
    "end = time.time()\n",
    "print(end - start)"
   ]
  },
  {
   "cell_type": "code",
   "execution_count": 104,
   "metadata": {},
   "outputs": [
    {
     "name": "stdout",
     "output_type": "stream",
     "text": [
      "0.0003879070281982422\n"
     ]
    }
   ],
   "source": [
    "start = time.time()\n",
    "B_1(1)\n",
    "end = time.time()\n",
    "print(end - start)"
   ]
  },
  {
   "cell_type": "code",
   "execution_count": 67,
   "metadata": {},
   "outputs": [],
   "source": [
    "def B(t):\n",
    "    global v\n",
    "    global n\n",
    "    global w\n",
    "    global a\n",
    "    v1=v[0]\n",
    "    v2=v[1]\n",
    "    v3=v[2]\n",
    "    v4=v[3]\n",
    "    v5=v[4]\n",
    "    v6=v[5]\n",
    "    v7=v[6]\n",
    "    return np.dot(np.array([[1,0,0],[0,cos(a),-sin(a)],[0,sin(a),cos(a)]]),\\\n",
    "    v1*(np.array([-1,0,0])*cos(w*t) +np.array([0,1,0])*sin(w*t) )+\\\n",
    "    v2*(np.array([1,0,0])*cos((n-1)*w*t) +np.array([0,1,0])*sin((n-1)*w*t))+\\\n",
    "    v3*(np.array([0,-1,0])*cos((n-1)*w*t) +np.array([1,0,0])*sin((n-1)*w*t))+\\\n",
    "    v4*(np.array([0,0,1])*sin(n*w*t))+\\\n",
    "    v5*(np.array([0,0,1])*cos(n*w*t))+\\\n",
    "    v6*(np.array([-1,0,0])*cos((n+1)*w*t) +np.array([0,1,0])*sin((n+1)*w*t))+\\\n",
    "    v7*(np.array([0,1,0])*cos((n+1)*w*t) +np.array([1,0,0])*sin((n+1)*w*t)))"
   ]
  },
  {
   "cell_type": "code",
   "execution_count": 70,
   "metadata": {},
   "outputs": [],
   "source": [
    "def B_1(t):\n",
    "    global v\n",
    "    global n\n",
    "    global a\n",
    "    v1=v[0]\n",
    "    v2=v[1]\n",
    "    v3=v[2]\n",
    "    v4=v[3]\n",
    "    v5=v[4]\n",
    "    v6=v[5]\n",
    "    v7=v[6]\n",
    "    test=np.dot(np.array([[1,0,0],[0,cos(a),-sin(a)],[0,sin(a),cos(a)]]),\\\n",
    "    v1*(np.array([-1,0,0])*cos(t) +np.array([0,1,0])*sin(t) )+\\\n",
    "    v2*(np.array([1,0,0])*cos((n-1)*t) +np.array([0,1,0])*sin((n-1)*t))+\\\n",
    "    v3*(np.array([0,-1,0])*cos((n-1)*t) +np.array([1,0,0])*sin((n-1)*t))+\\\n",
    "    v4*(np.array([0,0,1])*sin(n*t))+\\\n",
    "    v5*(np.array([0,0,1])*cos(n*t))+\\\n",
    "    v6*(np.array([-1,0,0])*cos((n+1)*t) +np.array([0,1,0])*sin((n+1)*t))+\\\n",
    "    v7*(np.array([0,1,0])*cos((n+1)*t) +np.array([1,0,0])*sin((n+1)*t)))\n",
    "    return test"
   ]
  },
  {
   "cell_type": "code",
   "execution_count": null,
   "metadata": {},
   "outputs": [],
   "source": []
  }
 ],
 "metadata": {
  "kernelspec": {
   "display_name": "Python 3",
   "language": "python",
   "name": "python3"
  },
  "language_info": {
   "codemirror_mode": {
    "name": "ipython",
    "version": 3
   },
   "file_extension": ".py",
   "mimetype": "text/x-python",
   "name": "python",
   "nbconvert_exporter": "python",
   "pygments_lexer": "ipython3",
   "version": "3.6.10"
  }
 },
 "nbformat": 4,
 "nbformat_minor": 2
}
