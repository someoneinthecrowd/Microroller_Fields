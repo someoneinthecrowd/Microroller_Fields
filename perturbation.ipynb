{
 "cells": [
  {
   "cell_type": "code",
   "execution_count": 1,
   "metadata": {},
   "outputs": [
    {
     "name": "stderr",
     "output_type": "stream",
     "text": [
      "/anaconda/lib/python3.6/site-packages/sklearn/externals/joblib/__init__.py:15: DeprecationWarning: sklearn.externals.joblib is deprecated in 0.21 and will be removed in 0.23. Please import this functionality directly from joblib, which can be installed with: pip install joblib. If this warning is raised when loading pickled models, you may need to re-serialize those models with scikit-learn 0.21+.\n",
      "  warnings.warn(msg, category=DeprecationWarning)\n",
      "/anaconda/lib/python3.6/importlib/_bootstrap.py:219: RuntimeWarning: numpy.dtype size changed, may indicate binary incompatibility. Expected 96, got 88\n",
      "  return f(*args, **kwds)\n"
     ]
    }
   ],
   "source": [
    "import numpy as np\n",
    "import numpy.linalg as la\n",
    "import matplotlib.pyplot as plt \n",
    "from numpy import cos\n",
    "from numpy import sin\n",
    "import scipy.integrate as integrate\n",
    "import time\n",
    "from skopt import gp_minimize\n",
    "import pandas as pd"
   ]
  },
  {
   "cell_type": "code",
   "execution_count": 2,
   "metadata": {},
   "outputs": [],
   "source": [
    "## whole field\n",
    "def B(t):\n",
    "    global v\n",
    "    global n\n",
    "    global w\n",
    "    global a\n",
    "    v1=v[0]\n",
    "    v2=v[1]\n",
    "    v3=v[2]\n",
    "    v4=v[3]\n",
    "    v5=v[4]\n",
    "    v6=v[5]\n",
    "    v7=v[6]\n",
    "    return np.dot(np.array([[1,0,0],[0,cos(a),-sin(a)],[0,sin(a),cos(a)]]),\\\n",
    "    v1*(np.array([-1,0,0])*cos(w*t) +np.array([0,1,0])*sin(w*t) )+\\\n",
    "    v2*(np.array([1,0,0])*cos((n-1)*w*t) +np.array([0,1,0])*sin((n-1)*w*t))+\\\n",
    "    v3*(np.array([0,-1,0])*cos((n-1)*w*t) +np.array([1,0,0])*sin((n-1)*w*t))+\\\n",
    "    v4*(np.array([0,0,1])*sin(n*w*t))+\\\n",
    "    v5*(np.array([0,0,1])*cos(n*w*t))+\\\n",
    "    v6*(np.array([-1,0,0])*cos((n+1)*w*t) +np.array([0,1,0])*sin((n+1)*w*t))+\\\n",
    "    v7*(np.array([0,1,0])*cos((n+1)*w*t) +np.array([1,0,0])*sin((n+1)*w*t)))\n",
    "    \n",
    "def B_prime(t):\n",
    "    global v\n",
    "    global n\n",
    "    global w\n",
    "    global a\n",
    "    v1=v[0]\n",
    "    v2=v[1]\n",
    "    v3=v[2]\n",
    "    v4=v[3]\n",
    "    v5=v[4]\n",
    "    v6=v[5]\n",
    "    v7=v[6]\n",
    "    return np.dot(np.array([[1,0,0],[0,cos(a),-sin(a)],[0,sin(a),cos(a)]]),\\\n",
    "    v1*(np.array([-1,0,0])*(-1)*sin(w*t) +np.array([0,1,0])*cos(w*t) )*w+\\\n",
    "    v2*(np.array([1,0,0])*(-1)*(n-1)*sin((n-1)*w*t) +np.array([0,1,0])*(n-1)*cos((n-1)*w*t))*w+\\\n",
    "    v3*(np.array([0,-1,0])*(-1)*(n-1)*sin((n-1)*w*t) +np.array([1,0,0])*(n-1)*cos((n-1)*w*t))*w+\\\n",
    "    v4*(np.array([0,0,1])*n*cos(n*w*t))*w+\\\n",
    "    v5*(np.array([0,0,1])*(-1)*n*sin(n*w*t))*w+\\\n",
    "    v6*(np.array([-1,0,0])*(-1)*(n+1)*sin((n+1)*w*t) +np.array([0,1,0])*(n+1)*cos((n+1)*w*t))*w+\\\n",
    "    v7*(np.array([0,1,0])*(-1)*(n+1)*sin((n+1)*w*t) +np.array([1,0,0])*(n+1)*cos((n+1)*w*t))*w)\n",
    "\n",
    "def B_prime2(t):\n",
    "    global v\n",
    "    global n\n",
    "    global w\n",
    "    global a\n",
    "    v1=v[0]\n",
    "    v2=v[1]\n",
    "    v3=v[2]\n",
    "    v4=v[3]\n",
    "    v5=v[4]\n",
    "    v6=v[5]\n",
    "    v7=v[6]\n",
    "    return np.dot(np.array([[1,0,0],[0,cos(a),-sin(a)],[0,sin(a),cos(a)]]),\\\n",
    "    v1*(np.array([-1,0,0])*(-1)*cos(w*t) +np.array([0,1,0])*(-1)*sin(w*t) )*w*w+\\\n",
    "    v2*(np.array([1,0,0])*(-1)*(n-1)*(n-1)*cos((n-1)*w*t) +np.array([0,1,0])*(-1)*(n-1)*(n-1)*sin((n-1)*w*t))*w*w+\\\n",
    "    v3*(np.array([0,-1,0])*(-1)*(n-1)*(n-1)*cos((n-1)*w*t) +np.array([1,0,0])*(-1)*(n-1)*(n-1)*sin((n-1)*w*t))*w*w+\\\n",
    "    v4*(np.array([0,0,1])*(-1)*n*n*sin(n*w*t))*w*w+\\\n",
    "    v5*(np.array([0,0,1])*(-1)*n*n*cos(n*w*t))*w*w+\\\n",
    "    v6*(np.array([-1,0,0])*(-1)*(n+1)*(n+1)*cos((n+1)*w*t) +np.array([0,1,0])*(-1)*(n+1)*(n+1)*sin((n+1)*w*t))*w*w+\\\n",
    "    v7*(np.array([0,1,0])*(-1)*(n+1)*(n+1)*cos((n+1)*w*t) +np.array([1,0,0])*(-1)*(n+1)*(n+1)*sin((n+1)*w*t))*w*w)\n",
    "\n",
    "\n",
    "\n",
    "\n",
    "\n",
    "\n",
    "\n",
    "    "
   ]
  },
  {
   "cell_type": "code",
   "execution_count": 3,
   "metadata": {},
   "outputs": [],
   "source": [
    "lam=1.8686003910229945\n",
    "v=np.random.uniform(low=-1, high=1, size=(7,))\n",
    "v=[1,-1,0,0.5,1,-0.5,-1]\n",
    "n=5\n",
    "w=1\n",
    "Y=0.10772427142152266\n",
    "a=-5/180*np.pi\n"
   ]
  },
  {
   "cell_type": "code",
   "execution_count": 4,
   "metadata": {},
   "outputs": [],
   "source": [
    "v=[1,-1,0,0.5,1,-0.5,-1]\n"
   ]
  },
  {
   "cell_type": "markdown",
   "metadata": {},
   "source": [
    "## each direction \n",
    "def Bx(t):\n",
    "    return  B(t)[0]\n",
    "def By(t):\n",
    "    return  B(t)[1]\n",
    "def Bz(t):\n",
    "    return  B(t)[2]\n",
    "\n",
    "\n",
    "def Bx_p(t):\n",
    "    return  B_prime(t)[0]\n",
    "def By_p(t):\n",
    "    return   B_prime(t)[1]\n",
    "def Bz_p(t):\n",
    "    return   B_prime(t)[2]\n",
    "\n",
    "\n",
    "def Bx_p2(t):\n",
    "    return  B_prime2(t)[0]\n",
    "def By_p2(t):\n",
    "    return   B_prime2(t)[1]\n",
    "def Bz_p2(t):\n",
    "    return   B_prime2(t)[2]\n",
    "\n",
    "\n"
   ]
  },
  {
   "cell_type": "code",
   "execution_count": 5,
   "metadata": {},
   "outputs": [],
   "source": [
    "## ux1,uy1,\n",
    "def ux1(T):\n",
    "    global lam\n",
    "    Bx,By,Bz=B(T)\n",
    "    Bx_p,By_p,Bz_p=B_prime(T)\n",
    "    return ( Bz/(lam*(Bx**2+By**2)+Bz**2)*((lam*Bx**2+By**2+Bz**2)*Bx_p+(-1+lam)*Bx*By*By_p)- Bx*Bz_p  )\\\n",
    "    /(Bx**2+By**2+Bz**2)\n",
    "def uy1(T):\n",
    "    Bx,By,Bz=B(T)\n",
    "    Bx_p,By_p,Bz_p=B_prime(T)\n",
    "    return ( Bz/(lam*(Bx**2+By**2)+Bz**2)*((Bx**2+lam*By**2+Bz**2)*By_p+(-1+lam)*Bx*By*Bx_p)-By*Bz_p )\\\n",
    "    /(Bx**2+By**2+Bz**2)"
   ]
  },
  {
   "cell_type": "markdown",
   "metadata": {},
   "source": [
    "## ux2\n",
    "def ux2(T):\n",
    "    global lam\n",
    "    \n",
    "    \n",
    "    a1=Bx(T)*Bz(T)*(Bx(T)**2+By(T)**2+Bz(T)**2)**2*(By(T)*Bx_p(T)-Bx(T)*By_p(T))**2/(lam*Bx(T)**2+lam*By(T)**2+Bz(T)**2)**2\n",
    "    #############\n",
    "    a2=(2*By(T)*Bz(T)**2*(By(T)*Bx_p(T)-Bx(T)*By_p(T)) *(-Bx(T)*Bz(T)*Bx_p(T)+Bx(T)**2*Bz_p(T)+By(T) *(-Bz(T)*By_p(T) +By(T)*Bz_p(T))))\\\n",
    "    /(lam*Bx(T)**2+lam*By(T)**2+Bz(T)**2)\n",
    "    \n",
    "    ##########\n",
    "    a3= (2*By(T)*Bz(T)*(Bx(T)**2 + By(T)**2 + Bz(T)**2)*(-2*(Bx(T)**2 + By(T)**2 + Bz(T)**2)*(lam*Bx(T)**2 + lam*By(T)**2 + Bz(T)**2)*\\\n",
    "    (-(By(T)*Bx_p(T)) + Bx(T)*By_p(T))*(Bx(T)*Bx_p(T)+ \n",
    "    By(T)*By_p(T)) + (Bx(T)**2 + By(T)**2)*(lam*Bx(T)**2 + lam*By(T)**2 + Bz(T)**2)*\n",
    "    (-(By(T)*Bx_p(T)) + Bx(T)*By_p(T))*(Bx(T)*Bx_p(T) + \n",
    "    By(T)*By_p(T) + Bz(T)*Bz_p(T)) - \n",
    "    2*(Bx(T)**2 + By(T)**2)*(Bx(T)**2 + By(T)**2 + Bz(T)**2)*(-(By(T)*Bx_p(T)) +\n",
    "    Bx(T)*By_p(T))*(lam*Bx(T)*Bx_p(T) + lam*By(T)*By_p(T) + \n",
    "    Bz(T)*Bz_p(T)) + (Bz(T)*((2 - lam)*Bx(T)**2 - (-2 + lam)*By(T)**2 + Bz(T)**2)*\n",
    "    (lam*Bx(T)**2 + lam*By(T)**2 + Bz(T)**2)*(-(By(T)*Bx_p(T)) + Bx(T)*By_p(T))*\n",
    "    (-(Bx(T)**2*Bz_p(T)) + Bx(T)*Bz(T)*Bx_p(T) + \n",
    "    By(T)*(Bz(T)*By_p(T) - By(T)*Bz_p(T))))/(Bx(T)**2 + By(T)**2 + Bz(T)**2) + \n",
    "    (Bx(T)**2 + By(T)**2)*(Bx(T)**2 + By(T)**2 + Bz(T)**2)*(lam*Bx(T)**2 + lam*By(T)**2 + Bz(T)**2)*\n",
    "    (-(By(T)*Bx_p2(T)) + Bx(T)*By_p2(T))))/\\\n",
    "    ((lam*Bx(T)**2 + lam*By(T)**2 + Bz(T)**2)**2*(lam*(Bx(T)**2 + By(T)**2) + Bz(T)**2))\n",
    "    a4=Bx(T)*((Bz(T)*(Bx(T)**2 + By(T)**2 + Bz(T)**2)**2*(By(T)*Bx_p(T) - Bx(T)*By_p(T))**2)\\\n",
    "    /(lam*Bx(T)**2 + lam*By(T)**2 + Bz(T)**2)**2 - \n",
    "    2*(Bx(T)*Bx_p(T) + By(T)*By_p(T))*(-(Bx(T)*Bz(T)*Bx_p(T)) + \n",
    "    Bx(T)**2*Bz_p(T) + By(T)*(-(Bz(T)*By_p(T)) + By(T)*Bz_p(T))) - \n",
    "    (6*(Bx(T)**2 + By(T)**2)*(Bx(T)*Bx_p(T) + By(T)*By_p(T) + \n",
    "    Bz(T)*Bz_p(T))*(-(Bx(T)*Bz(T)*Bx_p(T)) + Bx(T)**2*Bz_p(T) + \n",
    "    By(T)*(-(Bz(T)*By_p(T)) + By(T)*Bz_p(T))))/\n",
    "    (Bx(T)**2 + By(T)**2 + Bz(T)**2) + 2*(Bx(T)**2 + By(T)**2)*\n",
    "    (Bx(T)*Bx_p(T)*Bz_p(T) - \n",
    "    Bz(T)*(Bx_p(T)**2 + By_p(T)**2 + Bx(T)*Bx_p2(T) + \n",
    "    By(T)*By_p2(T)) + Bx(T)**2*Bz_p2(T) + \n",
    "    By(T)*(By_p(T)*Bz_p(T) + By(T)*Bz_p2(T))))\n",
    "    \n",
    "    \n",
    "    return (a1+a2+a3+a4)/(2*(Bx(T)**2+By(T)**2 )**2*(Bx(T)**2+By(T)**2+Bz(T)**2)**1.5)\n"
   ]
  },
  {
   "cell_type": "markdown",
   "metadata": {},
   "source": [
    "## uy2\n",
    "def uy2(T):\n",
    "    global lam\n",
    "    return ((By(T)*Bz(T)*(Bx(T)**2 + By(T)**2 + Bz(T)**2)**2*(By(T)*Bx_p(T) - Bx(T)*By_p(T))**2)\\\n",
    "             /(lam*Bx(T)**2 + lam*By(T)**2 + Bz(T)**2)**2 + \n",
    "            (2*Bx(T)*Bz(T)**2*(-(By(T)*Bx_p(T)) + Bx(T)*By_p(T))*\\\n",
    "            (-(Bx(T)*Bz(T)*Bx_p(T)) + Bx(T)**2*Bz_p(T) + \n",
    "            By(T)*(-(Bz(T)*By_p(T)) + By(T)*Bz_p(T))))/\n",
    "            (lam*Bx(T)**2 + lam*By(T)**2 + Bz(T)**2) - (2*Bx(T)*Bz(T)*(Bx(T)**2 + By(T)**2 + Bz(T)**2)*\\\n",
    "            (-2*(Bx(T)**2 + By(T)**2 + Bz(T)**2)*(lam*Bx(T)**2 + lam*By(T)**2 + Bz(T)**2)*\\\n",
    "            (-(By(T)*Bx_p(T)) + Bx(T)*By_p(T))*(Bx(T)*Bx_p(T) + \n",
    "            By(T)*By_p(T)) + (Bx(T)**2 + By(T)**2)*(lam*Bx(T)**2 + lam*By(T)**2 + Bz(T)**2)*\\\n",
    "            (-(By(T)*Bx_p(T)) + Bx(T)*By_p(T))*(Bx(T)*Bx_p(T) + \n",
    "            By(T)*By_p(T) + Bz(T)*Bz_p(T)) - \n",
    "            2*(Bx(T)**2 + By(T)**2)*(Bx(T)**2 + By(T)**2 + Bz(T)**2)*(-(By(T)*Bx_p(T)) + \n",
    "            Bx(T)*By_p(T))*(lam*Bx(T)*Bx_p(T) + lam*By(T)*By_p(T) + \n",
    "            Bz(T)*Bz_p(T)) + (Bz(T)*((2 - lam)*Bx(T)**2 - (-2 + lam)*By(T)**2 + Bz(T)**2)*\\\n",
    "            (lam*Bx(T)**2 + lam*By(T)**2 + Bz(T)**2)*(-(By(T)*Bx_p(T)) + \n",
    "            Bx(T)*By_p(T))*(Bx(T)*Bz(T)*Bx_p(T) - Bx(T)**2*Bz_p(T) + \n",
    "            By(T)*(Bz(T)*By_p(T) - By(T)*Bz_p(T))))/ \\\n",
    "            (Bx(T)**2 + By(T)**2 + Bz(T)**2) + (Bx(T)**2 + By(T)**2)*(Bx(T)**2 + By(T)**2 + Bz(T)**2)*\\\n",
    "            (lam*Bx(T)**2 + lam*By(T)**2 + Bz(T)**2)*(-(By(T)*Bx_p2(T)) + \n",
    "            Bx(T)*By_p2(T))))/((lam*Bx(T)**2 + lam*By(T)**2 + Bz(T)**2)**2*\\\n",
    "            (lam*(Bx(T)**2 + By(T)**2) + Bz(T)**2)) + \n",
    "            By(T)*((Bz(T)*(Bx(T)**2 + By(T)**2 + Bz(T)**2)**2*(By(T)*Bx_p(T) - \n",
    "            Bx(T)*By_p(T))**2)/(lam*Bx(T)**2 + lam*By(T)**2 + Bz(T)**2)**2 - \n",
    "            2*(Bx(T)*Bx_p(T) + By(T)*By_p(T))*(-(Bx(T)*Bz(T)*Bx_p(T)) + \n",
    "            Bx(T)**2*Bz_p(T) + By(T)*(-(Bz(T)*By_p(T)) + \n",
    "            By(T)*Bz_p(T))) - (6*(Bx(T)**2 + By(T)**2)*(Bx(T)*Bx_p(T) + \n",
    "            By(T)*By_p(T) + Bz(T)*Bz_p(T))*(-(Bx(T)*Bz(T)*Bx_p(T)) + \n",
    "            Bx(T)**2*Bz_p(T) + By(T)*(-(Bz(T)*By_p(T)) + \n",
    "            By(T)*Bz_p(T))))/(Bx(T)**2 + By(T)**2 + Bz(T)**2) + \n",
    "            2*(Bx(T)**2 + By(T)**2)*(Bx(T)*Bx_p(T)*Bz_p(T) - \n",
    "            Bz(T)*(Bx_p(T)**2 + By_p(T)**2 + Bx(T)*Bx_p2(T) + \n",
    "            By(T)*By_p2(T)) + Bx(T)**2*Bz_p2(T) + \n",
    "            By(T)*(By_p(T)*Bz_p(T) + By(T)*Bz_p2(T)))))/\\\n",
    "            (2*(Bx(T)**2 + By(T)**2)**2*(Bx(T)**2 + By(T)**2 + Bz(T)**2)**(3/2))\n"
   ]
  },
  {
   "cell_type": "code",
   "execution_count": 6,
   "metadata": {},
   "outputs": [],
   "source": [
    "## ux1,uy1,\n",
    "def ux1(T):\n",
    "    global lam\n",
    "    Bx,By,Bz=B(T)\n",
    "    Bx_p,By_p,Bz_p=B_prime(T)\n",
    "    return ( Bz/(lam*(Bx**2+By**2)+Bz**2)*((lam*Bx**2+By**2+Bz**2)*Bx_p+(-1+lam)*Bx*By*By_p)- Bx*Bz_p  )\\\n",
    "    /(Bx**2+By**2+Bz**2)\n",
    "def uy1(T):\n",
    "    Bx,By,Bz=B(T)\n",
    "    Bx_p,By_p,Bz_p=B_prime(T)\n",
    "    return ( Bz/(lam*(Bx**2+By**2)+Bz**2)*((Bx**2+lam*By**2+Bz**2)*By_p+(-1+lam)*Bx*By*Bx_p)-By*Bz_p )\\\n",
    "    /(Bx**2+By**2+Bz**2)"
   ]
  },
  {
   "cell_type": "code",
   "execution_count": 7,
   "metadata": {},
   "outputs": [],
   "source": [
    "## ux2\n",
    "def ux2(T):\n",
    "    global lam\n",
    "    Bx,By,Bz=B(T)\n",
    "    Bx_p,By_p,Bz_p=B_prime(T)\n",
    "    Bx_p2,By_p2,Bz_p2=B_prime2(T)\n",
    "    \n",
    "    \n",
    "    a1=Bx*Bz*(Bx**2+By**2+Bz**2)**2*(By*Bx_p-Bx*By_p)**2/(lam*Bx**2+lam*By**2+Bz**2)**2\n",
    "    #############\n",
    "    a2=(2*By*Bz**2*(By*Bx_p-Bx*By_p) *(-Bx*Bz*Bx_p+Bx**2*Bz_p+By *(-Bz*By_p +By*Bz_p)))\\\n",
    "    /(lam*Bx**2+lam*By**2+Bz**2)\n",
    "    \n",
    "    ##########\n",
    "    a3= (2*By*Bz*(Bx**2 + By**2 + Bz**2)*(-2*(Bx**2 + By**2 + Bz**2)*(lam*Bx**2 + lam*By**2 + Bz**2)*\\\n",
    "    (-(By*Bx_p) + Bx*By_p)*(Bx*Bx_p+ \n",
    "    By*By_p) + (Bx**2 + By**2)*(lam*Bx**2 + lam*By**2 + Bz**2)*\n",
    "    (-(By*Bx_p) + Bx*By_p)*(Bx*Bx_p + \n",
    "    By*By_p + Bz*Bz_p) - \n",
    "    2*(Bx**2 + By**2)*(Bx**2 + By**2 + Bz**2)*(-(By*Bx_p) +\n",
    "    Bx*By_p)*(lam*Bx*Bx_p + lam*By*By_p + \n",
    "    Bz*Bz_p) + (Bz*((2 - lam)*Bx**2 - (-2 + lam)*By**2 + Bz**2)*\n",
    "    (lam*Bx**2 + lam*By**2 + Bz**2)*(-(By*Bx_p) + Bx*By_p)*\n",
    "    (-(Bx**2*Bz_p) + Bx*Bz*Bx_p + \n",
    "    By*(Bz*By_p - By*Bz_p)))/(Bx**2 + By**2 + Bz**2) + \n",
    "    (Bx**2 + By**2)*(Bx**2 + By**2 + Bz**2)*(lam*Bx**2 + lam*By**2 + Bz**2)*\n",
    "    (-(By*Bx_p2) + Bx*By_p2)))/\\\n",
    "    ((lam*Bx**2 + lam*By**2 + Bz**2)**2*(lam*(Bx**2 + By**2) + Bz**2))\n",
    "    a4=Bx*((Bz*(Bx**2 + By**2 + Bz**2)**2*(By*Bx_p - Bx*By_p)**2)\\\n",
    "    /(lam*Bx**2 + lam*By**2 + Bz**2)**2 - \n",
    "    2*(Bx*Bx_p + By*By_p)*(-(Bx*Bz*Bx_p) + \n",
    "    Bx**2*Bz_p + By*(-(Bz*By_p) + By*Bz_p)) - \n",
    "    (6*(Bx**2 + By**2)*(Bx*Bx_p + By*By_p + \n",
    "    Bz*Bz_p)*(-(Bx*Bz*Bx_p) + Bx**2*Bz_p + \n",
    "    By*(-(Bz*By_p) + By*Bz_p)))/\n",
    "    (Bx**2 + By**2 + Bz**2) + 2*(Bx**2 + By**2)*\n",
    "    (Bx*Bx_p*Bz_p - \n",
    "    Bz*(Bx_p**2 + By_p**2 + Bx*Bx_p2 + \n",
    "    By*By_p2) + Bx**2*Bz_p2 + \n",
    "    By*(By_p*Bz_p + By*Bz_p2)))\n",
    "    \n",
    "    \n",
    "    return (a1+a2+a3+a4)/(2*(Bx**2+By**2 )**2*(Bx**2+By**2+Bz**2)**1.5)\n",
    "\n"
   ]
  },
  {
   "cell_type": "code",
   "execution_count": 8,
   "metadata": {},
   "outputs": [],
   "source": [
    "## uy2\n",
    "def uy2(T):\n",
    "    global lam\n",
    "    Bx,By,Bz=B(T)\n",
    "    Bx_p,By_p,Bz_p=B_prime(T)\n",
    "    Bx_p2,By_p2,Bz_p2=B_prime2(T)\n",
    "    return ((By*Bz*(Bx**2 + By**2 + Bz**2)**2*(By*Bx_p - Bx*By_p)**2)\\\n",
    "             /(lam*Bx**2 + lam*By**2 + Bz**2)**2 + \n",
    "            (2*Bx*Bz**2*(-(By*Bx_p) + Bx*By_p)*\\\n",
    "            (-(Bx*Bz*Bx_p) + Bx**2*Bz_p + \n",
    "            By*(-(Bz*By_p) + By*Bz_p)))/\n",
    "            (lam*Bx**2 + lam*By**2 + Bz**2) - (2*Bx*Bz*(Bx**2 + By**2 + Bz**2)*\\\n",
    "            (-2*(Bx**2 + By**2 + Bz**2)*(lam*Bx**2 + lam*By**2 + Bz**2)*\\\n",
    "            (-(By*Bx_p) + Bx*By_p)*(Bx*Bx_p + \n",
    "            By*By_p) + (Bx**2 + By**2)*(lam*Bx**2 + lam*By**2 + Bz**2)*\\\n",
    "            (-(By*Bx_p) + Bx*By_p)*(Bx*Bx_p + \n",
    "            By*By_p + Bz*Bz_p) - \n",
    "            2*(Bx**2 + By**2)*(Bx**2 + By**2 + Bz**2)*(-(By*Bx_p) + \n",
    "            Bx*By_p)*(lam*Bx*Bx_p + lam*By*By_p + \n",
    "            Bz*Bz_p) + (Bz*((2 - lam)*Bx**2 - (-2 + lam)*By**2 + Bz**2)*\\\n",
    "            (lam*Bx**2 + lam*By**2 + Bz**2)*(-(By*Bx_p) + \n",
    "            Bx*By_p)*(Bx*Bz*Bx_p - Bx**2*Bz_p + \n",
    "            By*(Bz*By_p - By*Bz_p)))/ \\\n",
    "            (Bx**2 + By**2 + Bz**2) + (Bx**2 + By**2)*(Bx**2 + By**2 + Bz**2)*\\\n",
    "            (lam*Bx**2 + lam*By**2 + Bz**2)*(-(By*Bx_p2) + \n",
    "            Bx*By_p2)))/((lam*Bx**2 + lam*By**2 + Bz**2)**2*\\\n",
    "            (lam*(Bx**2 + By**2) + Bz**2)) + \n",
    "            By*((Bz*(Bx**2 + By**2 + Bz**2)**2*(By*Bx_p - \n",
    "            Bx*By_p)**2)/(lam*Bx**2 + lam*By**2 + Bz**2)**2 - \n",
    "            2*(Bx*Bx_p + By*By_p)*(-(Bx*Bz*Bx_p) + \n",
    "            Bx**2*Bz_p + By*(-(Bz*By_p) + \n",
    "            By*Bz_p)) - (6*(Bx**2 + By**2)*(Bx*Bx_p + \n",
    "            By*By_p + Bz*Bz_p)*(-(Bx*Bz*Bx_p) + \n",
    "            Bx**2*Bz_p + By*(-(Bz*By_p) + \n",
    "            By*Bz_p)))/(Bx**2 + By**2 + Bz**2) + \n",
    "            2*(Bx**2 + By**2)*(Bx*Bx_p*Bz_p - \n",
    "            Bz*(Bx_p**2 + By_p**2 + Bx*Bx_p2 + \n",
    "            By*By_p2) + Bx**2*Bz_p2 + \n",
    "            By*(By_p*Bz_p + By*Bz_p2))))/\\\n",
    "            (2*(Bx**2 + By**2)**2*(Bx**2 + By**2 + Bz**2)**(3/2))\n",
    "\n"
   ]
  },
  {
   "cell_type": "code",
   "execution_count": 9,
   "metadata": {},
   "outputs": [],
   "source": [
    "import scipy.integrate as integrate\n",
    "def target(vv):\n",
    "    global v\n",
    "    v=vv\n",
    "    dx1=np.mean([ux1(i) for i in np.linspace(0,2*np.pi,1000) ])*2*np.pi\n",
    "    dx2=np.mean([ux2(i) for i in np.linspace(0,2*np.pi,1000) ])*2*np.pi\n",
    "    dy1=np.mean([uy2(i) for i in np.linspace(0,2*np.pi,1000) ])*2*np.pi\n",
    "    return -np.absolute(dy1/(dx1+dx2))*dy1"
   ]
  },
  {
   "cell_type": "code",
   "execution_count": 80,
   "metadata": {},
   "outputs": [],
   "source": [
    "test=np.random.uniform(low=-1, high=1, size=(20000,7))"
   ]
  },
  {
   "cell_type": "code",
   "execution_count": 81,
   "metadata": {},
   "outputs": [
    {
     "name": "stdout",
     "output_type": "stream",
     "text": [
      "1368.5381298065186\n"
     ]
    },
    {
     "name": "stderr",
     "output_type": "stream",
     "text": [
      "Process ForkPoolWorker-118:\n",
      "Process ForkPoolWorker-113:\n",
      "Process ForkPoolWorker-116:\n",
      "Process ForkPoolWorker-115:\n",
      "Process ForkPoolWorker-112:\n",
      "Process ForkPoolWorker-114:\n",
      "Process ForkPoolWorker-111:\n",
      "Process ForkPoolWorker-117:\n",
      "Traceback (most recent call last):\n",
      "Traceback (most recent call last):\n",
      "Traceback (most recent call last):\n",
      "Traceback (most recent call last):\n",
      "Traceback (most recent call last):\n",
      "Traceback (most recent call last):\n",
      "Traceback (most recent call last):\n",
      "Traceback (most recent call last):\n",
      "  File \"/anaconda/lib/python3.6/multiprocessing/process.py\", line 258, in _bootstrap\n",
      "    self.run()\n",
      "  File \"/anaconda/lib/python3.6/multiprocessing/process.py\", line 258, in _bootstrap\n",
      "    self.run()\n",
      "  File \"/anaconda/lib/python3.6/multiprocessing/process.py\", line 258, in _bootstrap\n",
      "    self.run()\n",
      "  File \"/anaconda/lib/python3.6/multiprocessing/process.py\", line 258, in _bootstrap\n",
      "    self.run()\n",
      "  File \"/anaconda/lib/python3.6/multiprocessing/process.py\", line 258, in _bootstrap\n",
      "    self.run()\n",
      "  File \"/anaconda/lib/python3.6/multiprocessing/process.py\", line 258, in _bootstrap\n",
      "    self.run()\n",
      "  File \"/anaconda/lib/python3.6/multiprocessing/process.py\", line 258, in _bootstrap\n",
      "    self.run()\n",
      "  File \"/anaconda/lib/python3.6/multiprocessing/process.py\", line 258, in _bootstrap\n",
      "    self.run()\n",
      "  File \"/anaconda/lib/python3.6/multiprocessing/process.py\", line 93, in run\n",
      "    self._target(*self._args, **self._kwargs)\n",
      "  File \"/anaconda/lib/python3.6/multiprocessing/process.py\", line 93, in run\n",
      "    self._target(*self._args, **self._kwargs)\n",
      "  File \"/anaconda/lib/python3.6/multiprocessing/process.py\", line 93, in run\n",
      "    self._target(*self._args, **self._kwargs)\n",
      "  File \"/anaconda/lib/python3.6/multiprocessing/process.py\", line 93, in run\n",
      "    self._target(*self._args, **self._kwargs)\n",
      "  File \"/anaconda/lib/python3.6/multiprocessing/process.py\", line 93, in run\n",
      "    self._target(*self._args, **self._kwargs)\n",
      "  File \"/anaconda/lib/python3.6/multiprocessing/process.py\", line 93, in run\n",
      "    self._target(*self._args, **self._kwargs)\n",
      "  File \"/anaconda/lib/python3.6/multiprocessing/process.py\", line 93, in run\n",
      "    self._target(*self._args, **self._kwargs)\n",
      "  File \"/anaconda/lib/python3.6/multiprocessing/pool.py\", line 108, in worker\n",
      "    task = get()\n",
      "  File \"/anaconda/lib/python3.6/multiprocessing/pool.py\", line 108, in worker\n",
      "    task = get()\n",
      "  File \"/anaconda/lib/python3.6/multiprocessing/pool.py\", line 108, in worker\n",
      "    task = get()\n",
      "  File \"/anaconda/lib/python3.6/multiprocessing/pool.py\", line 108, in worker\n",
      "    task = get()\n",
      "  File \"/anaconda/lib/python3.6/multiprocessing/pool.py\", line 108, in worker\n",
      "    task = get()\n",
      "  File \"/anaconda/lib/python3.6/multiprocessing/pool.py\", line 108, in worker\n",
      "    task = get()\n",
      "  File \"/anaconda/lib/python3.6/multiprocessing/pool.py\", line 108, in worker\n",
      "    task = get()\n",
      "  File \"/anaconda/lib/python3.6/multiprocessing/queues.py\", line 334, in get\n",
      "    with self._rlock:\n",
      "  File \"/anaconda/lib/python3.6/multiprocessing/queues.py\", line 334, in get\n",
      "    with self._rlock:\n",
      "  File \"/anaconda/lib/python3.6/multiprocessing/queues.py\", line 334, in get\n",
      "    with self._rlock:\n",
      "  File \"/anaconda/lib/python3.6/multiprocessing/queues.py\", line 335, in get\n",
      "    res = self._reader.recv_bytes()\n",
      "  File \"/anaconda/lib/python3.6/multiprocessing/queues.py\", line 334, in get\n",
      "    with self._rlock:\n",
      "  File \"/anaconda/lib/python3.6/multiprocessing/queues.py\", line 334, in get\n",
      "    with self._rlock:\n",
      "  File \"/anaconda/lib/python3.6/multiprocessing/queues.py\", line 334, in get\n",
      "    with self._rlock:\n",
      "  File \"/anaconda/lib/python3.6/multiprocessing/synchronize.py\", line 95, in __enter__\n",
      "    return self._semlock.__enter__()\n",
      "  File \"/anaconda/lib/python3.6/multiprocessing/synchronize.py\", line 95, in __enter__\n",
      "    return self._semlock.__enter__()\n",
      "  File \"/anaconda/lib/python3.6/multiprocessing/synchronize.py\", line 95, in __enter__\n",
      "    return self._semlock.__enter__()\n",
      "  File \"/anaconda/lib/python3.6/multiprocessing/synchronize.py\", line 95, in __enter__\n",
      "    return self._semlock.__enter__()\n",
      "  File \"/anaconda/lib/python3.6/multiprocessing/synchronize.py\", line 95, in __enter__\n",
      "    return self._semlock.__enter__()\n",
      "  File \"/anaconda/lib/python3.6/multiprocessing/synchronize.py\", line 95, in __enter__\n",
      "    return self._semlock.__enter__()\n",
      "KeyboardInterrupt\n",
      "KeyboardInterrupt\n",
      "KeyboardInterrupt\n",
      "KeyboardInterrupt\n",
      "KeyboardInterrupt\n",
      "KeyboardInterrupt\n",
      "  File \"/anaconda/lib/python3.6/multiprocessing/process.py\", line 93, in run\n",
      "    self._target(*self._args, **self._kwargs)\n",
      "  File \"/anaconda/lib/python3.6/multiprocessing/connection.py\", line 216, in recv_bytes\n",
      "    buf = self._recv_bytes(maxlength)\n",
      "  File \"/anaconda/lib/python3.6/multiprocessing/pool.py\", line 108, in worker\n",
      "    task = get()\n",
      "  File \"/anaconda/lib/python3.6/multiprocessing/connection.py\", line 407, in _recv_bytes\n",
      "    buf = self._recv(4)\n",
      "  File \"/anaconda/lib/python3.6/multiprocessing/queues.py\", line 334, in get\n",
      "    with self._rlock:\n",
      "  File \"/anaconda/lib/python3.6/multiprocessing/connection.py\", line 379, in _recv\n",
      "    chunk = read(handle, remaining)\n",
      "  File \"/anaconda/lib/python3.6/multiprocessing/synchronize.py\", line 95, in __enter__\n",
      "    return self._semlock.__enter__()\n",
      "KeyboardInterrupt\n",
      "KeyboardInterrupt\n"
     ]
    }
   ],
   "source": [
    "import multiprocessing as mp\n",
    "from multiprocessing import Pool\n",
    "\n",
    "start = time.time()\n",
    "\n",
    "p = Pool(mp.cpu_count())\n",
    "result=p.map(target, test)\n",
    "end = time.time()\n",
    "print(end - start)"
   ]
  },
  {
   "cell_type": "code",
   "execution_count": 82,
   "metadata": {},
   "outputs": [],
   "source": [
    "np.savetxt(\"ux1_0_result_3.csv\", result, delimiter=\",\")"
   ]
  },
  {
   "cell_type": "code",
   "execution_count": 83,
   "metadata": {},
   "outputs": [],
   "source": [
    "np.savetxt(\"ux1_0_input_3.csv\", test, delimiter=\",\")"
   ]
  },
  {
   "cell_type": "code",
   "execution_count": 99,
   "metadata": {},
   "outputs": [
    {
     "data": {
      "text/plain": [
       "(0, 50)"
      ]
     },
     "execution_count": 99,
     "metadata": {},
     "output_type": "execute_result"
    },
    {
     "data": {
      "image/png": "[encoded data removed]",
      "text/plain": [
       "<Figure size 432x288 with 1 Axes>"
      ]
     },
     "metadata": {
      "needs_background": "light"
     },
     "output_type": "display_data"
    }
   ],
   "source": [
    "plt.plot(np.arange(20000),np.sort(np.absolute(result)))\n",
    "plt.ylim(0,0.01)\n",
    "plt.xlim(0,50)"
   ]
  },
  {
   "cell_type": "code",
   "execution_count": 58,
   "metadata": {},
   "outputs": [
    {
     "name": "stdout",
     "output_type": "stream",
     "text": [
      "1362.1091680526733\n"
     ]
    }
   ],
   "source": [
    "start = time.time()\n",
    "sol=np.zeros([5000,7])\n",
    "n=0\n",
    "for i in range(5000):\n",
    "    vv=np.random.uniform(low=-1, high=1, size=(7,))\n",
    "    if np.absolute(target(vv))<0.01:\n",
    "        sol[n]=vv\n",
    "        n=n+1\n",
    "        \n",
    "end = time.time()\n",
    "print(end - start)       "
   ]
  },
  {
   "cell_type": "code",
   "execution_count": 66,
   "metadata": {},
   "outputs": [],
   "source": [
    "save=sol[1:34]"
   ]
  },
  {
   "cell_type": "code",
   "execution_count": 67,
   "metadata": {},
   "outputs": [],
   "source": [
    "np.savetxt(\"ux1zero_3.csv\", save, delimiter=\",\")"
   ]
  },
  {
   "cell_type": "code",
   "execution_count": 11,
   "metadata": {},
   "outputs": [
    {
     "name": "stdout",
     "output_type": "stream",
     "text": [
      "0.37114810943603516\n"
     ]
    }
   ],
   "source": [
    "import time\n",
    "\n",
    "start = time.time()\n",
    "\n",
    "test=np.mean([uy2(i) for i in np.linspace(0,2*np.pi,1000) ])*2*np.pi\n",
    "end = time.time()\n",
    "print(end - start)"
   ]
  },
  {
   "cell_type": "code",
   "execution_count": 12,
   "metadata": {},
   "outputs": [
    {
     "name": "stdout",
     "output_type": "stream",
     "text": [
      "0.3934609889984131\n"
     ]
    },
    {
     "name": "stderr",
     "output_type": "stream",
     "text": [
      "/anaconda/lib/python3.6/site-packages/scipy/integrate/quadrature.py:802: AccuracyWarning: divmax (10) exceeded. Latest difference = 3.497745e-01\n",
      "  AccuracyWarning)\n"
     ]
    }
   ],
   "source": [
    "start = time.time()\n",
    "integrate.romberg(uy2, 0, 2*np.pi)\n",
    "end = time.time()\n",
    "print(end - start)"
   ]
  },
  {
   "cell_type": "code",
   "execution_count": 69,
   "metadata": {},
   "outputs": [],
   "source": [
    "sam= np.random.uniform(low=-1, high=1, size=(7,))"
   ]
  },
  {
   "cell_type": "code",
   "execution_count": 70,
   "metadata": {},
   "outputs": [
    {
     "name": "stdout",
     "output_type": "stream",
     "text": [
      "0.9208917617797852\n",
      "2763.6302721171287\n"
     ]
    }
   ],
   "source": [
    "start = time.time()\n",
    "Target=target(sam)\n",
    "end = time.time()\n",
    "print(end - start)\n",
    "print(Target)"
   ]
  },
  {
   "cell_type": "code",
   "execution_count": 10,
   "metadata": {},
   "outputs": [],
   "source": [
    "import cma"
   ]
  },
  {
   "cell_type": "code",
   "execution_count": 11,
   "metadata": {},
   "outputs": [],
   "source": [
    "import time\n",
    "from neat.parallel import ParallelEvaluator"
   ]
  },
  {
   "cell_type": "markdown",
   "metadata": {},
   "source": [
    "# parrellel computing CMA-es"
   ]
  },
  {
   "cell_type": "code",
   "execution_count": 12,
   "metadata": {},
   "outputs": [
    {
     "name": "stdout",
     "output_type": "stream",
     "text": [
      "(4_w,9)-aCMA-ES (mu_w=2.8,w_1=49%) in dimension 7 (seed=562318, Fri Jan 31 14:48:48 2020)\n",
      "Iterat #Fevals   function value  axis ratio  sigma  min&max std  t[m:s]\n",
      "    1      9 -2.047030869567579e+01 1.0e+00 4.69e-01  4e-01  5e-01 0:02.6\n",
      "    2     18 -1.276408640938497e+02 1.2e+00 4.53e-01  4e-01  5e-01 0:05.2\n",
      "    3     27 -2.611285435352465e+01 1.3e+00 3.99e-01  4e-01  4e-01 0:07.9\n",
      "    5     45 -1.579266628747364e+04 1.5e+00 3.84e-01  3e-01  4e-01 0:12.7\n",
      "    7     63 -4.220839675106289e+03 1.7e+00 3.69e-01  3e-01  4e-01 0:17.6\n",
      "   10     90 -2.894940429633225e+03 1.8e+00 3.07e-01  2e-01  3e-01 0:25.1\n",
      "   13    117 -6.440104634903274e+04 1.9e+00 2.53e-01  2e-01  3e-01 0:32.8\n",
      "   16    144 -9.094840028758463e+03 2.2e+00 1.82e-01  1e-01  2e-01 0:40.5\n",
      "   20    180 -3.158165232107123e+04 2.3e+00 2.09e-01  1e-01  2e-01 0:51.0\n",
      "   24    216 -1.092457020853236e+03 2.8e+00 2.39e-01  1e-01  3e-01 1:01.7\n",
      "   28    252 -5.703918793286536e+03 3.3e+00 2.35e-01  1e-01  3e-01 1:13.4\n",
      "   32    288 -2.680507778721941e+04 3.9e+00 1.90e-01  9e-02  2e-01 1:24.8\n",
      "   37    333 -2.507992440433139e+04 3.9e+00 1.41e-01  6e-02  1e-01 1:37.9\n",
      "   42    378 -3.270925692633580e+04 4.2e+00 8.05e-02  3e-02  8e-02 1:51.3\n",
      "   47    423 -7.813434071478805e+04 3.7e+00 7.55e-02  3e-02  7e-02 2:05.5\n",
      "   53    477 -2.932135835176816e+05 4.8e+00 8.45e-02  3e-02  8e-02 2:21.3\n",
      "   56    504 -2.511375803817209e+05 4.7e+00 7.30e-02  3e-02  7e-02 2:29.1\n",
      "(4_w,9)-aCMA-ES (mu_w=2.8,w_1=49%) in dimension 7 (seed=633940, Fri Jan 31 14:51:17 2020)\n",
      "Iterat #Fevals   function value  axis ratio  sigma  min&max std  t[m:s]\n",
      "    1      9 -4.307336421894169e+02 1.0e+00 4.92e-01  5e-01  5e-01 0:02.8\n",
      "    2     18 -6.333304626299562e+01 1.3e+00 4.68e-01  4e-01  5e-01 0:05.5\n",
      "    3     27 -8.015612359590709e+02 1.4e+00 5.92e-01  5e-01  7e-01 0:08.1\n",
      "    5     45 -1.281585567537718e+03 1.7e+00 6.44e-01  5e-01  7e-01 0:13.4\n",
      "    7     63 -3.753273893821901e+04 1.6e+00 5.05e-01  4e-01  5e-01 0:18.6\n",
      "    9     81 -3.890715304663445e+03 1.7e+00 5.49e-01  4e-01  6e-01 0:23.9\n",
      "   12    108 -8.513061607199774e+03 1.8e+00 5.27e-01  4e-01  6e-01 0:31.8\n",
      "   15    135 -2.843730515566332e+02 2.0e+00 5.20e-01  4e-01  6e-01 0:39.7\n",
      "   18    162 -4.637985822840449e+04 2.2e+00 4.93e-01  3e-01  6e-01 0:48.3\n",
      "   22    198 -7.265908990578884e+03 2.6e+00 3.66e-01  2e-01  4e-01 0:59.6\n",
      "   26    234 -4.631187468540093e+03 3.2e+00 2.76e-01  1e-01  3e-01 1:10.4\n",
      "   30    270 -3.418588728862627e+04 3.1e+00 2.04e-01  9e-02  2e-01 1:21.5\n",
      "   35    315 -1.322462297330545e+04 3.3e+00 2.14e-01  9e-02  2e-01 1:34.8\n",
      "   40    360 -8.728303286462709e+05 3.7e+00 1.42e-01  5e-02  1e-01 1:48.3\n",
      "   46    414 -3.386650438067055e+05 4.3e+00 1.23e-01  4e-02  1e-01 2:04.4\n",
      "   52    468 -4.810995720851864e+04 4.6e+00 1.12e-01  4e-02  1e-01 2:20.6\n",
      "   56    504 -9.710940240651116e+04 5.7e+00 1.54e-01  6e-02  2e-01 2:31.1\n",
      "(4_w,9)-aCMA-ES (mu_w=2.8,w_1=49%) in dimension 7 (seed=646886, Fri Jan 31 14:53:48 2020)\n",
      "Iterat #Fevals   function value  axis ratio  sigma  min&max std  t[m:s]\n",
      "    1      9 -4.504309096178164e+02 1.0e+00 4.83e-01  5e-01  5e-01 0:02.9\n",
      "    2     18 -2.473581298808323e+02 1.2e+00 5.14e-01  5e-01  6e-01 0:05.9\n",
      "    3     27 -3.220801789991664e+03 1.4e+00 4.90e-01  4e-01  6e-01 0:08.6\n",
      "    5     45 -2.091266184649520e+03 1.6e+00 4.34e-01  4e-01  5e-01 0:13.9\n",
      "    7     63 -1.274833760971769e+03 1.8e+00 3.83e-01  3e-01  4e-01 0:19.3\n",
      "    9     81 -8.705407364291006e+03 1.8e+00 3.38e-01  3e-01  4e-01 0:24.6\n",
      "   12    108 -1.045254052702082e+04 2.0e+00 2.47e-01  2e-01  3e-01 0:32.5\n",
      "   15    135 -8.297226199873007e+02 2.3e+00 1.80e-01  1e-01  2e-01 0:40.6\n",
      "   18    162 -2.322676577584595e+03 2.3e+00 1.59e-01  1e-01  2e-01 0:49.0\n",
      "   22    198 -1.882956395943403e+05 2.9e+00 1.87e-01  1e-01  2e-01 0:59.7\n",
      "   26    234 -1.237302384483884e+04 3.5e+00 1.81e-01  1e-01  2e-01 1:10.3\n",
      "   31    279 -2.860424816470364e+03 3.6e+00 2.17e-01  1e-01  2e-01 1:24.0\n",
      "   36    324 -2.959157658764080e+04 4.2e+00 1.61e-01  1e-01  2e-01 1:38.8\n",
      "   41    369 -9.203019649516932e+04 5.7e+00 1.37e-01  9e-02  2e-01 1:54.7\n",
      "   46    414 -8.642678255798113e+04 5.5e+00 1.05e-01  6e-02  1e-01 2:10.1\n",
      "   51    459 -3.438850495059564e+05 6.2e+00 6.97e-02  4e-02  8e-02 2:25.2\n",
      "   56    504 -1.524876366129066e+05 6.9e+00 5.91e-02  3e-02  6e-02 2:40.5\n",
      "(4_w,9)-aCMA-ES (mu_w=2.8,w_1=49%) in dimension 7 (seed=606762, Fri Jan 31 14:56:29 2020)\n",
      "Iterat #Fevals   function value  axis ratio  sigma  min&max std  t[m:s]\n",
      "    1      9 -4.754032917853793e+01 1.0e+00 4.74e-01  5e-01  5e-01 0:03.3\n",
      "    2     18 -8.739144151917209e+03 1.3e+00 4.72e-01  4e-01  5e-01 0:06.4\n",
      "    3     27 -7.844551460074456e+01 1.3e+00 4.52e-01  4e-01  5e-01 0:09.4\n",
      "    4     36 -1.589559467496879e+02 1.5e+00 5.07e-01  4e-01  6e-01 0:12.4\n",
      "    6     54 -1.321560046923214e+03 1.7e+00 4.79e-01  4e-01  6e-01 0:18.7\n",
      "    8     72 -9.855552059172297e+02 1.8e+00 4.14e-01  3e-01  5e-01 0:25.7\n",
      "   10     90 -2.569498342720198e+03 2.0e+00 4.56e-01  3e-01  6e-01 0:32.0\n",
      "   13    117 -3.663237823677166e+03 2.2e+00 3.96e-01  3e-01  5e-01 0:41.2\n",
      "   16    144 -5.726756803453857e+03 2.3e+00 3.60e-01  3e-01  4e-01 0:50.8\n",
      "   19    171 -3.711183575425734e+03 2.1e+00 3.07e-01  2e-01  3e-01 1:00.4\n",
      "   23    207 -8.063240063424917e+03 2.5e+00 2.83e-01  2e-01  3e-01 1:12.0\n",
      "   27    243 -2.156919326484858e+05 2.4e+00 2.12e-01  1e-01  2e-01 1:24.2\n",
      "   31    279 -8.753544978538212e+03 3.1e+00 2.33e-01  1e-01  2e-01 1:36.8\n",
      "   36    324 -1.269401611939974e+05 3.1e+00 1.49e-01  7e-02  1e-01 1:52.3\n",
      "   41    369 -1.254317194748349e+05 3.4e+00 1.11e-01  5e-02  1e-01 2:08.9\n",
      "   47    423 -4.444847731207731e+04 4.1e+00 9.42e-02  4e-02  1e-01 2:26.3\n",
      "   53    477 -1.940379995037838e+05 4.1e+00 8.18e-02  3e-02  8e-02 2:43.6\n",
      "   56    504 -1.096116541289653e+04 4.6e+00 6.61e-02  3e-02  7e-02 2:51.9\n",
      "(4_w,9)-aCMA-ES (mu_w=2.8,w_1=49%) in dimension 7 (seed=575808, Fri Jan 31 14:59:21 2020)\n",
      "Iterat #Fevals   function value  axis ratio  sigma  min&max std  t[m:s]\n",
      "    1      9 -2.309393841403617e+02 1.0e+00 4.99e-01  5e-01  5e-01 0:03.3\n",
      "    2     18 -5.947679400683151e+02 1.2e+00 4.37e-01  4e-01  4e-01 0:06.4\n",
      "    3     27 -4.039400516212237e+03 1.2e+00 3.92e-01  4e-01  4e-01 0:09.4\n",
      "    4     36 -5.702826935983373e+02 1.3e+00 3.35e-01  3e-01  3e-01 0:12.4\n",
      "    6     54 -5.894853745886971e+03 1.5e+00 2.66e-01  2e-01  3e-01 0:18.1\n",
      "    8     72 -8.965088852255700e+02 1.6e+00 2.43e-01  2e-01  2e-01 0:24.4\n",
      "   10     90 -2.852822671565331e+03 1.7e+00 2.03e-01  1e-01  2e-01 0:30.8\n",
      "   13    117 -1.728528761653530e+03 1.9e+00 1.68e-01  1e-01  2e-01 0:39.3\n",
      "   16    144 -4.103440133442132e+04 2.2e+00 1.49e-01  9e-02  1e-01 0:48.2\n",
      "   20    180 -1.486580653931074e+04 2.5e+00 1.49e-01  9e-02  1e-01 0:59.6\n",
      "   24    216 -2.175769956337559e+04 3.3e+00 1.76e-01  9e-02  2e-01 1:12.5\n",
      "   28    252 -6.674174176559880e+03 3.2e+00 1.81e-01  9e-02  2e-01 1:25.4\n",
      "   32    288 -6.348902669557637e+03 3.6e+00 1.27e-01  6e-02  1e-01 1:37.4\n",
      "   37    333 -2.882396767020591e+04 4.3e+00 1.08e-01  5e-02  1e-01 1:51.5\n",
      "   43    387 -9.294261364763980e+04 5.3e+00 8.73e-02  4e-02  8e-02 2:07.5\n",
      "   49    441 -1.430456665182674e+05 5.4e+00 5.61e-02  2e-02  5e-02 2:24.1\n",
      "   55    495 -9.645045882277086e+06 6.4e+00 5.56e-02  2e-02  6e-02 2:41.0\n",
      "   56    504 -6.110462121264027e+05 6.9e+00 5.56e-02  2e-02  6e-02 2:43.7\n",
      "(4_w,9)-aCMA-ES (mu_w=2.8,w_1=49%) in dimension 7 (seed=562122, Fri Jan 31 15:02:05 2020)\n",
      "Iterat #Fevals   function value  axis ratio  sigma  min&max std  t[m:s]\n",
      "    1      9 -7.490738707185641e+03 1.0e+00 4.46e-01  4e-01  5e-01 0:03.4\n",
      "    2     18 -2.008654963124372e+02 1.2e+00 4.11e-01  4e-01  4e-01 0:06.5\n",
      "    3     27 -4.420779462699001e+02 1.2e+00 3.85e-01  3e-01  4e-01 0:09.3\n",
      "    4     36 -4.417450933851217e+02 1.3e+00 4.06e-01  4e-01  4e-01 0:12.4\n",
      "    6     54 -2.319327976208831e+02 1.5e+00 4.02e-01  4e-01  4e-01 0:18.1\n",
      "    8     72 -5.007415990954432e+03 1.7e+00 3.83e-01  3e-01  4e-01 0:23.5\n",
      "   11     99 -2.554518902074118e+03 1.8e+00 3.51e-01  3e-01  3e-01 0:32.1\n",
      "   14    126 -2.487610790819564e+04 1.8e+00 3.06e-01  2e-01  3e-01 0:40.1\n",
      "   17    153 -1.410417487238591e+04 1.9e+00 2.68e-01  2e-01  3e-01 0:48.3\n",
      "   21    189 -5.101122517155520e+04 2.0e+00 1.67e-01  1e-01  2e-01 1:00.2\n",
      "   25    225 -9.239614749942743e+04 2.2e+00 1.19e-01  9e-02  1e-01 1:11.5\n"
     ]
    },
    {
     "name": "stdout",
     "output_type": "stream",
     "text": [
      "   29    261 -1.671133070873883e+05 2.1e+00 8.91e-02  6e-02  8e-02 1:22.6\n",
      "   34    306 -2.172180945456155e+04 2.4e+00 8.34e-02  5e-02  7e-02 1:36.0\n",
      "   39    351 -2.680942422863045e+05 2.5e+00 5.92e-02  4e-02  5e-02 1:49.4\n",
      "   45    405 -4.490661929106990e+06 2.8e+00 3.58e-02  2e-02  3e-02 2:05.5\n",
      "   51    459 -1.071171190592984e+06 2.8e+00 2.66e-02  1e-02  2e-02 2:21.4\n",
      "   56    504 -8.103190953324432e+05 3.2e+00 1.70e-02  6e-03  1e-02 2:35.2\n",
      "(4_w,9)-aCMA-ES (mu_w=2.8,w_1=49%) in dimension 7 (seed=658354, Fri Jan 31 15:04:40 2020)\n",
      "Iterat #Fevals   function value  axis ratio  sigma  min&max std  t[m:s]\n",
      "    1      9 -3.693568892401960e+02 1.0e+00 5.01e-01  5e-01  5e-01 0:03.3\n",
      "    2     18 -2.342072281480150e+02 1.2e+00 4.78e-01  4e-01  5e-01 0:06.1\n",
      "    3     27 -1.130013332919068e+02 1.3e+00 4.68e-01  4e-01  5e-01 0:08.8\n",
      "    5     45 -5.128633493453182e+02 1.6e+00 4.49e-01  4e-01  5e-01 0:14.2\n",
      "    7     63 -3.978411780082475e+02 1.9e+00 3.99e-01  3e-01  5e-01 0:19.5\n",
      "    9     81 -1.220503800749565e+02 2.0e+00 4.17e-01  3e-01  5e-01 0:25.0\n",
      "   12    108 -6.564833156863095e+02 2.2e+00 4.56e-01  4e-01  6e-01 0:33.3\n",
      "   15    135 -2.618767399690036e+02 2.5e+00 3.67e-01  3e-01  5e-01 0:41.3\n",
      "   18    162 -1.526884716138179e+02 2.6e+00 3.64e-01  3e-01  4e-01 0:50.1\n",
      "   22    198 -1.182613506755634e+02 2.7e+00 3.79e-01  3e-01  4e-01 1:01.0\n",
      "   25    225 -4.307304071722780e+03 2.8e+00 2.91e-01  2e-01  3e-01 1:11.2\n",
      "   29    261 -3.985527418633373e+03 3.3e+00 3.51e-01  2e-01  4e-01 1:22.8\n",
      "   33    297 -2.512981234320016e+04 3.2e+00 2.58e-01  1e-01  3e-01 1:35.0\n",
      "   38    342 -5.057406724331161e+03 3.8e+00 2.89e-01  2e-01  3e-01 1:48.7\n",
      "   43    387 -3.188354641560348e+03 4.4e+00 3.49e-01  2e-01  4e-01 2:03.0\n",
      "   49    441 -1.002651606173033e+04 3.9e+00 3.45e-01  2e-01  3e-01 2:19.5\n",
      "   55    495 -7.505555730820132e+02 4.7e+00 3.32e-01  1e-01  3e-01 2:37.2\n",
      "   56    504 -7.361443189995419e+04 4.4e+00 3.35e-01  1e-01  3e-01 2:39.9\n",
      "(4_w,9)-aCMA-ES (mu_w=2.8,w_1=49%) in dimension 7 (seed=588993, Fri Jan 31 15:07:20 2020)\n",
      "Iterat #Fevals   function value  axis ratio  sigma  min&max std  t[m:s]\n",
      "    1      9 -3.189844138721065e+01 1.0e+00 4.53e-01  4e-01  5e-01 0:03.1\n",
      "    2     18 -8.416503240484504e+02 1.2e+00 4.04e-01  4e-01  4e-01 0:06.2\n",
      "    3     27 -1.343959322412931e+03 1.3e+00 4.25e-01  4e-01  4e-01 0:08.9\n",
      "    5     45 -6.724340902328731e+03 1.5e+00 4.26e-01  4e-01  5e-01 0:14.5\n",
      "    7     63 -6.468112852412204e+01 1.9e+00 4.14e-01  3e-01  5e-01 0:20.2\n",
      "    9     81 -5.757871848876469e+03 1.9e+00 3.70e-01  3e-01  4e-01 0:26.3\n",
      "   11     99 -2.662389370711080e+04 1.9e+00 3.54e-01  3e-01  4e-01 0:32.5\n",
      "   14    126 -2.303350579100244e+03 2.3e+00 3.68e-01  3e-01  5e-01 0:41.8\n",
      "   17    153 -1.727272834931546e+03 2.9e+00 3.39e-01  2e-01  5e-01 0:50.0\n",
      "   21    189 -4.219968811875592e+03 3.0e+00 3.21e-01  2e-01  4e-01 1:00.9\n",
      "   25    225 -1.306821641496874e+03 3.8e+00 3.30e-01  2e-01  4e-01 1:11.7\n",
      "   29    261 -2.014993304570655e+03 3.7e+00 2.95e-01  2e-01  4e-01 1:23.0\n",
      "   34    306 -6.689889531749883e+03 4.3e+00 2.99e-01  2e-01  4e-01 1:36.5\n",
      "   39    351 -4.857057246156848e+04 5.3e+00 1.99e-01  1e-01  2e-01 1:49.9\n",
      "   45    405 -6.643624194033288e+04 6.6e+00 1.22e-01  7e-02  1e-01 2:06.1\n",
      "   51    459 -1.848881827008337e+04 7.4e+00 8.81e-02  5e-02  1e-01 2:22.5\n",
      "   56    504 -2.251721282834582e+04 9.1e+00 7.49e-02  4e-02  9e-02 2:36.7\n",
      "(4_w,9)-aCMA-ES (mu_w=2.8,w_1=49%) in dimension 7 (seed=587280, Fri Jan 31 15:09:57 2020)\n",
      "Iterat #Fevals   function value  axis ratio  sigma  min&max std  t[m:s]\n",
      "    1      9 -8.746223504799791e+02 1.0e+00 4.85e-01  5e-01  5e-01 0:03.5\n",
      "    2     18 -1.667039842560862e+03 1.3e+00 5.01e-01  5e-01  5e-01 0:06.4\n",
      "    3     27 -5.153643331091092e+02 1.5e+00 4.91e-01  4e-01  5e-01 0:09.4\n",
      "    5     45 -1.868494919165106e+02 1.6e+00 4.84e-01  4e-01  5e-01 0:15.1\n",
      "    7     63 -1.673573768271082e+05 1.9e+00 5.80e-01  4e-01  8e-01 0:21.2\n",
      "    9     81 -3.669223150325277e+04 2.4e+00 6.27e-01  4e-01  8e-01 0:26.5\n",
      "   12    108 -8.978900678356183e+02 2.5e+00 6.00e-01  4e-01  8e-01 0:34.6\n",
      "   15    135 -3.580049676082988e+03 2.5e+00 4.99e-01  3e-01  6e-01 0:42.9\n",
      "   18    162 -7.425551865521515e+03 2.8e+00 3.48e-01  2e-01  4e-01 0:52.7\n",
      "   21    189 -2.175960709474673e+03 2.9e+00 3.19e-01  2e-01  3e-01 1:02.9\n",
      "   24    216 -2.745464595662331e+04 2.9e+00 2.51e-01  1e-01  3e-01 1:12.9\n",
      "   29    261 -9.466334653359753e+04 3.3e+00 3.35e-01  2e-01  3e-01 1:26.8\n",
      "   34    306 -6.000285156609239e+04 3.9e+00 4.29e-01  2e-01  5e-01 1:41.2\n",
      "   39    351 -8.683487204621995e+03 3.5e+00 3.62e-01  2e-01  4e-01 1:55.1\n",
      "   44    396 -2.935767617204853e+03 3.7e+00 2.84e-01  1e-01  3e-01 2:09.5\n",
      "   50    450 -1.502482935869000e+04 3.7e+00 2.87e-01  1e-01  3e-01 2:27.3\n",
      "   56    504 -4.021627932864585e+03 4.2e+00 2.54e-01  1e-01  3e-01 2:45.0\n",
      "(4_w,9)-aCMA-ES (mu_w=2.8,w_1=49%) in dimension 7 (seed=651102, Fri Jan 31 15:12:42 2020)\n",
      "Iterat #Fevals   function value  axis ratio  sigma  min&max std  t[m:s]\n",
      "    1      9 -1.800413503900755e+02 1.0e+00 4.84e-01  5e-01  5e-01 0:03.3\n",
      "    2     18 -6.840661388945828e+02 1.3e+00 5.03e-01  5e-01  6e-01 0:07.5\n",
      "    3     27 -2.490403143880651e+03 1.4e+00 5.46e-01  5e-01  6e-01 0:10.7\n",
      "    5     45 -5.633576661418025e+02 1.7e+00 6.50e-01  5e-01  8e-01 0:16.4\n",
      "    7     63 -1.703450174878560e+02 2.3e+00 7.21e-01  5e-01  9e-01 0:22.3\n",
      "    9     81 -3.257716185746712e+01 2.2e+00 7.44e-01  6e-01  9e-01 0:28.8\n",
      "   12    108 -4.124891752786281e+02 2.2e+00 8.57e-01  6e-01  1e+00 0:37.3\n",
      "   15    135 -5.592456702815835e+01 2.6e+00 8.45e-01  6e-01  1e+00 0:45.8\n",
      "   18    162 -3.059217525369122e+01 2.8e+00 6.62e-01  5e-01  8e-01 0:54.5\n",
      "   22    198 -2.356270392206186e+02 2.9e+00 5.99e-01  4e-01  7e-01 1:07.0\n",
      "   25    225 -5.810717039530675e+02 2.8e+00 5.72e-01  3e-01  6e-01 1:17.1\n",
      "   29    261 -1.318446065494037e+03 3.4e+00 4.23e-01  2e-01  5e-01 1:29.0\n",
      "   34    306 -8.537843575771012e+02 3.7e+00 4.04e-01  2e-01  4e-01 1:43.1\n",
      "   39    351 -1.619187383746433e+04 3.7e+00 3.03e-01  2e-01  4e-01 1:56.7\n",
      "   44    396 -1.493775258033305e+04 3.9e+00 2.26e-01  1e-01  3e-01 2:10.9\n",
      "   50    450 -7.356445097488799e+03 4.1e+00 2.18e-01  1e-01  2e-01 2:28.1\n",
      "   56    504 -9.392354091423642e+04 4.8e+00 1.52e-01  8e-02  1e-01 2:44.9\n",
      "(4_w,9)-aCMA-ES (mu_w=2.8,w_1=49%) in dimension 7 (seed=620443, Fri Jan 31 15:15:27 2020)\n",
      "Iterat #Fevals   function value  axis ratio  sigma  min&max std  t[m:s]\n",
      "    1      9 -1.181212390896795e+02 1.0e+00 5.04e-01  5e-01  5e-01 0:03.6\n",
      "    2     18 -1.622083061105603e+02 1.2e+00 5.00e-01  5e-01  5e-01 0:07.0\n",
      "    3     27 -2.671302348649064e+03 1.3e+00 5.03e-01  5e-01  5e-01 0:09.8\n",
      "    4     36 -8.145518267388507e+05 1.4e+00 4.83e-01  4e-01  5e-01 0:12.9\n",
      "    6     54 -3.842472906683050e+02 1.5e+00 4.09e-01  3e-01  4e-01 0:18.4\n",
      "    8     72 -5.259308410875421e+02 1.8e+00 4.48e-01  4e-01  5e-01 0:24.2\n"
     ]
    },
    {
     "name": "stderr",
     "output_type": "stream",
     "text": [
      "Process ForkPoolWorker-64:\n",
      "Process ForkPoolWorker-63:\n",
      "Process ForkPoolWorker-66:\n",
      "Process ForkPoolWorker-65:\n",
      "Process ForkPoolWorker-62:\n",
      "Process ForkPoolWorker-61:\n",
      "Traceback (most recent call last):\n",
      "Traceback (most recent call last):\n",
      "Traceback (most recent call last):\n",
      "Traceback (most recent call last):\n",
      "Traceback (most recent call last):\n",
      "Traceback (most recent call last):\n",
      "  File \"/anaconda/lib/python3.6/multiprocessing/process.py\", line 258, in _bootstrap\n",
      "    self.run()\n",
      "  File \"/anaconda/lib/python3.6/multiprocessing/process.py\", line 258, in _bootstrap\n",
      "    self.run()\n",
      "  File \"/anaconda/lib/python3.6/multiprocessing/process.py\", line 258, in _bootstrap\n",
      "    self.run()\n",
      "  File \"/anaconda/lib/python3.6/multiprocessing/process.py\", line 258, in _bootstrap\n",
      "    self.run()\n",
      "  File \"/anaconda/lib/python3.6/multiprocessing/process.py\", line 258, in _bootstrap\n",
      "    self.run()\n",
      "  File \"/anaconda/lib/python3.6/multiprocessing/process.py\", line 258, in _bootstrap\n",
      "    self.run()\n",
      "  File \"/anaconda/lib/python3.6/multiprocessing/process.py\", line 93, in run\n",
      "    self._target(*self._args, **self._kwargs)\n",
      "  File \"/anaconda/lib/python3.6/multiprocessing/process.py\", line 93, in run\n",
      "    self._target(*self._args, **self._kwargs)\n",
      "  File \"/anaconda/lib/python3.6/multiprocessing/process.py\", line 93, in run\n",
      "    self._target(*self._args, **self._kwargs)\n",
      "  File \"/anaconda/lib/python3.6/multiprocessing/process.py\", line 93, in run\n",
      "    self._target(*self._args, **self._kwargs)\n",
      "  File \"/anaconda/lib/python3.6/multiprocessing/process.py\", line 93, in run\n",
      "    self._target(*self._args, **self._kwargs)\n",
      "  File \"/anaconda/lib/python3.6/multiprocessing/process.py\", line 93, in run\n",
      "    self._target(*self._args, **self._kwargs)\n",
      "  File \"/anaconda/lib/python3.6/multiprocessing/pool.py\", line 119, in worker\n",
      "    result = (True, func(*args, **kwds))\n",
      "  File \"/anaconda/lib/python3.6/multiprocessing/pool.py\", line 119, in worker\n",
      "    result = (True, func(*args, **kwds))\n",
      "  File \"/anaconda/lib/python3.6/multiprocessing/pool.py\", line 119, in worker\n",
      "    result = (True, func(*args, **kwds))\n",
      "  File \"/anaconda/lib/python3.6/multiprocessing/pool.py\", line 119, in worker\n",
      "    result = (True, func(*args, **kwds))\n",
      "  File \"/anaconda/lib/python3.6/multiprocessing/pool.py\", line 119, in worker\n",
      "    result = (True, func(*args, **kwds))\n",
      "  File \"<ipython-input-9-9ae1606e6aab>\", line 6, in target\n",
      "    dx2=np.mean([ux2(i) for i in np.linspace(0,2*np.pi,1000) ])*2*np.pi\n",
      "  File \"/anaconda/lib/python3.6/multiprocessing/pool.py\", line 119, in worker\n",
      "    result = (True, func(*args, **kwds))\n",
      "  File \"<ipython-input-9-9ae1606e6aab>\", line 6, in target\n",
      "    dx2=np.mean([ux2(i) for i in np.linspace(0,2*np.pi,1000) ])*2*np.pi\n",
      "  File \"<ipython-input-9-9ae1606e6aab>\", line 6, in target\n",
      "    dx2=np.mean([ux2(i) for i in np.linspace(0,2*np.pi,1000) ])*2*np.pi\n",
      "  File \"<ipython-input-9-9ae1606e6aab>\", line 6, in target\n",
      "    dx2=np.mean([ux2(i) for i in np.linspace(0,2*np.pi,1000) ])*2*np.pi\n",
      "  File \"<ipython-input-9-9ae1606e6aab>\", line 6, in target\n",
      "    dx2=np.mean([ux2(i) for i in np.linspace(0,2*np.pi,1000) ])*2*np.pi\n",
      "  File \"<ipython-input-9-9ae1606e6aab>\", line 6, in <listcomp>\n",
      "    dx2=np.mean([ux2(i) for i in np.linspace(0,2*np.pi,1000) ])*2*np.pi\n",
      "  File \"<ipython-input-9-9ae1606e6aab>\", line 6, in target\n",
      "    dx2=np.mean([ux2(i) for i in np.linspace(0,2*np.pi,1000) ])*2*np.pi\n",
      "  File \"<ipython-input-9-9ae1606e6aab>\", line 6, in <listcomp>\n",
      "    dx2=np.mean([ux2(i) for i in np.linspace(0,2*np.pi,1000) ])*2*np.pi\n",
      "  File \"<ipython-input-9-9ae1606e6aab>\", line 6, in <listcomp>\n",
      "    dx2=np.mean([ux2(i) for i in np.linspace(0,2*np.pi,1000) ])*2*np.pi\n",
      "  File \"<ipython-input-9-9ae1606e6aab>\", line 6, in <listcomp>\n",
      "    dx2=np.mean([ux2(i) for i in np.linspace(0,2*np.pi,1000) ])*2*np.pi\n",
      "  File \"<ipython-input-9-9ae1606e6aab>\", line 6, in <listcomp>\n",
      "    dx2=np.mean([ux2(i) for i in np.linspace(0,2*np.pi,1000) ])*2*np.pi\n",
      "  File \"<ipython-input-7-187b37ac84f2>\", line 6, in ux2\n",
      "    Bx_p2,By_p2,Bz_p2=B_prime2(T)\n",
      "  File \"<ipython-input-7-187b37ac84f2>\", line 6, in ux2\n",
      "    Bx_p2,By_p2,Bz_p2=B_prime2(T)\n",
      "  File \"<ipython-input-9-9ae1606e6aab>\", line 6, in <listcomp>\n",
      "    dx2=np.mean([ux2(i) for i in np.linspace(0,2*np.pi,1000) ])*2*np.pi\n",
      "  File \"<ipython-input-7-187b37ac84f2>\", line 5, in ux2\n",
      "    Bx_p,By_p,Bz_p=B_prime(T)\n",
      "  File \"<ipython-input-7-187b37ac84f2>\", line 5, in ux2\n",
      "    Bx_p,By_p,Bz_p=B_prime(T)\n",
      "  File \"<ipython-input-7-187b37ac84f2>\", line 6, in ux2\n",
      "    Bx_p2,By_p2,Bz_p2=B_prime2(T)\n",
      "  File \"<ipython-input-2-f523fbb363b4>\", line 56, in B_prime2\n",
      "    return np.dot(np.array([[1,0,0],[0,cos(a),-sin(a)],[0,sin(a),cos(a)]]),\\\n",
      "  File \"<ipython-input-2-f523fbb363b4>\", line 63, in B_prime2\n",
      "    v7*(np.array([0,1,0])*(-1)*(n+1)*(n+1)*cos((n+1)*w*t) +np.array([1,0,0])*(-1)*(n+1)*(n+1)*sin((n+1)*w*t))*w*w)\n",
      "  File \"<ipython-input-7-187b37ac84f2>\", line 6, in ux2\n",
      "    Bx_p2,By_p2,Bz_p2=B_prime2(T)\n",
      "  File \"<ipython-input-2-f523fbb363b4>\", line 42, in B_prime\n",
      "    v7*(np.array([0,1,0])*(-1)*(n+1)*sin((n+1)*w*t) +np.array([1,0,0])*(n+1)*cos((n+1)*w*t))*w)\n",
      "  File \"<ipython-input-2-f523fbb363b4>\", line 41, in B_prime\n",
      "    v6*(np.array([-1,0,0])*(-1)*(n+1)*sin((n+1)*w*t) +np.array([0,1,0])*(n+1)*cos((n+1)*w*t))*w+\\\n",
      "  File \"<ipython-input-2-f523fbb363b4>\", line 62, in B_prime2\n",
      "    v6*(np.array([-1,0,0])*(-1)*(n+1)*(n+1)*cos((n+1)*w*t) +np.array([0,1,0])*(-1)*(n+1)*(n+1)*sin((n+1)*w*t))*w*w+\\\n",
      "KeyboardInterrupt\n",
      "KeyboardInterrupt\n",
      "KeyboardInterrupt\n",
      "  File \"<ipython-input-2-f523fbb363b4>\", line 62, in B_prime2\n",
      "    v6*(np.array([-1,0,0])*(-1)*(n+1)*(n+1)*cos((n+1)*w*t) +np.array([0,1,0])*(-1)*(n+1)*(n+1)*sin((n+1)*w*t))*w*w+\\\n",
      "KeyboardInterrupt\n",
      "KeyboardInterrupt\n",
      "KeyboardInterrupt\n"
     ]
    },
    {
     "name": "stdout",
     "output_type": "stream",
     "text": [
      "WARNING: `fitness_function` must be a function, not an instancemethod, to work with `multiprocessing`\n"
     ]
    },
    {
     "ename": "KeyboardInterrupt",
     "evalue": "",
     "output_type": "error",
     "traceback": [
      "\u001b[0;31m---------------------------------------------------------------------------\u001b[0m",
      "\u001b[0;31mKeyboardInterrupt\u001b[0m                         Traceback (most recent call last)",
      "\u001b[0;32m<ipython-input-12-3c81641ac21a>\u001b[0m in \u001b[0;36m<module>\u001b[0;34m\u001b[0m\n\u001b[1;32m      6\u001b[0m         \u001b[0;32mwhile\u001b[0m \u001b[0;32mnot\u001b[0m \u001b[0mes\u001b[0m\u001b[0;34m.\u001b[0m\u001b[0mstop\u001b[0m\u001b[0;34m(\u001b[0m\u001b[0;34m)\u001b[0m\u001b[0;34m:\u001b[0m\u001b[0;34m\u001b[0m\u001b[0;34m\u001b[0m\u001b[0m\n\u001b[1;32m      7\u001b[0m             \u001b[0mX\u001b[0m \u001b[0;34m=\u001b[0m \u001b[0mes\u001b[0m\u001b[0;34m.\u001b[0m\u001b[0mask\u001b[0m\u001b[0;34m(\u001b[0m\u001b[0;34m)\u001b[0m\u001b[0;34m\u001b[0m\u001b[0;34m\u001b[0m\u001b[0m\n\u001b[0;32m----> 8\u001b[0;31m             \u001b[0mes\u001b[0m\u001b[0;34m.\u001b[0m\u001b[0mtell\u001b[0m\u001b[0;34m(\u001b[0m\u001b[0mX\u001b[0m\u001b[0;34m,\u001b[0m \u001b[0meval_all\u001b[0m\u001b[0;34m(\u001b[0m\u001b[0mtarget\u001b[0m\u001b[0;34m,\u001b[0m \u001b[0mX\u001b[0m\u001b[0;34m)\u001b[0m\u001b[0;34m)\u001b[0m\u001b[0;34m\u001b[0m\u001b[0;34m\u001b[0m\u001b[0m\n\u001b[0m\u001b[1;32m      9\u001b[0m             \u001b[0;31m# was: es.tell(X, [fitness(x) for x in X])\u001b[0m\u001b[0;34m\u001b[0m\u001b[0;34m\u001b[0m\u001b[0;34m\u001b[0m\u001b[0m\n\u001b[1;32m     10\u001b[0m             \u001b[0mes\u001b[0m\u001b[0;34m.\u001b[0m\u001b[0mdisp\u001b[0m\u001b[0;34m(\u001b[0m\u001b[0;34m)\u001b[0m\u001b[0;34m\u001b[0m\u001b[0;34m\u001b[0m\u001b[0m\n",
      "\u001b[0;32m/anaconda/lib/python3.6/site-packages/cma/fitness_transformations.py\u001b[0m in \u001b[0;36m__call__\u001b[0;34m(self, fitness_function, solutions, args, timeout)\u001b[0m\n\u001b[1;32m     83\u001b[0m                 for x in solutions]\n\u001b[1;32m     84\u001b[0m         \u001b[0;32mtry\u001b[0m\u001b[0;34m:\u001b[0m\u001b[0;34m\u001b[0m\u001b[0;34m\u001b[0m\u001b[0m\n\u001b[0;32m---> 85\u001b[0;31m             \u001b[0;32mreturn\u001b[0m \u001b[0;34m[\u001b[0m\u001b[0mjob\u001b[0m\u001b[0;34m.\u001b[0m\u001b[0mget\u001b[0m\u001b[0;34m(\u001b[0m\u001b[0mtimeout\u001b[0m\u001b[0;34m)\u001b[0m \u001b[0;32mfor\u001b[0m \u001b[0mjob\u001b[0m \u001b[0;32min\u001b[0m \u001b[0mjobs\u001b[0m\u001b[0;34m]\u001b[0m\u001b[0;34m\u001b[0m\u001b[0;34m\u001b[0m\u001b[0m\n\u001b[0m\u001b[1;32m     86\u001b[0m         \u001b[0;32mexcept\u001b[0m\u001b[0;34m:\u001b[0m\u001b[0;34m\u001b[0m\u001b[0;34m\u001b[0m\u001b[0m\n\u001b[1;32m     87\u001b[0m             \u001b[0mprint\u001b[0m\u001b[0;34m(\u001b[0m\u001b[0mwarning_str\u001b[0m\u001b[0;34m)\u001b[0m\u001b[0;34m\u001b[0m\u001b[0;34m\u001b[0m\u001b[0m\n",
      "\u001b[0;32m/anaconda/lib/python3.6/site-packages/cma/fitness_transformations.py\u001b[0m in \u001b[0;36m<listcomp>\u001b[0;34m(.0)\u001b[0m\n\u001b[1;32m     83\u001b[0m                 for x in solutions]\n\u001b[1;32m     84\u001b[0m         \u001b[0;32mtry\u001b[0m\u001b[0;34m:\u001b[0m\u001b[0;34m\u001b[0m\u001b[0;34m\u001b[0m\u001b[0m\n\u001b[0;32m---> 85\u001b[0;31m             \u001b[0;32mreturn\u001b[0m \u001b[0;34m[\u001b[0m\u001b[0mjob\u001b[0m\u001b[0;34m.\u001b[0m\u001b[0mget\u001b[0m\u001b[0;34m(\u001b[0m\u001b[0mtimeout\u001b[0m\u001b[0;34m)\u001b[0m \u001b[0;32mfor\u001b[0m \u001b[0mjob\u001b[0m \u001b[0;32min\u001b[0m \u001b[0mjobs\u001b[0m\u001b[0;34m]\u001b[0m\u001b[0;34m\u001b[0m\u001b[0;34m\u001b[0m\u001b[0m\n\u001b[0m\u001b[1;32m     86\u001b[0m         \u001b[0;32mexcept\u001b[0m\u001b[0;34m:\u001b[0m\u001b[0;34m\u001b[0m\u001b[0;34m\u001b[0m\u001b[0m\n\u001b[1;32m     87\u001b[0m             \u001b[0mprint\u001b[0m\u001b[0;34m(\u001b[0m\u001b[0mwarning_str\u001b[0m\u001b[0;34m)\u001b[0m\u001b[0;34m\u001b[0m\u001b[0;34m\u001b[0m\u001b[0m\n",
      "\u001b[0;32m/anaconda/lib/python3.6/multiprocessing/pool.py\u001b[0m in \u001b[0;36mget\u001b[0;34m(self, timeout)\u001b[0m\n\u001b[1;32m    636\u001b[0m \u001b[0;34m\u001b[0m\u001b[0m\n\u001b[1;32m    637\u001b[0m     \u001b[0;32mdef\u001b[0m \u001b[0mget\u001b[0m\u001b[0;34m(\u001b[0m\u001b[0mself\u001b[0m\u001b[0;34m,\u001b[0m \u001b[0mtimeout\u001b[0m\u001b[0;34m=\u001b[0m\u001b[0;32mNone\u001b[0m\u001b[0;34m)\u001b[0m\u001b[0;34m:\u001b[0m\u001b[0;34m\u001b[0m\u001b[0;34m\u001b[0m\u001b[0m\n\u001b[0;32m--> 638\u001b[0;31m         \u001b[0mself\u001b[0m\u001b[0;34m.\u001b[0m\u001b[0mwait\u001b[0m\u001b[0;34m(\u001b[0m\u001b[0mtimeout\u001b[0m\u001b[0;34m)\u001b[0m\u001b[0;34m\u001b[0m\u001b[0;34m\u001b[0m\u001b[0m\n\u001b[0m\u001b[1;32m    639\u001b[0m         \u001b[0;32mif\u001b[0m \u001b[0;32mnot\u001b[0m \u001b[0mself\u001b[0m\u001b[0;34m.\u001b[0m\u001b[0mready\u001b[0m\u001b[0;34m(\u001b[0m\u001b[0;34m)\u001b[0m\u001b[0;34m:\u001b[0m\u001b[0;34m\u001b[0m\u001b[0;34m\u001b[0m\u001b[0m\n\u001b[1;32m    640\u001b[0m             \u001b[0;32mraise\u001b[0m \u001b[0mTimeoutError\u001b[0m\u001b[0;34m\u001b[0m\u001b[0;34m\u001b[0m\u001b[0m\n",
      "\u001b[0;32m/anaconda/lib/python3.6/multiprocessing/pool.py\u001b[0m in \u001b[0;36mwait\u001b[0;34m(self, timeout)\u001b[0m\n\u001b[1;32m    633\u001b[0m \u001b[0;34m\u001b[0m\u001b[0m\n\u001b[1;32m    634\u001b[0m     \u001b[0;32mdef\u001b[0m \u001b[0mwait\u001b[0m\u001b[0;34m(\u001b[0m\u001b[0mself\u001b[0m\u001b[0;34m,\u001b[0m \u001b[0mtimeout\u001b[0m\u001b[0;34m=\u001b[0m\u001b[0;32mNone\u001b[0m\u001b[0;34m)\u001b[0m\u001b[0;34m:\u001b[0m\u001b[0;34m\u001b[0m\u001b[0;34m\u001b[0m\u001b[0m\n\u001b[0;32m--> 635\u001b[0;31m         \u001b[0mself\u001b[0m\u001b[0;34m.\u001b[0m\u001b[0m_event\u001b[0m\u001b[0;34m.\u001b[0m\u001b[0mwait\u001b[0m\u001b[0;34m(\u001b[0m\u001b[0mtimeout\u001b[0m\u001b[0;34m)\u001b[0m\u001b[0;34m\u001b[0m\u001b[0;34m\u001b[0m\u001b[0m\n\u001b[0m\u001b[1;32m    636\u001b[0m \u001b[0;34m\u001b[0m\u001b[0m\n\u001b[1;32m    637\u001b[0m     \u001b[0;32mdef\u001b[0m \u001b[0mget\u001b[0m\u001b[0;34m(\u001b[0m\u001b[0mself\u001b[0m\u001b[0;34m,\u001b[0m \u001b[0mtimeout\u001b[0m\u001b[0;34m=\u001b[0m\u001b[0;32mNone\u001b[0m\u001b[0;34m)\u001b[0m\u001b[0;34m:\u001b[0m\u001b[0;34m\u001b[0m\u001b[0;34m\u001b[0m\u001b[0m\n",
      "\u001b[0;32m/anaconda/lib/python3.6/threading.py\u001b[0m in \u001b[0;36mwait\u001b[0;34m(self, timeout)\u001b[0m\n\u001b[1;32m    549\u001b[0m             \u001b[0msignaled\u001b[0m \u001b[0;34m=\u001b[0m \u001b[0mself\u001b[0m\u001b[0;34m.\u001b[0m\u001b[0m_flag\u001b[0m\u001b[0;34m\u001b[0m\u001b[0;34m\u001b[0m\u001b[0m\n\u001b[1;32m    550\u001b[0m             \u001b[0;32mif\u001b[0m \u001b[0;32mnot\u001b[0m \u001b[0msignaled\u001b[0m\u001b[0;34m:\u001b[0m\u001b[0;34m\u001b[0m\u001b[0;34m\u001b[0m\u001b[0m\n\u001b[0;32m--> 551\u001b[0;31m                 \u001b[0msignaled\u001b[0m \u001b[0;34m=\u001b[0m \u001b[0mself\u001b[0m\u001b[0;34m.\u001b[0m\u001b[0m_cond\u001b[0m\u001b[0;34m.\u001b[0m\u001b[0mwait\u001b[0m\u001b[0;34m(\u001b[0m\u001b[0mtimeout\u001b[0m\u001b[0;34m)\u001b[0m\u001b[0;34m\u001b[0m\u001b[0;34m\u001b[0m\u001b[0m\n\u001b[0m\u001b[1;32m    552\u001b[0m             \u001b[0;32mreturn\u001b[0m \u001b[0msignaled\u001b[0m\u001b[0;34m\u001b[0m\u001b[0;34m\u001b[0m\u001b[0m\n\u001b[1;32m    553\u001b[0m \u001b[0;34m\u001b[0m\u001b[0m\n",
      "\u001b[0;32m/anaconda/lib/python3.6/threading.py\u001b[0m in \u001b[0;36mwait\u001b[0;34m(self, timeout)\u001b[0m\n\u001b[1;32m    293\u001b[0m         \u001b[0;32mtry\u001b[0m\u001b[0;34m:\u001b[0m    \u001b[0;31m# restore state no matter what (e.g., KeyboardInterrupt)\u001b[0m\u001b[0;34m\u001b[0m\u001b[0;34m\u001b[0m\u001b[0m\n\u001b[1;32m    294\u001b[0m             \u001b[0;32mif\u001b[0m \u001b[0mtimeout\u001b[0m \u001b[0;32mis\u001b[0m \u001b[0;32mNone\u001b[0m\u001b[0;34m:\u001b[0m\u001b[0;34m\u001b[0m\u001b[0;34m\u001b[0m\u001b[0m\n\u001b[0;32m--> 295\u001b[0;31m                 \u001b[0mwaiter\u001b[0m\u001b[0;34m.\u001b[0m\u001b[0macquire\u001b[0m\u001b[0;34m(\u001b[0m\u001b[0;34m)\u001b[0m\u001b[0;34m\u001b[0m\u001b[0;34m\u001b[0m\u001b[0m\n\u001b[0m\u001b[1;32m    296\u001b[0m                 \u001b[0mgotit\u001b[0m \u001b[0;34m=\u001b[0m \u001b[0;32mTrue\u001b[0m\u001b[0;34m\u001b[0m\u001b[0;34m\u001b[0m\u001b[0m\n\u001b[1;32m    297\u001b[0m             \u001b[0;32melse\u001b[0m\u001b[0;34m:\u001b[0m\u001b[0;34m\u001b[0m\u001b[0;34m\u001b[0m\u001b[0m\n",
      "\u001b[0;31mKeyboardInterrupt\u001b[0m: "
     ]
    }
   ],
   "source": [
    "for i in range(20):\n",
    "\n",
    "    with cma.fitness_transformations.EvalParallel(6) as eval_all:\n",
    "        es = cma.CMAEvolutionStrategy(np.random.uniform(low=-1, high=1, size=(7,)), 0.5,{'maxfevals':500,'bounds': [[-1,-1,-1,-1,-1,-1,-1],[1,1,1,1,1,1,1]],\\\n",
    "                                                                                      'verb_disp': 200  ,'verb_log': 200  } )\n",
    "        while not es.stop():\n",
    "            X = es.ask()\n",
    "            es.tell(X, eval_all(target, X))  \n",
    "            # was: es.tell(X, [fitness(x) for x in X])\n",
    "            es.disp()\n",
    "    np.savetxt(\"cma_es_5fold_parrelel_\"+str(i)+\".csv\", es.result.xbest, delimiter=\",\")\n"
   ]
  },
  {
   "cell_type": "code",
   "execution_count": 145,
   "metadata": {
    "scrolled": false
   },
   "outputs": [
    {
     "name": "stdout",
     "output_type": "stream",
     "text": [
      "(4_w,9)-aCMA-ES (mu_w=2.8,w_1=49%) in dimension 7 (seed=433444, Tue Jan 28 17:00:18 2020)\n",
      "Iterat #Fevals   function value  axis ratio  sigma  min&max std  t[m:s]\n",
      "    1      9 -8.122451485466529e-04 1.0e+00 4.97e-01  5e-01  5e-01 0:06.8\n",
      "    2     18 -2.042020257706484e-03 1.3e+00 5.57e-01  5e-01  7e-01 0:13.4\n",
      "    3     27 -9.687796138269707e-03 1.6e+00 5.67e-01  5e-01  7e-01 0:20.0\n",
      "    4     36 -3.691764464627389e-02 1.7e+00 5.85e-01  5e-01  7e-01 0:26.5\n",
      "    5     45 -1.039384226903801e-02 1.7e+00 5.55e-01  5e-01  6e-01 0:33.2\n",
      "    6     54 -2.047623335980596e-02 1.7e+00 5.32e-01  4e-01  6e-01 0:39.8\n",
      "    7     63 -3.637862281075650e-02 1.8e+00 5.45e-01  4e-01  6e-01 0:46.5\n",
      "    9     81 -2.371777874505723e-02 1.9e+00 5.66e-01  4e-01  7e-01 0:59.7\n",
      "   11     99 -1.320196386847876e-02 2.1e+00 5.68e-01  4e-01  6e-01 1:12.9\n",
      "   13    117 -3.136928526687792e-03 2.1e+00 5.67e-01  4e-01  6e-01 1:26.0\n",
      "   15    135 -6.139557091752935e-02 2.1e+00 5.21e-01  4e-01  6e-01 1:39.2\n",
      "   17    153 -1.108867750703086e-01 2.1e+00 5.33e-01  4e-01  6e-01 1:53.4\n",
      "   19    171 -5.962945417902997e-03 2.0e+00 5.88e-01  4e-01  7e-01 2:07.0\n",
      "   21    189 -1.212998728683067e-01 2.1e+00 4.84e-01  3e-01  5e-01 2:20.2\n",
      "   24    216 -6.002804550123835e-02 2.3e+00 3.43e-01  2e-01  4e-01 2:40.2\n",
      "   27    243 -1.786395570899784e-01 2.5e+00 2.33e-01  1e-01  3e-01 2:59.9\n",
      "   30    270 -3.941408336766679e-01 2.4e+00 1.59e-01  9e-02  2e-01 3:19.7\n",
      "   33    297 -3.962398057178083e-01 2.4e+00 1.53e-01  9e-02  2e-01 3:39.5\n",
      "   36    324 -3.912854262008779e+00 2.3e+00 1.47e-01  8e-02  1e-01 4:00.3\n",
      "   39    351 -2.633125324867341e-01 2.4e+00 1.08e-01  6e-02  1e-01 4:22.8\n",
      "   42    378 -2.369548994727471e-01 2.7e+00 1.19e-01  6e-02  1e-01 4:43.1\n",
      "   46    414 -1.615096805029076e+01 2.7e+00 1.07e-01  5e-02  9e-02 5:10.3\n",
      "   50    450 -6.521735625913317e-01 2.9e+00 1.04e-01  5e-02  9e-02 5:37.5\n",
      "   54    486 -1.200998439153992e+00 3.2e+00 9.17e-02  4e-02  8e-02 6:05.2\n",
      "   56    504 -2.705482116673480e+00 3.6e+00 8.69e-02  4e-02  8e-02 6:18.9\n",
      "termination on maxfevals=500 (Tue Jan 28 17:06:38 2020)\n",
      "final/bestever f-value = -3.920540e-01 -1.615097e+01\n",
      "incumbent solution: [0.05589326682006224, 0.9987588970928033, 0.1204760793750459, -0.20649313942108313, 0.9118773431104386, 0.9851046786612431, 0.3161349587466691]\n",
      "std deviation: [0.05084437813525426, 0.046760020943435766, 0.050792471218344126, 0.052515134758748666, 0.036651004353290904, 0.08360705468096395, 0.05540656640277185]\n",
      "379.7810091972351\n"
     ]
    }
   ],
   "source": [
    "start = time.time()\n",
    "v=np.random.uniform(low=-1, high=1, size=(7,))\n",
    "res_2 = cma.fmin(target,\\\n",
    "v,\\\n",
    "0.5, options = {'maxfevals':500,\\\n",
    "'bounds': [[-1,-1,-1,-1,-1,-1,-1],[1,1,1,1,1,1,1]],'verb_disp': 100  ,'verb_log': 100  }  )  #doctest: +ELLIPSIS\n",
    "\n",
    "end = time.time()\n",
    "print(end - start)"
   ]
  },
  {
   "cell_type": "code",
   "execution_count": 34,
   "metadata": {},
   "outputs": [],
   "source": [
    "np.savetxt(\"cma_es_0128_01.csv\", v, delimiter=\",\")"
   ]
  },
  {
   "cell_type": "code",
   "execution_count": 23,
   "metadata": {},
   "outputs": [
    {
     "name": "stdout",
     "output_type": "stream",
     "text": [
      "665.5169169902802\n"
     ]
    }
   ],
   "source": [
    "start = time.time()\n",
    "for i in range(1):\n",
    "    res = gp_minimize(target,                  # the function to minimize\n",
    "                      [(-1.0, 1.0),(-1.0,1.0),(-1.0,1.0),(-1.0,1.0),(-1.0,1.0),(-1.0,1.0),(-1.0,1.0)],      # the bounds on each dimension of x\n",
    "                      acq_func=\"EI\",      # the acquisition function\n",
    "                      n_calls=400,         # the number of evaluations of f \n",
    "                      n_random_starts=7,  # the number of random initialization points\n",
    "                      random_state=np.random.randint(200))   # the random seed\n",
    "    np.savetxt(\"gp_parrelel_\"+str(i)+\".csv\",res.x, delimiter=\",\")\n",
    "\n",
    "\n",
    "    \n",
    "\n",
    "end = time.time()\n",
    "print(end - start)"
   ]
  },
  {
   "cell_type": "code",
   "execution_count": 25,
   "metadata": {},
   "outputs": [
    {
     "data": {
      "text/plain": [
       "[0.9090588865113562,\n",
       " 0.9817090927031067,\n",
       " -0.9268314415055119,\n",
       " -0.954706195780398,\n",
       " 0.9599113583378105,\n",
       " 0.3131862937441152,\n",
       " 0.9803026779646953]"
      ]
     },
     "execution_count": 25,
     "metadata": {},
     "output_type": "execute_result"
    }
   ],
   "source": [
    "res.x"
   ]
  },
  {
   "cell_type": "markdown",
   "metadata": {},
   "source": [
    "# parrellel computing CMA-gp"
   ]
  },
  {
   "cell_type": "code",
   "execution_count": 30,
   "metadata": {},
   "outputs": [],
   "source": [
    "from skopt import Optimizer\n",
    "from skopt.space import Real\n",
    "from joblib import Parallel, delayed\n",
    "# example objective taken from skopt\n",
    "from skopt.benchmarks import branin"
   ]
  },
  {
   "cell_type": "code",
   "execution_count": 40,
   "metadata": {},
   "outputs": [
    {
     "name": "stdout",
     "output_type": "stream",
     "text": [
      "29.24449110031128\n",
      "27.702905548512433\n"
     ]
    }
   ],
   "source": [
    "\n",
    "\n",
    "optimizer = Optimizer(\n",
    "    dimensions=[Real(-1.0, 1.0), Real(-1, 1),Real(-1.0, 1.0), Real(-1, 1),Real(-1.0, 1.0), Real(-1, 1),Real(-1, 1)],\n",
    "    random_state=np.random.randint(200),\n",
    "    base_estimator='gp',\n",
    "    acq_func=\"EI\"\n",
    ")\n",
    "\n",
    "start = time.time()\n",
    "for i in range(10): \n",
    "    x = optimizer.ask(n_points=6)  # x is a list of n_points points    \n",
    "    y = Parallel(n_jobs=6)(delayed(branin)(v) for v in x)  # evaluate points in parallel\n",
    "    optimizer.tell(x, y)\n",
    "end = time.time()\n",
    "print(end - start)\n",
    "\n",
    "# takes ~ 20 sec to get here\n",
    "print(min(optimizer.yi))  # print the best objective found \n"
   ]
  },
  {
   "cell_type": "code",
   "execution_count": 39,
   "metadata": {},
   "outputs": [
    {
     "name": "stderr",
     "output_type": "stream",
     "text": [
      "/anaconda/lib/python3.6/site-packages/scipy/integrate/quadrature.py:802: AccuracyWarning: divmax (10) exceeded. Latest difference = 1.794379e-04\n",
      "  AccuracyWarning)\n"
     ]
    },
    {
     "data": {
      "text/plain": [
       "-0.06761093995511877"
      ]
     },
     "execution_count": 39,
     "metadata": {},
     "output_type": "execute_result"
    }
   ],
   "source": [
    "integrate.romberg(ux1, 0, 2*np.pi)"
   ]
  },
  {
   "cell_type": "code",
   "execution_count": 107,
   "metadata": {},
   "outputs": [
    {
     "data": {
      "text/plain": [
       "-1.5407144415628522"
      ]
     },
     "execution_count": 107,
     "metadata": {},
     "output_type": "execute_result"
    }
   ],
   "source": [
    "target(v1[69])"
   ]
  },
  {
   "cell_type": "code",
   "execution_count": 108,
   "metadata": {},
   "outputs": [
    {
     "data": {
      "text/plain": [
       "array([-0.0329524 , -0.98833797, -0.02524205,  0.39393939, -0.96940308,\n",
       "       -0.94494608, -0.42238877])"
      ]
     },
     "execution_count": 108,
     "metadata": {},
     "output_type": "execute_result"
    }
   ],
   "source": [
    "v1[69]"
   ]
  },
  {
   "cell_type": "code",
   "execution_count": 119,
   "metadata": {},
   "outputs": [],
   "source": [
    "res_2=np.array([-0.0329524 , -0.98833797, -0.02524205,  0.40073567, -0.96940308,\n",
    "       -0.94494608, -0.42238877])"
   ]
  },
  {
   "cell_type": "code",
   "execution_count": 120,
   "metadata": {},
   "outputs": [],
   "source": [
    "res_2[6]=0"
   ]
  },
  {
   "cell_type": "code",
   "execution_count": 121,
   "metadata": {},
   "outputs": [],
   "source": [
    "v1=[res_2+np.array([0,0,0,0,0,i,0]) for i in np.linspace(-1,1,100)]"
   ]
  },
  {
   "cell_type": "code",
   "execution_count": 122,
   "metadata": {},
   "outputs": [
    {
     "data": {
      "text/plain": [
       "[<matplotlib.lines.Line2D at 0x12d7e4198>]"
      ]
     },
     "execution_count": 122,
     "metadata": {},
     "output_type": "execute_result"
    },
    {
     "data": {
      "image/png": "[encoded data removed]",
      "text/plain": [
       "<Figure size 432x288 with 1 Axes>"
      ]
     },
     "metadata": {
      "needs_background": "light"
     },
     "output_type": "display_data"
    }
   ],
   "source": [
    "plt.plot([target(v1[i]) for i in range(100)] )"
   ]
  },
  {
   "cell_type": "code",
   "execution_count": 109,
   "metadata": {},
   "outputs": [],
   "source": [
    "np.savetxt(\"gp_7.csv\", v, delimiter=\",\")"
   ]
  },
  {
   "cell_type": "code",
   "execution_count": 41,
   "metadata": {},
   "outputs": [
    {
     "data": {
      "text/plain": [
       "<matplotlib.axes._subplots.AxesSubplot at 0x10e66a0b8>"
      ]
     },
     "execution_count": 41,
     "metadata": {},
     "output_type": "execute_result"
    },
    {
     "data": {
      "image/png": "[encoded data removed]",
      "text/plain": [
       "<Figure size 432x288 with 1 Axes>"
      ]
     },
     "metadata": {
      "needs_background": "light"
     },
     "output_type": "display_data"
    }
   ],
   "source": [
    "from skopt.plots import plot_convergence\n",
    "\n",
    "plot_convergence(res)"
   ]
  },
  {
   "cell_type": "code",
   "execution_count": null,
   "metadata": {},
   "outputs": [],
   "source": []
  },
  {
   "cell_type": "code",
   "execution_count": 39,
   "metadata": {},
   "outputs": [],
   "source": [
    "data=pd.read_csv('fit.dat',header=None, sep=' ')"
   ]
  },
  {
   "cell_type": "code",
   "execution_count": 54,
   "metadata": {},
   "outputs": [
    {
     "data": {
      "text/plain": [
       "Text(0, 0.5, 'f(x)')"
      ]
     },
     "execution_count": 54,
     "metadata": {},
     "output_type": "execute_result"
    },
    {
     "data": {
      "image/png": "[encoded data removed]",
      "text/plain": [
       "<Figure size 432x288 with 1 Axes>"
      ]
     },
     "metadata": {
      "needs_background": "light"
     },
     "output_type": "display_data"
    }
   ],
   "source": [
    "plt.plot(np.arange(56),data[data.columns[6]],c=\"k\",linewidth=3)\n",
    "plt.xlabel(\"number of generation\")\n",
    "plt.ylabel(\"f(x)\")\n"
   ]
  },
  {
   "cell_type": "code",
   "execution_count": null,
   "metadata": {},
   "outputs": [],
   "source": []
  }
 ],
 "metadata": {
  "kernelspec": {
   "display_name": "Python 3",
   "language": "python",
   "name": "python3"
  },
  "language_info": {
   "codemirror_mode": {
    "name": "ipython",
    "version": 3
   },
   "file_extension": ".py",
   "mimetype": "text/x-python",
   "name": "python",
   "nbconvert_exporter": "python",
   "pygments_lexer": "ipython3",
   "version": "3.6.10"
  }
 },
 "nbformat": 4,
 "nbformat_minor": 2
}
