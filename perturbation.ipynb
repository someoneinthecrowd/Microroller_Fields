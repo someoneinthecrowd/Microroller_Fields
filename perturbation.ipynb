{
 "cells": [
  {
   "cell_type": "code",
   "execution_count": 145,
   "metadata": {},
   "outputs": [],
   "source": [
    "import numpy as np\n",
    "import numpy.linalg as la\n",
    "import matplotlib.pyplot as plt \n",
    "from numpy import cos\n",
    "from numpy import sin"
   ]
  },
  {
   "cell_type": "code",
   "execution_count": 189,
   "metadata": {},
   "outputs": [
    {
     "data": {
      "text/plain": [
       "array([[ 1.        ,  0.        ,  0.        ],\n",
       "       [ 0.        ,  0.9961947 , -0.08715574],\n",
       "       [ 0.        ,  0.08715574,  0.9961947 ]])"
      ]
     },
     "execution_count": 189,
     "metadata": {},
     "output_type": "execute_result"
    }
   ],
   "source": [
    "\n",
    "np.array([[1,0,0],[0,cos(a),-sin(a)],[0,sin(a),cos(a)]])"
   ]
  },
  {
   "cell_type": "code",
   "execution_count": 190,
   "metadata": {},
   "outputs": [],
   "source": [
    "## whole field\n",
    "def B(t):\n",
    "    global v\n",
    "    global n\n",
    "    global w\n",
    "    v1=v[0]\n",
    "    v2=v[1]\n",
    "    v3=v[2]\n",
    "    v4=v[3]\n",
    "    v5=v[4]\n",
    "    v6=v[5]\n",
    "    v7=v[6]\n",
    "    return np.dot(np.array([[1,0,0],[0,cos(a),-sin(a)],[0,sin(a),cos(a)]]),\\\n",
    "    v1*(np.array([-1,0,0])*cos(w*t) +np.array([0,1,0])*sin(w*t) )+\\\n",
    "    v2*(np.array([1,0,0])*cos((n-1)*w*t) +np.array([0,1,0])*sin((n-1)*w*t))+\\\n",
    "    v3*(np.array([0,-1,0])*cos((n-1)*w*t) +np.array([1,0,0])*sin((n-1)*w*t))+\\\n",
    "    v4*(np.array([0,0,1])*sin(n*w*t))+\\\n",
    "    v5*(np.array([0,0,1])*cos(n*w*t))+\\\n",
    "    v6*(np.array([-1,0,0])*cos((n+1)*w*t) +np.array([0,1,0])*sin((n+1)*w*t))+\\\n",
    "    v7*(np.array([0,1,0])*cos((n+1)*w*t) +np.array([1,0,0])*sin((n+1)*w*t)))\n",
    "    \n",
    "def B_prime(t):\n",
    "    global v\n",
    "    global n\n",
    "    global w\n",
    "    v1=v[0]\n",
    "    v2=v[1]\n",
    "    v3=v[2]\n",
    "    v4=v[3]\n",
    "    v5=v[4]\n",
    "    v6=v[5]\n",
    "    v7=v[6]\n",
    "    return np.dot(np.array([[1,0,0],[0,cos(a),-sin(a)],[0,sin(a),cos(a)]]),\\\n",
    "    v1*(np.array([-1,0,0])*(-1)*sin(w*t) +np.array([0,1,0])*cos(w*t) )*w+\\\n",
    "    v2*(np.array([1,0,0])*(-1)*(n-1)*sin((n-1)*w*t) +np.array([0,1,0])*(n-1)*cos((n-1)*w*t))*w+\\\n",
    "    v3*(np.array([0,-1,0])*(-1)*(n-1)*sin((n-1)*w*t) +np.array([1,0,0])*(n-1)*cos((n-1)*w*t))*w+\\\n",
    "    v4*(np.array([0,0,1])*n*cos(n*w*t))*w+\\\n",
    "    v5*(np.array([0,0,1])*(-1)*n*sin(n*w*t))*w+\\\n",
    "    v6*(np.array([-1,0,0])*(-1)*(n+1)*sin((n+1)*w*t) +np.array([0,1,0])*(n+1)*cos((n+1)*w*t))*w+\\\n",
    "    v7*(np.array([0,1,0])*(-1)*(n+1)*sin((n+1)*w*t) +np.array([1,0,0])*(n+1)*cos((n+1)*w*t))*w)\n",
    "## each direction \n",
    "def Bx(t):\n",
    "    global v\n",
    "    global n\n",
    "    global w\n",
    "    return  B(t)[0]\n",
    "def By(t):\n",
    "    global v\n",
    "    global n\n",
    "    global w\n",
    "    return  B(t)[1]\n",
    "def Bz(t):\n",
    "    global v\n",
    "    global n\n",
    "    global w\n",
    "    return  B(t)[2]\n",
    "\n",
    "\n",
    "def Bx_p(t):\n",
    "    global v\n",
    "    global n\n",
    "    global w\n",
    "    return  B_prime(t)[0]\n",
    "def By_p(t):\n",
    "    global v\n",
    "    global n\n",
    "    global w\n",
    "    return   B_prime(t)[1]\n",
    "def Bz_p(t):\n",
    "    global v\n",
    "    global n\n",
    "    global w\n",
    "    return   B_prime(t)[2]\n",
    "\n",
    "\n",
    "\n",
    "\n",
    "    "
   ]
  },
  {
   "cell_type": "code",
   "execution_count": 191,
   "metadata": {},
   "outputs": [],
   "source": [
    "lam=1.8686003910229945\n",
    "v=np.random.uniform(low=-1, high=1, size=(7,))\n",
    "v=[1,-1,0,0.5,1,-0.5,-1]\n",
    "n=8\n",
    "w=1\n",
    "Y=0.10772427142152266\n",
    "a=5/180*np.pi\n"
   ]
  },
  {
   "cell_type": "code",
   "execution_count": 192,
   "metadata": {},
   "outputs": [],
   "source": [
    "## ux1,uy1,\n",
    "def ux1(T):\n",
    "    global lam\n",
    "    return ( Bz(T)/(lam*(Bx(T)**2+By(T)**2)+Bz(T)**2)*((lam*Bx(T)**2+By(T)**2+Bz(T)**2)*Bx_p(T)+(-1+lam)*Bx(T)*By(T)*By_p(T))- Bx(T)*Bz_p(T)  )\\\n",
    "    /(Bx(T)**2+By(T)**2+Bz(T)**2)\n",
    "def uy1(T):\n",
    "    return ( Bz(T)/(lam*(Bx(T)**2+By(T)**2)+Bz(T)**2)*((Bx(T)**2+lam*By(T)**2+Bz(T)**2)*By_p(T)+(-1+lam)*Bx(T)*By(T)*Bx_p(T))-By(T)*Bz_p(T) )\\\n",
    "    /(Bx(T)**2+By(T)**2+Bz(T)**2)"
   ]
  },
  {
   "cell_type": "code",
   "execution_count": null,
   "metadata": {},
   "outputs": [],
   "source": [
    "## ux2,uy2,\n",
    "def ux2(T):\n",
    "    global lam\n",
    "    return ( Bz(T)/(lam*(Bx(T)**2+By(T)**2)+Bz(T)**2)*((lam*Bx(T)**2+By(T)**2+Bz(T)**2)*Bx_p(T)+(-1+lam)*Bx(T)*By(T)*By_p(T))- Bx(T)*Bz_p(T)  )\\\n",
    "    /(Bx(T)**2+By(T)**2+Bz(T)**2)\n",
    "def uy2(T):\n",
    "    return ( Bz(T)/(lam*(Bx(T)**2+By(T)**2)+Bz(T)**2)*((Bx(T)**2+lam*By(T)**2+Bz(T)**2)*By_p(T)+(-1+lam)*Bx(T)*By(T)*Bx_p(T))-By(T)*Bz_p(T) )\\\n",
    "    /(Bx(T)**2+By(T)**2+Bz(T)**2)"
   ]
  },
  {
   "cell_type": "code",
   "execution_count": null,
   "metadata": {},
   "outputs": [],
   "source": [
    "((Bx[T] Bz[\n",
    "      T] (Bx[T]^2 + By[T]^2 + Bz[T]^2)^2 (By[T] Derivative[1][Bx][T] -\n",
    "        Bx[T] Derivative[1][By][T])^2)/(\\[Lambda] Bx[\n",
    "        T]^2 + \\[Lambda] By[T]^2 + \n",
    "      Bz[T]^2)^2 + (2 By[T] Bz[\n",
    "        T]^2 (By[T] Derivative[1][Bx][T] - \n",
    "         Bx[T] Derivative[1][By][T]) (-Bx[T] Bz[T] Derivative[1][Bx][\n",
    "           T] + Bx[T]^2 Derivative[1][Bz][T] + \n",
    "         By[T] (-Bz[T] Derivative[1][By][T] + \n",
    "            By[T] Derivative[1][Bz][T])))/(\\[Lambda] Bx[\n",
    "         T]^2 + \\[Lambda] By[T]^2 + \n",
    "       Bz[T]^2) + (2 By[T] Bz[\n",
    "        T] (Bx[T]^2 + By[T]^2 + \n",
    "         Bz[T]^2) (-2 (Bx[T]^2 + By[T]^2 + \n",
    "            Bz[T]^2) (\\[Lambda] Bx[T]^2 + \\[Lambda] By[T]^2 + \n",
    "            Bz[T]^2) (-By[T] Derivative[1][Bx][T] + \n",
    "            Bx[T] Derivative[1][By][T]) (Bx[T] Derivative[1][Bx][T] + \n",
    "            By[T] Derivative[1][By][T]) + (Bx[T]^2 + \n",
    "            By[T]^2) (\\[Lambda] Bx[T]^2 + \\[Lambda] By[T]^2 + \n",
    "            Bz[T]^2) (-By[T] Derivative[1][Bx][T] + \n",
    "            Bx[T] Derivative[1][By][T]) (Bx[T] Derivative[1][Bx][T] + \n",
    "            By[T] Derivative[1][By][T] + \n",
    "            Bz[T] Derivative[1][Bz][T]) - \n",
    "         2 (Bx[T]^2 + By[T]^2) (Bx[T]^2 + By[T]^2 + \n",
    "            Bz[T]^2) (-By[T] Derivative[1][Bx][T] + \n",
    "            Bx[T] Derivative[1][By][T]) (\\[Lambda] Bx[T] Derivative[\n",
    "              1][Bx][T] + \\[Lambda] By[T] Derivative[1][By][T] + \n",
    "            Bz[T] Derivative[1][Bz][T]) + (Bz[\n",
    "             T] (-(-2 + \\[Lambda]) Bx[T]^2 - (-2 + \\[Lambda]) By[\n",
    "                T]^2 + Bz[\n",
    "               T]^2) (\\[Lambda] Bx[T]^2 + \\[Lambda] By[T]^2 + \n",
    "              Bz[T]^2) (-By[T] Derivative[1][Bx][T] + \n",
    "              Bx[T] Derivative[1][By][T]) (Bx[T] Bz[T] Derivative[1][\n",
    "                Bx][T] - Bx[T]^2 Derivative[1][Bz][T] + \n",
    "              By[T] (Bz[T] Derivative[1][By][T] - \n",
    "                 By[T] Derivative[1][Bz][T])))/(Bx[T]^2 + By[T]^2 + \n",
    "            Bz[T]^2) + (Bx[T]^2 + By[T]^2) (Bx[T]^2 + By[T]^2 + \n",
    "            Bz[T]^2) (\\[Lambda] Bx[T]^2 + \\[Lambda] By[T]^2 + \n",
    "            Bz[T]^2) (-By[T] (Bx^\\[Prime]\\[Prime])[T] + \n",
    "            Bx[T] (By^\\[Prime]\\[Prime])[T])))/((\\[Lambda] Bx[\n",
    "           T]^2 + \\[Lambda] By[T]^2 + \n",
    "         Bz[T]^2)^2 (\\[Lambda] (Bx[T]^2 + By[T]^2) + Bz[T]^2)) + \n",
    "    Bx[T] ((Bz[\n",
    "         T] (Bx[T]^2 + By[T]^2 + \n",
    "          Bz[T]^2)^2 (By[T] Derivative[1][Bx][T] - \n",
    "          Bx[T] Derivative[1][By][T])^2)/(\\[Lambda] Bx[\n",
    "           T]^2 + \\[Lambda] By[T]^2 + Bz[T]^2)^2 - \n",
    "       2 (Bx[T] Derivative[1][Bx][T] + \n",
    "          By[T] Derivative[1][By][T]) (-Bx[T] Bz[T] Derivative[1][Bx][\n",
    "            T] + Bx[T]^2 Derivative[1][Bz][T] + \n",
    "          By[T] (-Bz[T] Derivative[1][By][T] + \n",
    "             By[T] Derivative[1][Bz][T])) - (6 (Bx[T]^2 + \n",
    "            By[T]^2) (Bx[T] Derivative[1][Bx][T] + \n",
    "            By[T] Derivative[1][By][T] + \n",
    "            Bz[T] Derivative[1][Bz][T]) (-Bx[T] Bz[T] Derivative[1][\n",
    "              Bx][T] + Bx[T]^2 Derivative[1][Bz][T] + \n",
    "            By[T] (-Bz[T] Derivative[1][By][T] + \n",
    "               By[T] Derivative[1][Bz][T])))/(Bx[T]^2 + By[T]^2 + \n",
    "          Bz[T]^2) + \n",
    "       2 (Bx[T]^2 + \n",
    "          By[T]^2) (Bx[T] Derivative[1][Bx][T] Derivative[1][Bz][T] - \n",
    "          Bz[T] (Derivative[1][Bx][T]^2 + Derivative[1][By][T]^2 + \n",
    "             Bx[T] (Bx^\\[Prime]\\[Prime])[T] + \n",
    "             By[T] (By^\\[Prime]\\[Prime])[T]) + \n",
    "          Bx[T]^2 (Bz^\\[Prime]\\[Prime])[T] + \n",
    "          By[T] (Derivative[1][By][T] Derivative[1][Bz][T] + \n",
    "             By[T] (Bz^\\[Prime]\\[Prime])[T]))))/(2 (Bx[T]^2 + \n",
    "      By[T]^2)^2 (Bx[T]^2 + By[T]^2 + Bz[T]^2)^(3/2));"
   ]
  },
  {
   "cell_type": "code",
   "execution_count": 193,
   "metadata": {},
   "outputs": [
    {
     "data": {
      "text/plain": [
       "-1.0329901240343606"
      ]
     },
     "execution_count": 193,
     "metadata": {},
     "output_type": "execute_result"
    }
   ],
   "source": [
    "ux1(2)"
   ]
  },
  {
   "cell_type": "code",
   "execution_count": 198,
   "metadata": {},
   "outputs": [
    {
     "data": {
      "text/plain": [
       "[<matplotlib.lines.Line2D at 0x11a0214e0>]"
      ]
     },
     "execution_count": 198,
     "metadata": {},
     "output_type": "execute_result"
    },
    {
     "data": {
      "image/png": "[encoded data removed]",
      "text/plain": [
       "<Figure size 432x288 with 1 Axes>"
      ]
     },
     "metadata": {
      "needs_background": "light"
     },
     "output_type": "display_data"
    }
   ],
   "source": [
    "plt.plot([i for i in np.linspace(0, 2*3.1415926, num=3000)],[uy1(i) for i in np.linspace(0, 2*3.1415926, num=3000)] )"
   ]
  },
  {
   "cell_type": "code",
   "execution_count": 176,
   "metadata": {},
   "outputs": [
    {
     "data": {
      "text/plain": [
       "[0.0,\n",
       " 0.3,\n",
       " 0.6,\n",
       " 0.8999999999999999,\n",
       " 1.2,\n",
       " 1.5,\n",
       " 1.7999999999999998,\n",
       " 2.1,\n",
       " 2.4,\n",
       " 2.6999999999999997,\n",
       " 3.0]"
      ]
     },
     "execution_count": 176,
     "metadata": {},
     "output_type": "execute_result"
    }
   ],
   "source": [
    "[i for i in np.linspace(0, 3, num=11)]"
   ]
  },
  {
   "cell_type": "code",
   "execution_count": 179,
   "metadata": {},
   "outputs": [
    {
     "data": {
      "text/plain": [
       "[-1.2368446852752082,\n",
       " -0.7967891061940006,\n",
       " -3.37325987437599,\n",
       " 0.48283903393535116,\n",
       " 1.0576690287309543,\n",
       " -1.650501432769964,\n",
       " 3.327337697473837,\n",
       " 1.3358068793341418,\n",
       " 1.332492389349098,\n",
       " 5.866363435072885,\n",
       " 7.8279849735257585]"
      ]
     },
     "execution_count": 179,
     "metadata": {},
     "output_type": "execute_result"
    }
   ],
   "source": [
    "[uy1(i) for i in np.linspace(0, 3, num=11)]"
   ]
  },
  {
   "cell_type": "code",
   "execution_count": 151,
   "metadata": {},
   "outputs": [],
   "source": [
    "import scipy.integrate as integrate"
   ]
  },
  {
   "cell_type": "code",
   "execution_count": 164,
   "metadata": {},
   "outputs": [],
   "source": []
  },
  {
   "cell_type": "code",
   "execution_count": 167,
   "metadata": {},
   "outputs": [
    {
     "name": "stderr",
     "output_type": "stream",
     "text": [
      "/anaconda/lib/python3.6/site-packages/ipykernel_launcher.py:1: IntegrationWarning: The maximum number of subdivisions (50) has been achieved.\n",
      "  If increasing the limit yields no improvement it is advised to analyze \n",
      "  the integrand in order to determine the difficulties.  If the position of a \n",
      "  local difficulty can be determined (singularity, discontinuity) one will \n",
      "  probably gain from splitting up the interval and calling the integrator \n",
      "  on the subranges.  Perhaps a special-purpose integrator should be used.\n",
      "  \"\"\"Entry point for launching an IPython kernel.\n"
     ]
    },
    {
     "data": {
      "text/plain": [
       "(1.684763439868675e-14, 1.053844566743313e-07)"
      ]
     },
     "execution_count": 167,
     "metadata": {},
     "output_type": "execute_result"
    }
   ],
   "source": [
    "integrate.quad(ux1, 0, 2*np.pi)"
   ]
  },
  {
   "cell_type": "code",
   "execution_count": 200,
   "metadata": {},
   "outputs": [
    {
     "data": {
      "text/plain": [
       "0.3317715257707842"
      ]
     },
     "execution_count": 200,
     "metadata": {},
     "output_type": "execute_result"
    }
   ],
   "source": [
    "integrate.romberg(ux1, 0, 2*np.pi)"
   ]
  },
  {
   "cell_type": "code",
   "execution_count": 201,
   "metadata": {},
   "outputs": [
    {
     "data": {
      "text/plain": [
       "-1.7609177642890007e-06"
      ]
     },
     "execution_count": 201,
     "metadata": {},
     "output_type": "execute_result"
    }
   ],
   "source": [
    "integrate.romberg(uy1, 0, 2*np.pi)"
   ]
  },
  {
   "cell_type": "code",
   "execution_count": null,
   "metadata": {},
   "outputs": [],
   "source": []
  }
 ],
 "metadata": {
  "kernelspec": {
   "display_name": "Python 3",
   "language": "python",
   "name": "python3"
  },
  "language_info": {
   "codemirror_mode": {
    "name": "ipython",
    "version": 3
   },
   "file_extension": ".py",
   "mimetype": "text/x-python",
   "name": "python",
   "nbconvert_exporter": "python",
   "pygments_lexer": "ipython3",
   "version": "3.6.10"
  }
 },
 "nbformat": 4,
 "nbformat_minor": 2
}
